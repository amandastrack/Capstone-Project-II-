{
 "cells": [
  {
   "cell_type": "code",
   "execution_count": 1,
   "metadata": {},
   "outputs": [],
   "source": [
    "import pandas as pd\n",
    "import seaborn as sns\n",
    "import matplotlib\n",
    "import matplotlib.pyplot as plt\n",
    "\n",
    "#import dataset\n",
    "user_df = pd.read_csv('User_SongFeatures_data.csv')"
   ]
  },
  {
   "cell_type": "markdown",
   "metadata": {},
   "source": [
    "For our model we will randomly split the dataset into three. There will be two test data sets and one validation dataset. The first data set will be used to perform matrix factorization to extract user and item latent factors. The second dataset will be used to train our classification model. And lastly, our validation set will be used to evaluate our model. "
   ]
  },
  {
   "cell_type": "code",
   "execution_count": 2,
   "metadata": {},
   "outputs": [
    {
     "data": {
      "text/plain": [
       "3355"
      ]
     },
     "execution_count": 2,
     "metadata": {},
     "output_type": "execute_result"
    }
   ],
   "source": [
    "# split into train, train 2 and validation set\n",
    "# make sure users who have only listened once is in train set\n",
    "\n",
    "song_count = user_df.groupby('user_id').count()[['song_id']].reset_index()\n",
    "one_timers = song_count[song_count['song_id'] == 1]\n",
    "len(one_timers)"
   ]
  },
  {
   "cell_type": "code",
   "execution_count": 3,
   "metadata": {},
   "outputs": [],
   "source": [
    "# subset data of users who only listened one time\n",
    "one_df = user_df[user_df.user_id.isin(one_timers.user_id)]"
   ]
  },
  {
   "cell_type": "code",
   "execution_count": 4,
   "metadata": {},
   "outputs": [
    {
     "data": {
      "text/plain": [
       "1139721"
      ]
     },
     "execution_count": 4,
     "metadata": {},
     "output_type": "execute_result"
    }
   ],
   "source": [
    "# subset rest of data\n",
    "df = user_df[~user_df.user_id.isin(one_timers.user_id)]\n",
    "len(df)"
   ]
  },
  {
   "cell_type": "code",
   "execution_count": 5,
   "metadata": {},
   "outputs": [],
   "source": [
    "X = df.drop('listen_count', axis=1)\n",
    "y = df.listen_count"
   ]
  },
  {
   "cell_type": "code",
   "execution_count": 6,
   "metadata": {},
   "outputs": [],
   "source": [
    "from sklearn.model_selection import train_test_split\n",
    "\n",
    "X_train, X_test, y_train, y_test = train_test_split(X, y, test_size=0.4, random_state=1)\n",
    "\n",
    "X_train, X_val, y_train, y_val = train_test_split(X_train, y_train, test_size=0.4, random_state=1)"
   ]
  },
  {
   "cell_type": "code",
   "execution_count": 7,
   "metadata": {},
   "outputs": [
    {
     "name": "stdout",
     "output_type": "stream",
     "text": [
      "410299\n",
      "455889\n",
      "273533\n"
     ]
    }
   ],
   "source": [
    "print(len(X_train))\n",
    "print(len(X_test))\n",
    "print(len(X_val))"
   ]
  },
  {
   "cell_type": "code",
   "execution_count": 8,
   "metadata": {},
   "outputs": [
    {
     "name": "stderr",
     "output_type": "stream",
     "text": [
      "c:\\users\\amand\\appdata\\local\\programs\\python\\python37\\lib\\site-packages\\pandas\\core\\frame.py:6211: FutureWarning: Sorting because non-concatenation axis is not aligned. A future version\n",
      "of pandas will change to not sort by default.\n",
      "\n",
      "To accept the future behavior, pass 'sort=False'.\n",
      "\n",
      "To retain the current behavior and silence the warning, pass 'sort=True'.\n",
      "\n",
      "  sort=sort)\n"
     ]
    }
   ],
   "source": [
    "train1 = X_train.join(y_train).append(one_df, ignore_index=True)\n",
    "train2 = X_test.join(y_test)\n",
    "val = X_val.join(y_val)"
   ]
  },
  {
   "cell_type": "code",
   "execution_count": 9,
   "metadata": {},
   "outputs": [
    {
     "name": "stdout",
     "output_type": "stream",
     "text": [
      "413654\n",
      "455889\n",
      "273533\n"
     ]
    }
   ],
   "source": [
    "print(len(train1))\n",
    "print(len(train2))\n",
    "print(len(val))"
   ]
  },
  {
   "cell_type": "code",
   "execution_count": 10,
   "metadata": {},
   "outputs": [
    {
     "name": "stdout",
     "output_type": "stream",
     "text": [
      "69433\n",
      "5730\n"
     ]
    }
   ],
   "source": [
    "# since there are songs with multiple ids with have to group by user id and song and sum the listen counts\n",
    "\n",
    "train1_df = train1.groupby(['user_id','song'], as_index=False)['listen_count'].sum()\n",
    "print(train1_df.user_id.nunique())\n",
    "print(train1_df.song.nunique())"
   ]
  },
  {
   "cell_type": "markdown",
   "metadata": {},
   "source": [
    "Before we perform non negative matrix factorization on our dataset we must first transform it into a matrix with user_id and song and the corresponding listen count. "
   ]
  },
  {
   "cell_type": "code",
   "execution_count": 11,
   "metadata": {},
   "outputs": [
    {
     "data": {
      "text/html": [
       "<div>\n",
       "<style scoped>\n",
       "    .dataframe tbody tr th:only-of-type {\n",
       "        vertical-align: middle;\n",
       "    }\n",
       "\n",
       "    .dataframe tbody tr th {\n",
       "        vertical-align: top;\n",
       "    }\n",
       "\n",
       "    .dataframe thead th {\n",
       "        text-align: right;\n",
       "    }\n",
       "</style>\n",
       "<table border=\"1\" class=\"dataframe\">\n",
       "  <thead>\n",
       "    <tr style=\"text-align: right;\">\n",
       "      <th>song</th>\n",
       "      <th>&amp; Down - Boys Noize</th>\n",
       "      <th>' Cello Song - Nick Drake</th>\n",
       "      <th>'97 Bonnie &amp; Clyde - Eminem</th>\n",
       "      <th>'Round Midnight - Amy Winehouse</th>\n",
       "      <th>'Round Midnight - Miles Davis</th>\n",
       "      <th>(Antichrist Television Blues) - Arcade Fire</th>\n",
       "      <th>(I Just) Died In Your Arms - Cutting Crew</th>\n",
       "      <th>(If You're Wondering If I Want You To) I Want You To - Weezer</th>\n",
       "      <th>(Nice Dream) - Radiohead</th>\n",
       "      <th>(The Symphony Of) Blase' - Anberlin</th>\n",
       "      <th>...</th>\n",
       "      <th>and then patterns - Four Tet</th>\n",
       "      <th>clouding - Four Tet</th>\n",
       "      <th>high fives - Four Tet</th>\n",
       "      <th>in white rooms - Booka Shade</th>\n",
       "      <th>mOBSCENE - Marilyn Manson</th>\n",
       "      <th>paranoid android - Christopher O'Riley</th>\n",
       "      <th>smile around the face - Four Tet</th>\n",
       "      <th>sun drums and soil - Four Tet</th>\n",
       "      <th>the Love Song - K-OS</th>\n",
       "      <th>you were there with me - Four Tet</th>\n",
       "    </tr>\n",
       "    <tr>\n",
       "      <th>user_id</th>\n",
       "      <th></th>\n",
       "      <th></th>\n",
       "      <th></th>\n",
       "      <th></th>\n",
       "      <th></th>\n",
       "      <th></th>\n",
       "      <th></th>\n",
       "      <th></th>\n",
       "      <th></th>\n",
       "      <th></th>\n",
       "      <th></th>\n",
       "      <th></th>\n",
       "      <th></th>\n",
       "      <th></th>\n",
       "      <th></th>\n",
       "      <th></th>\n",
       "      <th></th>\n",
       "      <th></th>\n",
       "      <th></th>\n",
       "      <th></th>\n",
       "      <th></th>\n",
       "    </tr>\n",
       "  </thead>\n",
       "  <tbody>\n",
       "    <tr>\n",
       "      <th>00003a4459f33b92906be11abe0e93efc423c0ff</th>\n",
       "      <td>0.0</td>\n",
       "      <td>0.0</td>\n",
       "      <td>0.0</td>\n",
       "      <td>0.0</td>\n",
       "      <td>0.0</td>\n",
       "      <td>0.0</td>\n",
       "      <td>0.0</td>\n",
       "      <td>0.0</td>\n",
       "      <td>0.0</td>\n",
       "      <td>0.0</td>\n",
       "      <td>...</td>\n",
       "      <td>0.0</td>\n",
       "      <td>0.0</td>\n",
       "      <td>0.0</td>\n",
       "      <td>0.0</td>\n",
       "      <td>0.0</td>\n",
       "      <td>0.0</td>\n",
       "      <td>0.0</td>\n",
       "      <td>0.0</td>\n",
       "      <td>0.0</td>\n",
       "      <td>0.0</td>\n",
       "    </tr>\n",
       "    <tr>\n",
       "      <th>00005c6177188f12fb5e2e82cdbd93e8a3f35e64</th>\n",
       "      <td>0.0</td>\n",
       "      <td>0.0</td>\n",
       "      <td>0.0</td>\n",
       "      <td>0.0</td>\n",
       "      <td>0.0</td>\n",
       "      <td>0.0</td>\n",
       "      <td>0.0</td>\n",
       "      <td>0.0</td>\n",
       "      <td>0.0</td>\n",
       "      <td>0.0</td>\n",
       "      <td>...</td>\n",
       "      <td>0.0</td>\n",
       "      <td>0.0</td>\n",
       "      <td>0.0</td>\n",
       "      <td>0.0</td>\n",
       "      <td>0.0</td>\n",
       "      <td>0.0</td>\n",
       "      <td>0.0</td>\n",
       "      <td>0.0</td>\n",
       "      <td>0.0</td>\n",
       "      <td>0.0</td>\n",
       "    </tr>\n",
       "    <tr>\n",
       "      <th>00030033e3a2f904a48ec1dd53019c9969b6ef1f</th>\n",
       "      <td>0.0</td>\n",
       "      <td>0.0</td>\n",
       "      <td>0.0</td>\n",
       "      <td>0.0</td>\n",
       "      <td>0.0</td>\n",
       "      <td>0.0</td>\n",
       "      <td>0.0</td>\n",
       "      <td>0.0</td>\n",
       "      <td>0.0</td>\n",
       "      <td>0.0</td>\n",
       "      <td>...</td>\n",
       "      <td>0.0</td>\n",
       "      <td>0.0</td>\n",
       "      <td>0.0</td>\n",
       "      <td>0.0</td>\n",
       "      <td>0.0</td>\n",
       "      <td>0.0</td>\n",
       "      <td>0.0</td>\n",
       "      <td>0.0</td>\n",
       "      <td>0.0</td>\n",
       "      <td>0.0</td>\n",
       "    </tr>\n",
       "    <tr>\n",
       "      <th>0007235c769e610e3d339a17818a5708e41008d9</th>\n",
       "      <td>0.0</td>\n",
       "      <td>0.0</td>\n",
       "      <td>0.0</td>\n",
       "      <td>0.0</td>\n",
       "      <td>0.0</td>\n",
       "      <td>0.0</td>\n",
       "      <td>0.0</td>\n",
       "      <td>0.0</td>\n",
       "      <td>0.0</td>\n",
       "      <td>0.0</td>\n",
       "      <td>...</td>\n",
       "      <td>0.0</td>\n",
       "      <td>0.0</td>\n",
       "      <td>0.0</td>\n",
       "      <td>0.0</td>\n",
       "      <td>0.0</td>\n",
       "      <td>0.0</td>\n",
       "      <td>0.0</td>\n",
       "      <td>0.0</td>\n",
       "      <td>0.0</td>\n",
       "      <td>0.0</td>\n",
       "    </tr>\n",
       "    <tr>\n",
       "      <th>000a5c8b4d8b2c98f7a205219181d039edcd4506</th>\n",
       "      <td>0.0</td>\n",
       "      <td>0.0</td>\n",
       "      <td>0.0</td>\n",
       "      <td>0.0</td>\n",
       "      <td>0.0</td>\n",
       "      <td>0.0</td>\n",
       "      <td>0.0</td>\n",
       "      <td>0.0</td>\n",
       "      <td>0.0</td>\n",
       "      <td>0.0</td>\n",
       "      <td>...</td>\n",
       "      <td>0.0</td>\n",
       "      <td>0.0</td>\n",
       "      <td>0.0</td>\n",
       "      <td>0.0</td>\n",
       "      <td>0.0</td>\n",
       "      <td>0.0</td>\n",
       "      <td>0.0</td>\n",
       "      <td>0.0</td>\n",
       "      <td>0.0</td>\n",
       "      <td>0.0</td>\n",
       "    </tr>\n",
       "  </tbody>\n",
       "</table>\n",
       "<p>5 rows × 5730 columns</p>\n",
       "</div>"
      ],
      "text/plain": [
       "song                                      & Down - Boys Noize  \\\n",
       "user_id                                                         \n",
       "00003a4459f33b92906be11abe0e93efc423c0ff                  0.0   \n",
       "00005c6177188f12fb5e2e82cdbd93e8a3f35e64                  0.0   \n",
       "00030033e3a2f904a48ec1dd53019c9969b6ef1f                  0.0   \n",
       "0007235c769e610e3d339a17818a5708e41008d9                  0.0   \n",
       "000a5c8b4d8b2c98f7a205219181d039edcd4506                  0.0   \n",
       "\n",
       "song                                      ' Cello Song - Nick Drake  \\\n",
       "user_id                                                               \n",
       "00003a4459f33b92906be11abe0e93efc423c0ff                        0.0   \n",
       "00005c6177188f12fb5e2e82cdbd93e8a3f35e64                        0.0   \n",
       "00030033e3a2f904a48ec1dd53019c9969b6ef1f                        0.0   \n",
       "0007235c769e610e3d339a17818a5708e41008d9                        0.0   \n",
       "000a5c8b4d8b2c98f7a205219181d039edcd4506                        0.0   \n",
       "\n",
       "song                                      '97 Bonnie & Clyde - Eminem  \\\n",
       "user_id                                                                 \n",
       "00003a4459f33b92906be11abe0e93efc423c0ff                          0.0   \n",
       "00005c6177188f12fb5e2e82cdbd93e8a3f35e64                          0.0   \n",
       "00030033e3a2f904a48ec1dd53019c9969b6ef1f                          0.0   \n",
       "0007235c769e610e3d339a17818a5708e41008d9                          0.0   \n",
       "000a5c8b4d8b2c98f7a205219181d039edcd4506                          0.0   \n",
       "\n",
       "song                                      'Round Midnight - Amy Winehouse  \\\n",
       "user_id                                                                     \n",
       "00003a4459f33b92906be11abe0e93efc423c0ff                              0.0   \n",
       "00005c6177188f12fb5e2e82cdbd93e8a3f35e64                              0.0   \n",
       "00030033e3a2f904a48ec1dd53019c9969b6ef1f                              0.0   \n",
       "0007235c769e610e3d339a17818a5708e41008d9                              0.0   \n",
       "000a5c8b4d8b2c98f7a205219181d039edcd4506                              0.0   \n",
       "\n",
       "song                                      'Round Midnight - Miles Davis  \\\n",
       "user_id                                                                   \n",
       "00003a4459f33b92906be11abe0e93efc423c0ff                            0.0   \n",
       "00005c6177188f12fb5e2e82cdbd93e8a3f35e64                            0.0   \n",
       "00030033e3a2f904a48ec1dd53019c9969b6ef1f                            0.0   \n",
       "0007235c769e610e3d339a17818a5708e41008d9                            0.0   \n",
       "000a5c8b4d8b2c98f7a205219181d039edcd4506                            0.0   \n",
       "\n",
       "song                                      (Antichrist Television Blues) - Arcade Fire  \\\n",
       "user_id                                                                                 \n",
       "00003a4459f33b92906be11abe0e93efc423c0ff                                          0.0   \n",
       "00005c6177188f12fb5e2e82cdbd93e8a3f35e64                                          0.0   \n",
       "00030033e3a2f904a48ec1dd53019c9969b6ef1f                                          0.0   \n",
       "0007235c769e610e3d339a17818a5708e41008d9                                          0.0   \n",
       "000a5c8b4d8b2c98f7a205219181d039edcd4506                                          0.0   \n",
       "\n",
       "song                                      (I Just) Died In Your Arms - Cutting Crew  \\\n",
       "user_id                                                                               \n",
       "00003a4459f33b92906be11abe0e93efc423c0ff                                        0.0   \n",
       "00005c6177188f12fb5e2e82cdbd93e8a3f35e64                                        0.0   \n",
       "00030033e3a2f904a48ec1dd53019c9969b6ef1f                                        0.0   \n",
       "0007235c769e610e3d339a17818a5708e41008d9                                        0.0   \n",
       "000a5c8b4d8b2c98f7a205219181d039edcd4506                                        0.0   \n",
       "\n",
       "song                                      (If You're Wondering If I Want You To) I Want You To - Weezer  \\\n",
       "user_id                                                                                                   \n",
       "00003a4459f33b92906be11abe0e93efc423c0ff                                                0.0               \n",
       "00005c6177188f12fb5e2e82cdbd93e8a3f35e64                                                0.0               \n",
       "00030033e3a2f904a48ec1dd53019c9969b6ef1f                                                0.0               \n",
       "0007235c769e610e3d339a17818a5708e41008d9                                                0.0               \n",
       "000a5c8b4d8b2c98f7a205219181d039edcd4506                                                0.0               \n",
       "\n",
       "song                                      (Nice Dream) - Radiohead  \\\n",
       "user_id                                                              \n",
       "00003a4459f33b92906be11abe0e93efc423c0ff                       0.0   \n",
       "00005c6177188f12fb5e2e82cdbd93e8a3f35e64                       0.0   \n",
       "00030033e3a2f904a48ec1dd53019c9969b6ef1f                       0.0   \n",
       "0007235c769e610e3d339a17818a5708e41008d9                       0.0   \n",
       "000a5c8b4d8b2c98f7a205219181d039edcd4506                       0.0   \n",
       "\n",
       "song                                      (The Symphony Of) Blase' - Anberlin  \\\n",
       "user_id                                                                         \n",
       "00003a4459f33b92906be11abe0e93efc423c0ff                                  0.0   \n",
       "00005c6177188f12fb5e2e82cdbd93e8a3f35e64                                  0.0   \n",
       "00030033e3a2f904a48ec1dd53019c9969b6ef1f                                  0.0   \n",
       "0007235c769e610e3d339a17818a5708e41008d9                                  0.0   \n",
       "000a5c8b4d8b2c98f7a205219181d039edcd4506                                  0.0   \n",
       "\n",
       "song                                                    ...                  \\\n",
       "user_id                                                 ...                   \n",
       "00003a4459f33b92906be11abe0e93efc423c0ff                ...                   \n",
       "00005c6177188f12fb5e2e82cdbd93e8a3f35e64                ...                   \n",
       "00030033e3a2f904a48ec1dd53019c9969b6ef1f                ...                   \n",
       "0007235c769e610e3d339a17818a5708e41008d9                ...                   \n",
       "000a5c8b4d8b2c98f7a205219181d039edcd4506                ...                   \n",
       "\n",
       "song                                      and then patterns - Four Tet  \\\n",
       "user_id                                                                  \n",
       "00003a4459f33b92906be11abe0e93efc423c0ff                           0.0   \n",
       "00005c6177188f12fb5e2e82cdbd93e8a3f35e64                           0.0   \n",
       "00030033e3a2f904a48ec1dd53019c9969b6ef1f                           0.0   \n",
       "0007235c769e610e3d339a17818a5708e41008d9                           0.0   \n",
       "000a5c8b4d8b2c98f7a205219181d039edcd4506                           0.0   \n",
       "\n",
       "song                                      clouding - Four Tet  \\\n",
       "user_id                                                         \n",
       "00003a4459f33b92906be11abe0e93efc423c0ff                  0.0   \n",
       "00005c6177188f12fb5e2e82cdbd93e8a3f35e64                  0.0   \n",
       "00030033e3a2f904a48ec1dd53019c9969b6ef1f                  0.0   \n",
       "0007235c769e610e3d339a17818a5708e41008d9                  0.0   \n",
       "000a5c8b4d8b2c98f7a205219181d039edcd4506                  0.0   \n",
       "\n",
       "song                                      high fives - Four Tet  \\\n",
       "user_id                                                           \n",
       "00003a4459f33b92906be11abe0e93efc423c0ff                    0.0   \n",
       "00005c6177188f12fb5e2e82cdbd93e8a3f35e64                    0.0   \n",
       "00030033e3a2f904a48ec1dd53019c9969b6ef1f                    0.0   \n",
       "0007235c769e610e3d339a17818a5708e41008d9                    0.0   \n",
       "000a5c8b4d8b2c98f7a205219181d039edcd4506                    0.0   \n",
       "\n",
       "song                                      in white rooms - Booka Shade  \\\n",
       "user_id                                                                  \n",
       "00003a4459f33b92906be11abe0e93efc423c0ff                           0.0   \n",
       "00005c6177188f12fb5e2e82cdbd93e8a3f35e64                           0.0   \n",
       "00030033e3a2f904a48ec1dd53019c9969b6ef1f                           0.0   \n",
       "0007235c769e610e3d339a17818a5708e41008d9                           0.0   \n",
       "000a5c8b4d8b2c98f7a205219181d039edcd4506                           0.0   \n",
       "\n",
       "song                                      mOBSCENE - Marilyn Manson  \\\n",
       "user_id                                                               \n",
       "00003a4459f33b92906be11abe0e93efc423c0ff                        0.0   \n",
       "00005c6177188f12fb5e2e82cdbd93e8a3f35e64                        0.0   \n",
       "00030033e3a2f904a48ec1dd53019c9969b6ef1f                        0.0   \n",
       "0007235c769e610e3d339a17818a5708e41008d9                        0.0   \n",
       "000a5c8b4d8b2c98f7a205219181d039edcd4506                        0.0   \n",
       "\n",
       "song                                      paranoid android - Christopher O'Riley  \\\n",
       "user_id                                                                            \n",
       "00003a4459f33b92906be11abe0e93efc423c0ff                                     0.0   \n",
       "00005c6177188f12fb5e2e82cdbd93e8a3f35e64                                     0.0   \n",
       "00030033e3a2f904a48ec1dd53019c9969b6ef1f                                     0.0   \n",
       "0007235c769e610e3d339a17818a5708e41008d9                                     0.0   \n",
       "000a5c8b4d8b2c98f7a205219181d039edcd4506                                     0.0   \n",
       "\n",
       "song                                      smile around the face - Four Tet  \\\n",
       "user_id                                                                      \n",
       "00003a4459f33b92906be11abe0e93efc423c0ff                               0.0   \n",
       "00005c6177188f12fb5e2e82cdbd93e8a3f35e64                               0.0   \n",
       "00030033e3a2f904a48ec1dd53019c9969b6ef1f                               0.0   \n",
       "0007235c769e610e3d339a17818a5708e41008d9                               0.0   \n",
       "000a5c8b4d8b2c98f7a205219181d039edcd4506                               0.0   \n",
       "\n",
       "song                                      sun drums and soil - Four Tet  \\\n",
       "user_id                                                                   \n",
       "00003a4459f33b92906be11abe0e93efc423c0ff                            0.0   \n",
       "00005c6177188f12fb5e2e82cdbd93e8a3f35e64                            0.0   \n",
       "00030033e3a2f904a48ec1dd53019c9969b6ef1f                            0.0   \n",
       "0007235c769e610e3d339a17818a5708e41008d9                            0.0   \n",
       "000a5c8b4d8b2c98f7a205219181d039edcd4506                            0.0   \n",
       "\n",
       "song                                      the Love Song - K-OS  \\\n",
       "user_id                                                          \n",
       "00003a4459f33b92906be11abe0e93efc423c0ff                   0.0   \n",
       "00005c6177188f12fb5e2e82cdbd93e8a3f35e64                   0.0   \n",
       "00030033e3a2f904a48ec1dd53019c9969b6ef1f                   0.0   \n",
       "0007235c769e610e3d339a17818a5708e41008d9                   0.0   \n",
       "000a5c8b4d8b2c98f7a205219181d039edcd4506                   0.0   \n",
       "\n",
       "song                                      you were there with me - Four Tet  \n",
       "user_id                                                                      \n",
       "00003a4459f33b92906be11abe0e93efc423c0ff                                0.0  \n",
       "00005c6177188f12fb5e2e82cdbd93e8a3f35e64                                0.0  \n",
       "00030033e3a2f904a48ec1dd53019c9969b6ef1f                                0.0  \n",
       "0007235c769e610e3d339a17818a5708e41008d9                                0.0  \n",
       "000a5c8b4d8b2c98f7a205219181d039edcd4506                                0.0  \n",
       "\n",
       "[5 rows x 5730 columns]"
      ]
     },
     "execution_count": 11,
     "metadata": {},
     "output_type": "execute_result"
    }
   ],
   "source": [
    "mf_df = train1_df.pivot(index = 'user_id', columns ='song', values = 'listen_count').fillna(0)\n",
    "mf_df.head()\n",
    "# https://stackoverflow.com/questions/57370472/recommendation-system-with-matrix-factorization-for-huge-data-gives-memoryerror"
   ]
  },
  {
   "cell_type": "code",
   "execution_count": 12,
   "metadata": {},
   "outputs": [
    {
     "name": "stderr",
     "output_type": "stream",
     "text": [
      "c:\\users\\amand\\appdata\\local\\programs\\python\\python37\\lib\\site-packages\\ipykernel_launcher.py:3: FutureWarning: Method .as_matrix will be removed in a future version. Use .values instead.\n",
      "  This is separate from the ipykernel package so we can avoid doing imports until\n"
     ]
    }
   ],
   "source": [
    "# turn into matrix\n",
    "\n",
    "mf_df = mf_df.as_matrix()"
   ]
  },
  {
   "cell_type": "markdown",
   "metadata": {},
   "source": [
    "We will now perform non negative matrix factorization to extract latent factors from our matrix."
   ]
  },
  {
   "cell_type": "code",
   "execution_count": 13,
   "metadata": {},
   "outputs": [],
   "source": [
    "from sklearn.decomposition import NMF\n",
    "\n",
    "model = NMF(n_components=7, init='random', random_state=0)\n",
    "W = model.fit_transform(mf_df)\n",
    "H = model.components_\n",
    "\n",
    "# https://stackoverflow.com/questions/57370472/recommendation-system-with-matrix-factorization-for-huge-data-gives-memoryerror"
   ]
  },
  {
   "cell_type": "markdown",
   "metadata": {},
   "source": [
    "Pick number of components with best score."
   ]
  },
  {
   "cell_type": "code",
   "execution_count": 14,
   "metadata": {},
   "outputs": [
    {
     "name": "stderr",
     "output_type": "stream",
     "text": [
      "ERROR:root:Internal Python error in the inspect module.\n",
      "Below is the traceback from this internal error.\n",
      "\n",
      "\n",
      "KeyboardInterrupt\n",
      "\n"
     ]
    }
   ],
   "source": [
    "## HAVE NOT EXECUTED YET ##\n",
    "from sklearn import decomposition, datasets, model_selection, preprocessing, metrics\n",
    "\n",
    "def get_score(model, data, scorer=metrics.explained_variance_score):\n",
    "    \"\"\" Estimate performance of the model on the data \"\"\"\n",
    "    prediction = model.inverse_transform(model.transform(data))\n",
    "    return scorer(data, prediction)\n",
    "\n",
    "ks = [5,6,7]\n",
    "perfs_train = []\n",
    "perfs_test = []\n",
    "for k in ks:\n",
    "    nmf = NMF(n_components=k, init='random', random_state=0).fit(mf_df)\n",
    "    perfs_train.append(get_score(nmf, mf_df))\n",
    "print(perfs_train)\n"
   ]
  },
  {
   "cell_type": "code",
   "execution_count": 15,
   "metadata": {},
   "outputs": [
    {
     "data": {
      "text/plain": [
       "(69433, 7)"
      ]
     },
     "execution_count": 15,
     "metadata": {},
     "output_type": "execute_result"
    }
   ],
   "source": [
    "W.shape"
   ]
  },
  {
   "cell_type": "code",
   "execution_count": 16,
   "metadata": {
    "scrolled": true
   },
   "outputs": [
    {
     "data": {
      "text/plain": [
       "array([[2.29228068e-08, 8.67592092e-06, 0.00000000e+00, ...,\n",
       "        2.89032627e-05, 7.30421687e-07, 7.14826463e-08],\n",
       "       [0.00000000e+00, 0.00000000e+00, 0.00000000e+00, ...,\n",
       "        1.58918422e-04, 6.17474877e-06, 2.11221576e-07],\n",
       "       [0.00000000e+00, 0.00000000e+00, 0.00000000e+00, ...,\n",
       "        4.92210821e-01, 0.00000000e+00, 0.00000000e+00],\n",
       "       ...,\n",
       "       [4.10573248e-06, 1.42774099e-05, 2.80199734e-05, ...,\n",
       "        6.19839755e-05, 8.47343874e-06, 2.94954799e-06],\n",
       "       [5.86095724e-06, 1.63583658e-04, 3.62764354e-05, ...,\n",
       "        4.32615926e-04, 1.60673843e-05, 4.21652039e-06],\n",
       "       [5.77237798e-07, 3.13436797e-04, 1.55806663e-05, ...,\n",
       "        8.49770043e-05, 4.69959442e-05, 7.29944211e-06]])"
      ]
     },
     "execution_count": 16,
     "metadata": {},
     "output_type": "execute_result"
    }
   ],
   "source": [
    "W"
   ]
  },
  {
   "cell_type": "code",
   "execution_count": 17,
   "metadata": {},
   "outputs": [
    {
     "data": {
      "text/plain": [
       "array([[3.73600847e-06, 6.79938883e-07, 2.74834595e-07, ...,\n",
       "        2.56567450e-07, 3.03186699e-07, 7.03629518e-08],\n",
       "       [6.94515711e-05, 1.55863634e-05, 1.78821950e-05, ...,\n",
       "        7.50019874e-06, 8.66720493e-04, 2.84011406e-06],\n",
       "       [0.00000000e+00, 0.00000000e+00, 5.60078809e-07, ...,\n",
       "        6.65113220e-05, 7.09465288e-06, 1.26295718e-06],\n",
       "       ...,\n",
       "       [2.21425535e-03, 3.02677106e-04, 6.05542492e-04, ...,\n",
       "        2.41360136e-04, 2.54805727e-04, 5.04269483e-05],\n",
       "       [3.65716851e-02, 7.14558128e-05, 1.18989626e-04, ...,\n",
       "        3.38875127e-05, 8.05220915e-05, 2.64381162e-05],\n",
       "       [1.00440182e-04, 3.97826286e-05, 1.15116200e-05, ...,\n",
       "        1.33479074e-05, 1.32953736e-04, 5.02861851e-06]])"
      ]
     },
     "execution_count": 17,
     "metadata": {},
     "output_type": "execute_result"
    }
   ],
   "source": [
    "H"
   ]
  },
  {
   "cell_type": "code",
   "execution_count": 18,
   "metadata": {},
   "outputs": [],
   "source": [
    "import numpy as np\n",
    "\n",
    "user = pd.DataFrame(W, columns = ['u1','u2','u3','u4','u5','u6','u7'])\n",
    "\n",
    "song = pd.DataFrame(H).transpose()\n"
   ]
  },
  {
   "cell_type": "code",
   "execution_count": 19,
   "metadata": {},
   "outputs": [
    {
     "data": {
      "text/html": [
       "<div>\n",
       "<style scoped>\n",
       "    .dataframe tbody tr th:only-of-type {\n",
       "        vertical-align: middle;\n",
       "    }\n",
       "\n",
       "    .dataframe tbody tr th {\n",
       "        vertical-align: top;\n",
       "    }\n",
       "\n",
       "    .dataframe thead th {\n",
       "        text-align: right;\n",
       "    }\n",
       "</style>\n",
       "<table border=\"1\" class=\"dataframe\">\n",
       "  <thead>\n",
       "    <tr style=\"text-align: right;\">\n",
       "      <th></th>\n",
       "      <th>u1</th>\n",
       "      <th>u2</th>\n",
       "      <th>u3</th>\n",
       "      <th>u4</th>\n",
       "      <th>u5</th>\n",
       "      <th>u6</th>\n",
       "      <th>u7</th>\n",
       "    </tr>\n",
       "  </thead>\n",
       "  <tbody>\n",
       "    <tr>\n",
       "      <th>0</th>\n",
       "      <td>2.292281e-08</td>\n",
       "      <td>8.675921e-06</td>\n",
       "      <td>0.000000</td>\n",
       "      <td>0.000055</td>\n",
       "      <td>0.000029</td>\n",
       "      <td>7.304217e-07</td>\n",
       "      <td>7.148265e-08</td>\n",
       "    </tr>\n",
       "    <tr>\n",
       "      <th>1</th>\n",
       "      <td>0.000000e+00</td>\n",
       "      <td>0.000000e+00</td>\n",
       "      <td>0.000000</td>\n",
       "      <td>0.000196</td>\n",
       "      <td>0.000159</td>\n",
       "      <td>6.174749e-06</td>\n",
       "      <td>2.112216e-07</td>\n",
       "    </tr>\n",
       "    <tr>\n",
       "      <th>2</th>\n",
       "      <td>0.000000e+00</td>\n",
       "      <td>0.000000e+00</td>\n",
       "      <td>0.000000</td>\n",
       "      <td>0.000000</td>\n",
       "      <td>0.492211</td>\n",
       "      <td>0.000000e+00</td>\n",
       "      <td>0.000000e+00</td>\n",
       "    </tr>\n",
       "    <tr>\n",
       "      <th>3</th>\n",
       "      <td>4.859820e-08</td>\n",
       "      <td>6.610512e-06</td>\n",
       "      <td>0.000002</td>\n",
       "      <td>0.000011</td>\n",
       "      <td>0.000012</td>\n",
       "      <td>2.942126e-05</td>\n",
       "      <td>1.186700e-05</td>\n",
       "    </tr>\n",
       "    <tr>\n",
       "      <th>4</th>\n",
       "      <td>4.055804e-06</td>\n",
       "      <td>9.234415e-07</td>\n",
       "      <td>0.000052</td>\n",
       "      <td>0.000006</td>\n",
       "      <td>0.000018</td>\n",
       "      <td>3.937425e-07</td>\n",
       "      <td>3.131225e-05</td>\n",
       "    </tr>\n",
       "  </tbody>\n",
       "</table>\n",
       "</div>"
      ],
      "text/plain": [
       "             u1            u2        u3        u4        u5            u6  \\\n",
       "0  2.292281e-08  8.675921e-06  0.000000  0.000055  0.000029  7.304217e-07   \n",
       "1  0.000000e+00  0.000000e+00  0.000000  0.000196  0.000159  6.174749e-06   \n",
       "2  0.000000e+00  0.000000e+00  0.000000  0.000000  0.492211  0.000000e+00   \n",
       "3  4.859820e-08  6.610512e-06  0.000002  0.000011  0.000012  2.942126e-05   \n",
       "4  4.055804e-06  9.234415e-07  0.000052  0.000006  0.000018  3.937425e-07   \n",
       "\n",
       "             u7  \n",
       "0  7.148265e-08  \n",
       "1  2.112216e-07  \n",
       "2  0.000000e+00  \n",
       "3  1.186700e-05  \n",
       "4  3.131225e-05  "
      ]
     },
     "execution_count": 19,
     "metadata": {},
     "output_type": "execute_result"
    }
   ],
   "source": [
    "user.head()"
   ]
  },
  {
   "cell_type": "code",
   "execution_count": 20,
   "metadata": {},
   "outputs": [
    {
     "data": {
      "text/plain": [
       "array(['00003a4459f33b92906be11abe0e93efc423c0ff',\n",
       "       '00005c6177188f12fb5e2e82cdbd93e8a3f35e64',\n",
       "       '00030033e3a2f904a48ec1dd53019c9969b6ef1f', ...,\n",
       "       'fffd6a2bdef646ce9898b628d5dd56c43df69a9d',\n",
       "       'fffd9635b33f412de8ed02e44e6564e3644cf3c6',\n",
       "       'fffea3d509760c984e7d40789804c0e5e289cc86'], dtype=object)"
      ]
     },
     "execution_count": 20,
     "metadata": {},
     "output_type": "execute_result"
    }
   ],
   "source": [
    "train1_df.user_id.unique()"
   ]
  },
  {
   "cell_type": "markdown",
   "metadata": {},
   "source": [
    "Now we will append the user and song latent factors found to our original dataset. "
   ]
  },
  {
   "cell_type": "code",
   "execution_count": 21,
   "metadata": {},
   "outputs": [
    {
     "data": {
      "text/html": [
       "<div>\n",
       "<style scoped>\n",
       "    .dataframe tbody tr th:only-of-type {\n",
       "        vertical-align: middle;\n",
       "    }\n",
       "\n",
       "    .dataframe tbody tr th {\n",
       "        vertical-align: top;\n",
       "    }\n",
       "\n",
       "    .dataframe thead th {\n",
       "        text-align: right;\n",
       "    }\n",
       "</style>\n",
       "<table border=\"1\" class=\"dataframe\">\n",
       "  <thead>\n",
       "    <tr style=\"text-align: right;\">\n",
       "      <th></th>\n",
       "      <th>user_id</th>\n",
       "      <th>u1</th>\n",
       "      <th>u2</th>\n",
       "      <th>u3</th>\n",
       "      <th>u4</th>\n",
       "      <th>u5</th>\n",
       "      <th>u6</th>\n",
       "      <th>u7</th>\n",
       "    </tr>\n",
       "  </thead>\n",
       "  <tbody>\n",
       "    <tr>\n",
       "      <th>0</th>\n",
       "      <td>00003a4459f33b92906be11abe0e93efc423c0ff</td>\n",
       "      <td>2.292281e-08</td>\n",
       "      <td>8.675921e-06</td>\n",
       "      <td>0.000000</td>\n",
       "      <td>0.000055</td>\n",
       "      <td>0.000029</td>\n",
       "      <td>7.304217e-07</td>\n",
       "      <td>7.148265e-08</td>\n",
       "    </tr>\n",
       "    <tr>\n",
       "      <th>1</th>\n",
       "      <td>00005c6177188f12fb5e2e82cdbd93e8a3f35e64</td>\n",
       "      <td>0.000000e+00</td>\n",
       "      <td>0.000000e+00</td>\n",
       "      <td>0.000000</td>\n",
       "      <td>0.000196</td>\n",
       "      <td>0.000159</td>\n",
       "      <td>6.174749e-06</td>\n",
       "      <td>2.112216e-07</td>\n",
       "    </tr>\n",
       "    <tr>\n",
       "      <th>2</th>\n",
       "      <td>00030033e3a2f904a48ec1dd53019c9969b6ef1f</td>\n",
       "      <td>0.000000e+00</td>\n",
       "      <td>0.000000e+00</td>\n",
       "      <td>0.000000</td>\n",
       "      <td>0.000000</td>\n",
       "      <td>0.492211</td>\n",
       "      <td>0.000000e+00</td>\n",
       "      <td>0.000000e+00</td>\n",
       "    </tr>\n",
       "    <tr>\n",
       "      <th>3</th>\n",
       "      <td>0007235c769e610e3d339a17818a5708e41008d9</td>\n",
       "      <td>4.859820e-08</td>\n",
       "      <td>6.610512e-06</td>\n",
       "      <td>0.000002</td>\n",
       "      <td>0.000011</td>\n",
       "      <td>0.000012</td>\n",
       "      <td>2.942126e-05</td>\n",
       "      <td>1.186700e-05</td>\n",
       "    </tr>\n",
       "    <tr>\n",
       "      <th>4</th>\n",
       "      <td>000a5c8b4d8b2c98f7a205219181d039edcd4506</td>\n",
       "      <td>4.055804e-06</td>\n",
       "      <td>9.234415e-07</td>\n",
       "      <td>0.000052</td>\n",
       "      <td>0.000006</td>\n",
       "      <td>0.000018</td>\n",
       "      <td>3.937425e-07</td>\n",
       "      <td>3.131225e-05</td>\n",
       "    </tr>\n",
       "  </tbody>\n",
       "</table>\n",
       "</div>"
      ],
      "text/plain": [
       "                                    user_id            u1            u2  \\\n",
       "0  00003a4459f33b92906be11abe0e93efc423c0ff  2.292281e-08  8.675921e-06   \n",
       "1  00005c6177188f12fb5e2e82cdbd93e8a3f35e64  0.000000e+00  0.000000e+00   \n",
       "2  00030033e3a2f904a48ec1dd53019c9969b6ef1f  0.000000e+00  0.000000e+00   \n",
       "3  0007235c769e610e3d339a17818a5708e41008d9  4.859820e-08  6.610512e-06   \n",
       "4  000a5c8b4d8b2c98f7a205219181d039edcd4506  4.055804e-06  9.234415e-07   \n",
       "\n",
       "         u3        u4        u5            u6            u7  \n",
       "0  0.000000  0.000055  0.000029  7.304217e-07  7.148265e-08  \n",
       "1  0.000000  0.000196  0.000159  6.174749e-06  2.112216e-07  \n",
       "2  0.000000  0.000000  0.492211  0.000000e+00  0.000000e+00  \n",
       "3  0.000002  0.000011  0.000012  2.942126e-05  1.186700e-05  \n",
       "4  0.000052  0.000006  0.000018  3.937425e-07  3.131225e-05  "
      ]
     },
     "execution_count": 21,
     "metadata": {},
     "output_type": "execute_result"
    }
   ],
   "source": [
    "# add latent factors as new columns\n",
    "\n",
    "user_factors = pd.DataFrame(train1_df.user_id.unique()).join(user)\n",
    "user_factors.columns = ['user_id','u1','u2','u3','u4','u5','u6','u7']\n",
    "\n",
    "user_factors.head()\n"
   ]
  },
  {
   "cell_type": "code",
   "execution_count": 22,
   "metadata": {},
   "outputs": [
    {
     "data": {
      "text/html": [
       "<div>\n",
       "<style scoped>\n",
       "    .dataframe tbody tr th:only-of-type {\n",
       "        vertical-align: middle;\n",
       "    }\n",
       "\n",
       "    .dataframe tbody tr th {\n",
       "        vertical-align: top;\n",
       "    }\n",
       "\n",
       "    .dataframe thead th {\n",
       "        text-align: right;\n",
       "    }\n",
       "</style>\n",
       "<table border=\"1\" class=\"dataframe\">\n",
       "  <thead>\n",
       "    <tr style=\"text-align: right;\">\n",
       "      <th></th>\n",
       "      <th>song</th>\n",
       "      <th>s1</th>\n",
       "      <th>s2</th>\n",
       "      <th>s3</th>\n",
       "      <th>s4</th>\n",
       "      <th>s5</th>\n",
       "      <th>s6</th>\n",
       "      <th>s7</th>\n",
       "    </tr>\n",
       "  </thead>\n",
       "  <tbody>\n",
       "    <tr>\n",
       "      <th>0</th>\n",
       "      <td>Lights Of Ayodhya - Yulara</td>\n",
       "      <td>3.736008e-06</td>\n",
       "      <td>0.000069</td>\n",
       "      <td>0.000000e+00</td>\n",
       "      <td>0.000911</td>\n",
       "      <td>0.002214</td>\n",
       "      <td>0.036572</td>\n",
       "      <td>0.000100</td>\n",
       "    </tr>\n",
       "    <tr>\n",
       "      <th>1</th>\n",
       "      <td>Ironmasters - The Men They Couldn't Hang</td>\n",
       "      <td>6.799389e-07</td>\n",
       "      <td>0.000016</td>\n",
       "      <td>0.000000e+00</td>\n",
       "      <td>0.000091</td>\n",
       "      <td>0.000303</td>\n",
       "      <td>0.000071</td>\n",
       "      <td>0.000040</td>\n",
       "    </tr>\n",
       "    <tr>\n",
       "      <th>2</th>\n",
       "      <td>Chasing Cars - Snow Patrol</td>\n",
       "      <td>2.748346e-07</td>\n",
       "      <td>0.000018</td>\n",
       "      <td>5.600788e-07</td>\n",
       "      <td>0.000085</td>\n",
       "      <td>0.000606</td>\n",
       "      <td>0.000119</td>\n",
       "      <td>0.000012</td>\n",
       "    </tr>\n",
       "    <tr>\n",
       "      <th>3</th>\n",
       "      <td>Secrets - OneRepublic</td>\n",
       "      <td>2.552698e-07</td>\n",
       "      <td>0.000004</td>\n",
       "      <td>1.755655e-04</td>\n",
       "      <td>0.000471</td>\n",
       "      <td>0.001095</td>\n",
       "      <td>0.000043</td>\n",
       "      <td>0.000014</td>\n",
       "    </tr>\n",
       "    <tr>\n",
       "      <th>4</th>\n",
       "      <td>You'd Be So Nice To Come Home To - Julie London</td>\n",
       "      <td>9.558672e-07</td>\n",
       "      <td>0.000034</td>\n",
       "      <td>5.485172e-06</td>\n",
       "      <td>0.000166</td>\n",
       "      <td>0.000479</td>\n",
       "      <td>0.000121</td>\n",
       "      <td>0.000252</td>\n",
       "    </tr>\n",
       "  </tbody>\n",
       "</table>\n",
       "</div>"
      ],
      "text/plain": [
       "                                              song            s1        s2  \\\n",
       "0                       Lights Of Ayodhya - Yulara  3.736008e-06  0.000069   \n",
       "1         Ironmasters - The Men They Couldn't Hang  6.799389e-07  0.000016   \n",
       "2                       Chasing Cars - Snow Patrol  2.748346e-07  0.000018   \n",
       "3                            Secrets - OneRepublic  2.552698e-07  0.000004   \n",
       "4  You'd Be So Nice To Come Home To - Julie London  9.558672e-07  0.000034   \n",
       "\n",
       "             s3        s4        s5        s6        s7  \n",
       "0  0.000000e+00  0.000911  0.002214  0.036572  0.000100  \n",
       "1  0.000000e+00  0.000091  0.000303  0.000071  0.000040  \n",
       "2  5.600788e-07  0.000085  0.000606  0.000119  0.000012  \n",
       "3  1.755655e-04  0.000471  0.001095  0.000043  0.000014  \n",
       "4  5.485172e-06  0.000166  0.000479  0.000121  0.000252  "
      ]
     },
     "execution_count": 22,
     "metadata": {},
     "output_type": "execute_result"
    }
   ],
   "source": [
    "song_factors = pd.DataFrame(train1_df.song.unique(), columns = ['song']).join(song)\n",
    "song_factors.columns = ['song','s1','s2','s3','s4','s5','s6','s7']\n",
    "song_factors.head()\n"
   ]
  },
  {
   "cell_type": "code",
   "execution_count": 23,
   "metadata": {},
   "outputs": [],
   "source": [
    "train2_df = pd.merge(train2, user_factors, on='user_id')"
   ]
  },
  {
   "cell_type": "code",
   "execution_count": 25,
   "metadata": {},
   "outputs": [],
   "source": [
    "train2_df = pd.merge(train2_df, song_factors, on='song')"
   ]
  },
  {
   "cell_type": "code",
   "execution_count": 26,
   "metadata": {},
   "outputs": [
    {
     "data": {
      "text/plain": [
       "443454"
      ]
     },
     "execution_count": 26,
     "metadata": {},
     "output_type": "execute_result"
    }
   ],
   "source": [
    "len(train2_df)"
   ]
  },
  {
   "cell_type": "code",
   "execution_count": 27,
   "metadata": {
    "scrolled": true
   },
   "outputs": [
    {
     "data": {
      "text/html": [
       "<div>\n",
       "<style scoped>\n",
       "    .dataframe tbody tr th:only-of-type {\n",
       "        vertical-align: middle;\n",
       "    }\n",
       "\n",
       "    .dataframe tbody tr th {\n",
       "        vertical-align: top;\n",
       "    }\n",
       "\n",
       "    .dataframe thead th {\n",
       "        text-align: right;\n",
       "    }\n",
       "</style>\n",
       "<table border=\"1\" class=\"dataframe\">\n",
       "  <thead>\n",
       "    <tr style=\"text-align: right;\">\n",
       "      <th></th>\n",
       "      <th>user_id</th>\n",
       "      <th>song_id</th>\n",
       "      <th>title</th>\n",
       "      <th>release</th>\n",
       "      <th>artist_name</th>\n",
       "      <th>year</th>\n",
       "      <th>song</th>\n",
       "      <th>id</th>\n",
       "      <th>name</th>\n",
       "      <th>uri_x</th>\n",
       "      <th>...</th>\n",
       "      <th>u5</th>\n",
       "      <th>u6</th>\n",
       "      <th>u7</th>\n",
       "      <th>s1</th>\n",
       "      <th>s2</th>\n",
       "      <th>s3</th>\n",
       "      <th>s4</th>\n",
       "      <th>s5</th>\n",
       "      <th>s6</th>\n",
       "      <th>s7</th>\n",
       "    </tr>\n",
       "  </thead>\n",
       "  <tbody>\n",
       "    <tr>\n",
       "      <th>0</th>\n",
       "      <td>f1ccb26d0d49490016747f6592e6f7b1e53a9e54</td>\n",
       "      <td>SODXVXU12AF729E02B</td>\n",
       "      <td>grey room</td>\n",
       "      <td>9</td>\n",
       "      <td>damien rice</td>\n",
       "      <td>2006</td>\n",
       "      <td>Grey Room - Damien Rice</td>\n",
       "      <td>7qSSjZr6Lm9j1sBle4X0b1</td>\n",
       "      <td>grey room</td>\n",
       "      <td>spotify:track:7qSSjZr6Lm9j1sBle4X0b1</td>\n",
       "      <td>...</td>\n",
       "      <td>0.004019</td>\n",
       "      <td>0.000473</td>\n",
       "      <td>0.000329</td>\n",
       "      <td>1.606814e-07</td>\n",
       "      <td>0.000062</td>\n",
       "      <td>0.000029</td>\n",
       "      <td>0.000051</td>\n",
       "      <td>0.001321</td>\n",
       "      <td>0.000018</td>\n",
       "      <td>0.000038</td>\n",
       "    </tr>\n",
       "    <tr>\n",
       "      <th>1</th>\n",
       "      <td>e20a32284cd5057d914813261587daef0646902f</td>\n",
       "      <td>SODXVXU12AF729E02B</td>\n",
       "      <td>grey room</td>\n",
       "      <td>9</td>\n",
       "      <td>damien rice</td>\n",
       "      <td>2006</td>\n",
       "      <td>Grey Room - Damien Rice</td>\n",
       "      <td>7qSSjZr6Lm9j1sBle4X0b1</td>\n",
       "      <td>grey room</td>\n",
       "      <td>spotify:track:7qSSjZr6Lm9j1sBle4X0b1</td>\n",
       "      <td>...</td>\n",
       "      <td>0.000102</td>\n",
       "      <td>0.000159</td>\n",
       "      <td>0.000024</td>\n",
       "      <td>1.606814e-07</td>\n",
       "      <td>0.000062</td>\n",
       "      <td>0.000029</td>\n",
       "      <td>0.000051</td>\n",
       "      <td>0.001321</td>\n",
       "      <td>0.000018</td>\n",
       "      <td>0.000038</td>\n",
       "    </tr>\n",
       "    <tr>\n",
       "      <th>2</th>\n",
       "      <td>28b191426861422cbfb837d0c0843faf413465cb</td>\n",
       "      <td>SODXVXU12AF729E02B</td>\n",
       "      <td>grey room</td>\n",
       "      <td>9</td>\n",
       "      <td>damien rice</td>\n",
       "      <td>2006</td>\n",
       "      <td>Grey Room - Damien Rice</td>\n",
       "      <td>7qSSjZr6Lm9j1sBle4X0b1</td>\n",
       "      <td>grey room</td>\n",
       "      <td>spotify:track:7qSSjZr6Lm9j1sBle4X0b1</td>\n",
       "      <td>...</td>\n",
       "      <td>0.011262</td>\n",
       "      <td>0.000351</td>\n",
       "      <td>0.000096</td>\n",
       "      <td>1.606814e-07</td>\n",
       "      <td>0.000062</td>\n",
       "      <td>0.000029</td>\n",
       "      <td>0.000051</td>\n",
       "      <td>0.001321</td>\n",
       "      <td>0.000018</td>\n",
       "      <td>0.000038</td>\n",
       "    </tr>\n",
       "    <tr>\n",
       "      <th>3</th>\n",
       "      <td>02f988e5c3b8313719d05c2d84d2c6ee70f04212</td>\n",
       "      <td>SODXVXU12AF729E02B</td>\n",
       "      <td>grey room</td>\n",
       "      <td>9</td>\n",
       "      <td>damien rice</td>\n",
       "      <td>2006</td>\n",
       "      <td>Grey Room - Damien Rice</td>\n",
       "      <td>7qSSjZr6Lm9j1sBle4X0b1</td>\n",
       "      <td>grey room</td>\n",
       "      <td>spotify:track:7qSSjZr6Lm9j1sBle4X0b1</td>\n",
       "      <td>...</td>\n",
       "      <td>0.001059</td>\n",
       "      <td>0.000042</td>\n",
       "      <td>0.000051</td>\n",
       "      <td>1.606814e-07</td>\n",
       "      <td>0.000062</td>\n",
       "      <td>0.000029</td>\n",
       "      <td>0.000051</td>\n",
       "      <td>0.001321</td>\n",
       "      <td>0.000018</td>\n",
       "      <td>0.000038</td>\n",
       "    </tr>\n",
       "    <tr>\n",
       "      <th>4</th>\n",
       "      <td>bac559ba85b95bad5dfe9bb381a794714aae1ef4</td>\n",
       "      <td>SODXVXU12AF729E02B</td>\n",
       "      <td>grey room</td>\n",
       "      <td>9</td>\n",
       "      <td>damien rice</td>\n",
       "      <td>2006</td>\n",
       "      <td>Grey Room - Damien Rice</td>\n",
       "      <td>7qSSjZr6Lm9j1sBle4X0b1</td>\n",
       "      <td>grey room</td>\n",
       "      <td>spotify:track:7qSSjZr6Lm9j1sBle4X0b1</td>\n",
       "      <td>...</td>\n",
       "      <td>0.000992</td>\n",
       "      <td>0.000043</td>\n",
       "      <td>0.000070</td>\n",
       "      <td>1.606814e-07</td>\n",
       "      <td>0.000062</td>\n",
       "      <td>0.000029</td>\n",
       "      <td>0.000051</td>\n",
       "      <td>0.001321</td>\n",
       "      <td>0.000018</td>\n",
       "      <td>0.000038</td>\n",
       "    </tr>\n",
       "  </tbody>\n",
       "</table>\n",
       "<p>5 rows × 42 columns</p>\n",
       "</div>"
      ],
      "text/plain": [
       "                                    user_id             song_id      title  \\\n",
       "0  f1ccb26d0d49490016747f6592e6f7b1e53a9e54  SODXVXU12AF729E02B  grey room   \n",
       "1  e20a32284cd5057d914813261587daef0646902f  SODXVXU12AF729E02B  grey room   \n",
       "2  28b191426861422cbfb837d0c0843faf413465cb  SODXVXU12AF729E02B  grey room   \n",
       "3  02f988e5c3b8313719d05c2d84d2c6ee70f04212  SODXVXU12AF729E02B  grey room   \n",
       "4  bac559ba85b95bad5dfe9bb381a794714aae1ef4  SODXVXU12AF729E02B  grey room   \n",
       "\n",
       "  release  artist_name  year                     song                      id  \\\n",
       "0       9  damien rice  2006  Grey Room - Damien Rice  7qSSjZr6Lm9j1sBle4X0b1   \n",
       "1       9  damien rice  2006  Grey Room - Damien Rice  7qSSjZr6Lm9j1sBle4X0b1   \n",
       "2       9  damien rice  2006  Grey Room - Damien Rice  7qSSjZr6Lm9j1sBle4X0b1   \n",
       "3       9  damien rice  2006  Grey Room - Damien Rice  7qSSjZr6Lm9j1sBle4X0b1   \n",
       "4       9  damien rice  2006  Grey Room - Damien Rice  7qSSjZr6Lm9j1sBle4X0b1   \n",
       "\n",
       "        name                                 uri_x    ...           u5  \\\n",
       "0  grey room  spotify:track:7qSSjZr6Lm9j1sBle4X0b1    ...     0.004019   \n",
       "1  grey room  spotify:track:7qSSjZr6Lm9j1sBle4X0b1    ...     0.000102   \n",
       "2  grey room  spotify:track:7qSSjZr6Lm9j1sBle4X0b1    ...     0.011262   \n",
       "3  grey room  spotify:track:7qSSjZr6Lm9j1sBle4X0b1    ...     0.001059   \n",
       "4  grey room  spotify:track:7qSSjZr6Lm9j1sBle4X0b1    ...     0.000992   \n",
       "\n",
       "         u6        u7            s1        s2        s3        s4        s5  \\\n",
       "0  0.000473  0.000329  1.606814e-07  0.000062  0.000029  0.000051  0.001321   \n",
       "1  0.000159  0.000024  1.606814e-07  0.000062  0.000029  0.000051  0.001321   \n",
       "2  0.000351  0.000096  1.606814e-07  0.000062  0.000029  0.000051  0.001321   \n",
       "3  0.000042  0.000051  1.606814e-07  0.000062  0.000029  0.000051  0.001321   \n",
       "4  0.000043  0.000070  1.606814e-07  0.000062  0.000029  0.000051  0.001321   \n",
       "\n",
       "         s6        s7  \n",
       "0  0.000018  0.000038  \n",
       "1  0.000018  0.000038  \n",
       "2  0.000018  0.000038  \n",
       "3  0.000018  0.000038  \n",
       "4  0.000018  0.000038  \n",
       "\n",
       "[5 rows x 42 columns]"
      ]
     },
     "execution_count": 27,
     "metadata": {},
     "output_type": "execute_result"
    }
   ],
   "source": [
    "train2_df.head()"
   ]
  },
  {
   "cell_type": "code",
   "execution_count": 28,
   "metadata": {},
   "outputs": [
    {
     "data": {
      "text/plain": [
       "Index(['user_id', 'song_id', 'title', 'release', 'artist_name', 'year', 'song',\n",
       "       'id', 'name', 'uri_x', 'acousticness', 'analysis_url', 'danceability',\n",
       "       'duration_ms', 'energy', 'instrumentalness', 'key', 'liveness',\n",
       "       'loudness', 'mode', 'speechiness', 'tempo', 'time_signature',\n",
       "       'track_href', 'type', 'uri_y', 'valence', 'listen_count', 'u1', 'u2',\n",
       "       'u3', 'u4', 'u5', 'u6', 'u7', 's1', 's2', 's3', 's4', 's5', 's6', 's7'],\n",
       "      dtype='object')"
      ]
     },
     "execution_count": 28,
     "metadata": {},
     "output_type": "execute_result"
    }
   ],
   "source": [
    "train2_df.columns"
   ]
  },
  {
   "cell_type": "code",
   "execution_count": 29,
   "metadata": {},
   "outputs": [
    {
     "data": {
      "text/plain": [
       "count    1.139721e+06\n",
       "mean     2.877347e+00\n",
       "std      6.173287e+00\n",
       "min      1.000000e+00\n",
       "25%      1.000000e+00\n",
       "50%      1.000000e+00\n",
       "75%      3.000000e+00\n",
       "max      2.213000e+03\n",
       "Name: listen_count, dtype: float64"
      ]
     },
     "execution_count": 29,
     "metadata": {},
     "output_type": "execute_result"
    }
   ],
   "source": [
    "df.listen_count.describe()"
   ]
  },
  {
   "cell_type": "code",
   "execution_count": 158,
   "metadata": {},
   "outputs": [
    {
     "data": {
      "text/plain": [
       "2.0"
      ]
     },
     "execution_count": 158,
     "metadata": {},
     "output_type": "execute_result"
    }
   ],
   "source": [
    "df.listen_count.quantile(.60)"
   ]
  },
  {
   "cell_type": "markdown",
   "metadata": {},
   "source": [
    "Since this is a classification problem, we will transform listen_count into labels of 'low_count' and 'high_count'. Those labeled 'high_count' are above the 60% percentile of listen_count."
   ]
  },
  {
   "cell_type": "code",
   "execution_count": 159,
   "metadata": {},
   "outputs": [],
   "source": [
    "def f(row):\n",
    "    if  1 <= row['listen_count'] <= 2:\n",
    "        val = 'low_count'\n",
    "    else:\n",
    "        val ='high_count'\n",
    "    return val"
   ]
  },
  {
   "cell_type": "code",
   "execution_count": 160,
   "metadata": {},
   "outputs": [],
   "source": [
    "train2_df['label'] = train2_df.apply(f, axis=1)"
   ]
  },
  {
   "cell_type": "code",
   "execution_count": 161,
   "metadata": {},
   "outputs": [],
   "source": [
    "# extract relevant columns for classification\n",
    "\n",
    "train2_X = train2_df[['acousticness', 'danceability',\n",
    "       'duration_ms', 'energy', 'instrumentalness', 'key', 'liveness',\n",
    "       'loudness', 'mode', 'speechiness', 'tempo', 'time_signature','valence','s1', 's2', 's3', 's4', 's5', 's6','s7', 'u1','u2','u3','u4','u5','u6','u7']]"
   ]
  },
  {
   "cell_type": "code",
   "execution_count": 162,
   "metadata": {},
   "outputs": [
    {
     "data": {
      "text/plain": [
       "443454"
      ]
     },
     "execution_count": 162,
     "metadata": {},
     "output_type": "execute_result"
    }
   ],
   "source": [
    "len(train2_X)"
   ]
  },
  {
   "cell_type": "code",
   "execution_count": 163,
   "metadata": {},
   "outputs": [],
   "source": [
    "# extract labels\n",
    "train2_y = train2_df['label']"
   ]
  },
  {
   "cell_type": "code",
   "execution_count": 164,
   "metadata": {},
   "outputs": [
    {
     "data": {
      "text/plain": [
       "XGBClassifier(base_score=0.5, booster='gbtree', colsample_bylevel=1,\n",
       "       colsample_bytree=1, gamma=0, learning_rate=0.1, max_delta_step=0,\n",
       "       max_depth=3, min_child_weight=1, missing=None, n_estimators=100,\n",
       "       n_jobs=1, nthread=None, objective='binary:logistic', random_state=0,\n",
       "       reg_alpha=0, reg_lambda=1, scale_pos_weight=1, seed=None,\n",
       "       silent=True, subsample=1)"
      ]
     },
     "execution_count": 164,
     "metadata": {},
     "output_type": "execute_result"
    }
   ],
   "source": [
    "#XGBOOST\n",
    "from xgboost import XGBClassifier\n",
    "xgb = XGBClassifier()\n",
    "xgb.fit(train2_X, train2_y)\n"
   ]
  },
  {
   "cell_type": "code",
   "execution_count": 165,
   "metadata": {},
   "outputs": [],
   "source": [
    "# merge user and song latent factors to validation set\n",
    "\n",
    "val_df = pd.merge(val, user_factors, on='user_id')\n",
    "val_df = pd.merge(val_df, song_factors, on='song')\n",
    "val_df['label'] = val_df.apply(f, axis=1)"
   ]
  },
  {
   "cell_type": "code",
   "execution_count": 166,
   "metadata": {},
   "outputs": [],
   "source": [
    "val_X = val_df[['acousticness', 'danceability',\n",
    "       'duration_ms', 'energy', 'instrumentalness', 'key', 'liveness',\n",
    "       'loudness', 'mode', 'speechiness', 'tempo', 'time_signature','valence','s1', 's2', 's3', 's4', 's5', 's6','s7', 'u1','u2','u3','u4','u5','u6','u7']]"
   ]
  },
  {
   "cell_type": "code",
   "execution_count": 167,
   "metadata": {},
   "outputs": [],
   "source": [
    "val_y = val_df['label']"
   ]
  },
  {
   "cell_type": "code",
   "execution_count": 168,
   "metadata": {},
   "outputs": [
    {
     "name": "stdout",
     "output_type": "stream",
     "text": [
      "\n",
      " Confusion Matrix:\n",
      " [[   578  68974]\n",
      " [   440 196057]]\n",
      "\n",
      " Classification Report: \n",
      "               precision    recall  f1-score   support\n",
      "\n",
      "  high_count       0.57      0.01      0.02     69552\n",
      "   low_count       0.74      1.00      0.85    196497\n",
      "\n",
      "   micro avg       0.74      0.74      0.74    266049\n",
      "   macro avg       0.65      0.50      0.43    266049\n",
      "weighted avg       0.69      0.74      0.63    266049\n",
      "\n",
      "Accuracy: 0.7390931745655875\n"
     ]
    }
   ],
   "source": [
    "from sklearn.metrics import (classification_report,confusion_matrix, accuracy_score, precision_score, recall_score, \n",
    "                             f1_score, roc_auc_score, roc_curve)\n",
    "xgb_pred = xgb.predict(val_X)\n",
    "\n",
    "print('\\n Confusion Matrix:\\n',confusion_matrix(val_y,xgb_pred))\n",
    "print(\"\\n Classification Report: \\n\", classification_report(val_y, xgb_pred))\n",
    "print(\"Accuracy:\", (accuracy_score(val_y,xgb_pred)))"
   ]
  },
  {
   "cell_type": "code",
   "execution_count": 169,
   "metadata": {},
   "outputs": [
    {
     "data": {
      "text/plain": [
       "196497"
      ]
     },
     "execution_count": 169,
     "metadata": {},
     "output_type": "execute_result"
    }
   ],
   "source": [
    "len(val_y[val_y == 'low_count'])"
   ]
  },
  {
   "cell_type": "code",
   "execution_count": 170,
   "metadata": {},
   "outputs": [
    {
     "data": {
      "text/plain": [
       "69552"
      ]
     },
     "execution_count": 170,
     "metadata": {},
     "output_type": "execute_result"
    }
   ],
   "source": [
    "len(val_y[val_y == 'high_count'])"
   ]
  },
  {
   "cell_type": "code",
   "execution_count": 171,
   "metadata": {},
   "outputs": [
    {
     "name": "stderr",
     "output_type": "stream",
     "text": [
      "c:\\users\\amand\\appdata\\local\\programs\\python\\python37\\lib\\site-packages\\sklearn\\ensemble\\forest.py:246: FutureWarning: The default value of n_estimators will change from 10 in version 0.20 to 100 in 0.22.\n",
      "  \"10 in version 0.20 to 100 in 0.22.\", FutureWarning)\n"
     ]
    },
    {
     "name": "stdout",
     "output_type": "stream",
     "text": [
      "\n",
      " Confusion Matrix:\n",
      " [[ 18037  51515]\n",
      " [ 27034 169463]]\n",
      "\n",
      " Classification Report: \n",
      "               precision    recall  f1-score   support\n",
      "\n",
      "  high_count       0.40      0.26      0.31     69552\n",
      "   low_count       0.77      0.86      0.81    196497\n",
      "\n",
      "   micro avg       0.70      0.70      0.70    266049\n",
      "   macro avg       0.58      0.56      0.56    266049\n",
      "weighted avg       0.67      0.70      0.68    266049\n",
      "\n",
      "Accuracy: 0.7047573943145812\n"
     ]
    }
   ],
   "source": [
    "from sklearn.ensemble import RandomForestClassifier\n",
    "\n",
    "rfclf = RandomForestClassifier()\n",
    "rfclf.fit(train2_X, train2_y)\n",
    "\n",
    "y_pred = rfclf.predict(val_X)\n",
    "\n",
    "print('\\n Confusion Matrix:\\n',confusion_matrix(val_y,y_pred))\n",
    "print(\"\\n Classification Report: \\n\", classification_report(val_y, y_pred))\n",
    "print(\"Accuracy:\", (accuracy_score(val_y,y_pred)))"
   ]
  },
  {
   "cell_type": "code",
   "execution_count": 172,
   "metadata": {},
   "outputs": [
    {
     "name": "stdout",
     "output_type": "stream",
     "text": [
      "\n",
      " Confusion Matrix:\n",
      " [[ 16566  52986]\n",
      " [ 31084 165413]]\n",
      "\n",
      " Classification Report: \n",
      "               precision    recall  f1-score   support\n",
      "\n",
      "  high_count       0.35      0.24      0.28     69552\n",
      "   low_count       0.76      0.84      0.80    196497\n",
      "\n",
      "   micro avg       0.68      0.68      0.68    266049\n",
      "   macro avg       0.55      0.54      0.54    266049\n",
      "weighted avg       0.65      0.68      0.66    266049\n",
      "\n",
      "Accuracy: 0.6840055779198568\n"
     ]
    }
   ],
   "source": [
    "from sklearn.neighbors import KNeighborsClassifier\n",
    "\n",
    "Knnclf = KNeighborsClassifier(n_neighbors=3)\n",
    "Knnclf.fit(train2_X, train2_y)\n",
    "\n",
    "knn_predictions = Knnclf.predict(val_X)\n",
    "\n",
    "print('\\n Confusion Matrix:\\n',confusion_matrix(val_y,knn_predictions))\n",
    "print(\"\\n Classification Report: \\n\", classification_report(val_y, knn_predictions))\n",
    "print(\"Accuracy:\", (accuracy_score(val_y, knn_predictions)))"
   ]
  },
  {
   "cell_type": "code",
   "execution_count": 177,
   "metadata": {},
   "outputs": [
    {
     "name": "stdout",
     "output_type": "stream",
     "text": [
      "Random Forest: 70.48%\n",
      "KNN: 68.40%\n",
      "XGBoost: 73.91%\n"
     ]
    }
   ],
   "source": [
    "print(\"Random Forest:\", \"%.2f%%\" %(accuracy_score(val_y,y_pred)*100))\n",
    "print(\"KNN:\", \"%.2f%%\" %(accuracy_score(val_y,knn_predictions)*100))\n",
    "print(\"XGBoost:\", \"%.2f%%\" %(accuracy_score(val_y,xgb_pred)*100))"
   ]
  },
  {
   "cell_type": "code",
   "execution_count": 178,
   "metadata": {},
   "outputs": [
    {
     "name": "stdout",
     "output_type": "stream",
     "text": [
      "Random Forest: 0.6818852759683732\n",
      "KNN: 0.6628205516707145\n",
      "XGBoost: 0.6317749552271772\n"
     ]
    }
   ],
   "source": [
    "print(\"Random Forest:\", (f1_score(val_y,y_pred, average='weighted')))\n",
    "print(\"KNN:\", (f1_score(val_y,knn_predictions, average='weighted')))\n",
    "print(\"XGBoost:\", (f1_score(val_y,xgb_pred, average='weighted')))"
   ]
  },
  {
   "cell_type": "code",
   "execution_count": 139,
   "metadata": {},
   "outputs": [],
   "source": [
    "# tune best models\n",
    "# tune latent factors"
   ]
  },
  {
   "cell_type": "markdown",
   "metadata": {},
   "source": [
    "First we will tune XGBoost."
   ]
  },
  {
   "cell_type": "code",
   "execution_count": 140,
   "metadata": {},
   "outputs": [
    {
     "ename": "IndentationError",
     "evalue": "unexpected indent (<ipython-input-140-cb96a58fbb10>, line 3)",
     "output_type": "error",
     "traceback": [
      "\u001b[1;36m  File \u001b[1;32m\"<ipython-input-140-cb96a58fbb10>\"\u001b[1;36m, line \u001b[1;32m3\u001b[0m\n\u001b[1;33m    'min_child_weight': [1, 5, 10],\u001b[0m\n\u001b[1;37m    ^\u001b[0m\n\u001b[1;31mIndentationError\u001b[0m\u001b[1;31m:\u001b[0m unexpected indent\n"
     ]
    }
   ],
   "source": [
    "### VALIDATION TAKING TOO LONG ~400k rows ###\n",
    "# tune XGBoost\n",
    "#params = {\n",
    "        #'min_child_weight': [1, 5, 10],\n",
    "        #'gamma': [0.5, 1, 1.5, 2, 5],\n",
    "        #'subsample': [0.6, 0.8, 1.0],\n",
    "        #'colsample_bytree': [0.6, 0.8, 1.0],\n",
    "        #'max_depth': [3, 4, 5]\n",
    "        #}"
   ]
  },
  {
   "cell_type": "code",
   "execution_count": null,
   "metadata": {},
   "outputs": [],
   "source": [
    "#from sklearn.model_selection import RandomizedSearchCV\n",
    "\n",
    "#gs_random = RandomizedSearchCV(XGBClassifier(), params, cv=3 ,n_iter=50)\n",
    "\n",
    "#gs_random.fit(train2_X, train2_y)\n",
    "#gs_pred = gs_random.predict(train2_X)\n",
    "#print(gs_random.best_params_, gs_random.best_score_)"
   ]
  },
  {
   "cell_type": "markdown",
   "metadata": {},
   "source": [
    "Tune random forest"
   ]
  },
  {
   "cell_type": "code",
   "execution_count": 179,
   "metadata": {},
   "outputs": [],
   "source": [
    "#param_grid_new ={'bootstrap': [True, False],\n",
    " #'max_depth': [10, 20, 30, 40, 50, 60, 70, 80, 90, 100, None],\n",
    " #'max_features': ['auto', 'sqrt'],\n",
    " #'min_samples_leaf': [3, 4, 5, 7],\n",
    " #'min_samples_split': [8, 10, 15],\n",
    " #'n_estimators': [200, 400, 600, 800, 1000, 1200, 1400, 1600, 1800, 2000]}"
   ]
  },
  {
   "cell_type": "code",
   "execution_count": 181,
   "metadata": {},
   "outputs": [
    {
     "ename": "KeyboardInterrupt",
     "evalue": "",
     "output_type": "error",
     "traceback": [
      "\u001b[1;31m---------------------------------------------------------------------------\u001b[0m",
      "\u001b[1;31mKeyboardInterrupt\u001b[0m                         Traceback (most recent call last)",
      "\u001b[1;32m<ipython-input-181-f8e1c8d0f9a8>\u001b[0m in \u001b[0;36m<module>\u001b[1;34m\u001b[0m\n\u001b[0;32m      2\u001b[0m \u001b[1;33m\u001b[0m\u001b[0m\n\u001b[0;32m      3\u001b[0m \u001b[0mcv_new\u001b[0m \u001b[1;33m=\u001b[0m \u001b[0mRandomizedSearchCV\u001b[0m\u001b[1;33m(\u001b[0m\u001b[0mrfclf\u001b[0m\u001b[1;33m,\u001b[0m \u001b[0mparam_grid_new\u001b[0m\u001b[1;33m,\u001b[0m \u001b[0mcv\u001b[0m\u001b[1;33m=\u001b[0m\u001b[1;36m5\u001b[0m\u001b[1;33m)\u001b[0m\u001b[1;33m\u001b[0m\u001b[1;33m\u001b[0m\u001b[0m\n\u001b[1;32m----> 4\u001b[1;33m \u001b[0mcv_new\u001b[0m\u001b[1;33m.\u001b[0m\u001b[0mfit\u001b[0m\u001b[1;33m(\u001b[0m\u001b[0mtrain2_X\u001b[0m\u001b[1;33m,\u001b[0m \u001b[0mtrain2_y\u001b[0m\u001b[1;33m)\u001b[0m\u001b[1;33m\u001b[0m\u001b[1;33m\u001b[0m\u001b[0m\n\u001b[0m\u001b[0;32m      5\u001b[0m \u001b[0mprint\u001b[0m\u001b[1;33m(\u001b[0m\u001b[0mcv_new\u001b[0m\u001b[1;33m.\u001b[0m\u001b[0mbest_params_\u001b[0m\u001b[1;33m,\u001b[0m \u001b[0mcv_new\u001b[0m\u001b[1;33m.\u001b[0m\u001b[0mbest_score_\u001b[0m\u001b[1;33m)\u001b[0m\u001b[1;33m\u001b[0m\u001b[1;33m\u001b[0m\u001b[0m\n",
      "\u001b[1;32mc:\\users\\amand\\appdata\\local\\programs\\python\\python37\\lib\\site-packages\\sklearn\\model_selection\\_search.py\u001b[0m in \u001b[0;36mfit\u001b[1;34m(self, X, y, groups, **fit_params)\u001b[0m\n\u001b[0;32m    720\u001b[0m                 \u001b[1;32mreturn\u001b[0m \u001b[0mresults_container\u001b[0m\u001b[1;33m[\u001b[0m\u001b[1;36m0\u001b[0m\u001b[1;33m]\u001b[0m\u001b[1;33m\u001b[0m\u001b[1;33m\u001b[0m\u001b[0m\n\u001b[0;32m    721\u001b[0m \u001b[1;33m\u001b[0m\u001b[0m\n\u001b[1;32m--> 722\u001b[1;33m             \u001b[0mself\u001b[0m\u001b[1;33m.\u001b[0m\u001b[0m_run_search\u001b[0m\u001b[1;33m(\u001b[0m\u001b[0mevaluate_candidates\u001b[0m\u001b[1;33m)\u001b[0m\u001b[1;33m\u001b[0m\u001b[1;33m\u001b[0m\u001b[0m\n\u001b[0m\u001b[0;32m    723\u001b[0m \u001b[1;33m\u001b[0m\u001b[0m\n\u001b[0;32m    724\u001b[0m         \u001b[0mresults\u001b[0m \u001b[1;33m=\u001b[0m \u001b[0mresults_container\u001b[0m\u001b[1;33m[\u001b[0m\u001b[1;36m0\u001b[0m\u001b[1;33m]\u001b[0m\u001b[1;33m\u001b[0m\u001b[1;33m\u001b[0m\u001b[0m\n",
      "\u001b[1;32mc:\\users\\amand\\appdata\\local\\programs\\python\\python37\\lib\\site-packages\\sklearn\\model_selection\\_search.py\u001b[0m in \u001b[0;36m_run_search\u001b[1;34m(self, evaluate_candidates)\u001b[0m\n\u001b[0;32m   1513\u001b[0m         evaluate_candidates(ParameterSampler(\n\u001b[0;32m   1514\u001b[0m             \u001b[0mself\u001b[0m\u001b[1;33m.\u001b[0m\u001b[0mparam_distributions\u001b[0m\u001b[1;33m,\u001b[0m \u001b[0mself\u001b[0m\u001b[1;33m.\u001b[0m\u001b[0mn_iter\u001b[0m\u001b[1;33m,\u001b[0m\u001b[1;33m\u001b[0m\u001b[1;33m\u001b[0m\u001b[0m\n\u001b[1;32m-> 1515\u001b[1;33m             random_state=self.random_state))\n\u001b[0m",
      "\u001b[1;32mc:\\users\\amand\\appdata\\local\\programs\\python\\python37\\lib\\site-packages\\sklearn\\model_selection\\_search.py\u001b[0m in \u001b[0;36mevaluate_candidates\u001b[1;34m(candidate_params)\u001b[0m\n\u001b[0;32m    709\u001b[0m                                \u001b[1;32mfor\u001b[0m \u001b[0mparameters\u001b[0m\u001b[1;33m,\u001b[0m \u001b[1;33m(\u001b[0m\u001b[0mtrain\u001b[0m\u001b[1;33m,\u001b[0m \u001b[0mtest\u001b[0m\u001b[1;33m)\u001b[0m\u001b[1;33m\u001b[0m\u001b[1;33m\u001b[0m\u001b[0m\n\u001b[0;32m    710\u001b[0m                                in product(candidate_params,\n\u001b[1;32m--> 711\u001b[1;33m                                           cv.split(X, y, groups)))\n\u001b[0m\u001b[0;32m    712\u001b[0m \u001b[1;33m\u001b[0m\u001b[0m\n\u001b[0;32m    713\u001b[0m                 \u001b[0mall_candidate_params\u001b[0m\u001b[1;33m.\u001b[0m\u001b[0mextend\u001b[0m\u001b[1;33m(\u001b[0m\u001b[0mcandidate_params\u001b[0m\u001b[1;33m)\u001b[0m\u001b[1;33m\u001b[0m\u001b[1;33m\u001b[0m\u001b[0m\n",
      "\u001b[1;32mc:\\users\\amand\\appdata\\local\\programs\\python\\python37\\lib\\site-packages\\sklearn\\externals\\joblib\\parallel.py\u001b[0m in \u001b[0;36m__call__\u001b[1;34m(self, iterable)\u001b[0m\n\u001b[0;32m    915\u001b[0m             \u001b[1;31m# remaining jobs.\u001b[0m\u001b[1;33m\u001b[0m\u001b[1;33m\u001b[0m\u001b[1;33m\u001b[0m\u001b[0m\n\u001b[0;32m    916\u001b[0m             \u001b[0mself\u001b[0m\u001b[1;33m.\u001b[0m\u001b[0m_iterating\u001b[0m \u001b[1;33m=\u001b[0m \u001b[1;32mFalse\u001b[0m\u001b[1;33m\u001b[0m\u001b[1;33m\u001b[0m\u001b[0m\n\u001b[1;32m--> 917\u001b[1;33m             \u001b[1;32mif\u001b[0m \u001b[0mself\u001b[0m\u001b[1;33m.\u001b[0m\u001b[0mdispatch_one_batch\u001b[0m\u001b[1;33m(\u001b[0m\u001b[0miterator\u001b[0m\u001b[1;33m)\u001b[0m\u001b[1;33m:\u001b[0m\u001b[1;33m\u001b[0m\u001b[1;33m\u001b[0m\u001b[0m\n\u001b[0m\u001b[0;32m    918\u001b[0m                 \u001b[0mself\u001b[0m\u001b[1;33m.\u001b[0m\u001b[0m_iterating\u001b[0m \u001b[1;33m=\u001b[0m \u001b[0mself\u001b[0m\u001b[1;33m.\u001b[0m\u001b[0m_original_iterator\u001b[0m \u001b[1;32mis\u001b[0m \u001b[1;32mnot\u001b[0m \u001b[1;32mNone\u001b[0m\u001b[1;33m\u001b[0m\u001b[1;33m\u001b[0m\u001b[0m\n\u001b[0;32m    919\u001b[0m \u001b[1;33m\u001b[0m\u001b[0m\n",
      "\u001b[1;32mc:\\users\\amand\\appdata\\local\\programs\\python\\python37\\lib\\site-packages\\sklearn\\externals\\joblib\\parallel.py\u001b[0m in \u001b[0;36mdispatch_one_batch\u001b[1;34m(self, iterator)\u001b[0m\n\u001b[0;32m    757\u001b[0m                 \u001b[1;32mreturn\u001b[0m \u001b[1;32mFalse\u001b[0m\u001b[1;33m\u001b[0m\u001b[1;33m\u001b[0m\u001b[0m\n\u001b[0;32m    758\u001b[0m             \u001b[1;32melse\u001b[0m\u001b[1;33m:\u001b[0m\u001b[1;33m\u001b[0m\u001b[1;33m\u001b[0m\u001b[0m\n\u001b[1;32m--> 759\u001b[1;33m                 \u001b[0mself\u001b[0m\u001b[1;33m.\u001b[0m\u001b[0m_dispatch\u001b[0m\u001b[1;33m(\u001b[0m\u001b[0mtasks\u001b[0m\u001b[1;33m)\u001b[0m\u001b[1;33m\u001b[0m\u001b[1;33m\u001b[0m\u001b[0m\n\u001b[0m\u001b[0;32m    760\u001b[0m                 \u001b[1;32mreturn\u001b[0m \u001b[1;32mTrue\u001b[0m\u001b[1;33m\u001b[0m\u001b[1;33m\u001b[0m\u001b[0m\n\u001b[0;32m    761\u001b[0m \u001b[1;33m\u001b[0m\u001b[0m\n",
      "\u001b[1;32mc:\\users\\amand\\appdata\\local\\programs\\python\\python37\\lib\\site-packages\\sklearn\\externals\\joblib\\parallel.py\u001b[0m in \u001b[0;36m_dispatch\u001b[1;34m(self, batch)\u001b[0m\n\u001b[0;32m    714\u001b[0m         \u001b[1;32mwith\u001b[0m \u001b[0mself\u001b[0m\u001b[1;33m.\u001b[0m\u001b[0m_lock\u001b[0m\u001b[1;33m:\u001b[0m\u001b[1;33m\u001b[0m\u001b[1;33m\u001b[0m\u001b[0m\n\u001b[0;32m    715\u001b[0m             \u001b[0mjob_idx\u001b[0m \u001b[1;33m=\u001b[0m \u001b[0mlen\u001b[0m\u001b[1;33m(\u001b[0m\u001b[0mself\u001b[0m\u001b[1;33m.\u001b[0m\u001b[0m_jobs\u001b[0m\u001b[1;33m)\u001b[0m\u001b[1;33m\u001b[0m\u001b[1;33m\u001b[0m\u001b[0m\n\u001b[1;32m--> 716\u001b[1;33m             \u001b[0mjob\u001b[0m \u001b[1;33m=\u001b[0m \u001b[0mself\u001b[0m\u001b[1;33m.\u001b[0m\u001b[0m_backend\u001b[0m\u001b[1;33m.\u001b[0m\u001b[0mapply_async\u001b[0m\u001b[1;33m(\u001b[0m\u001b[0mbatch\u001b[0m\u001b[1;33m,\u001b[0m \u001b[0mcallback\u001b[0m\u001b[1;33m=\u001b[0m\u001b[0mcb\u001b[0m\u001b[1;33m)\u001b[0m\u001b[1;33m\u001b[0m\u001b[1;33m\u001b[0m\u001b[0m\n\u001b[0m\u001b[0;32m    717\u001b[0m             \u001b[1;31m# A job can complete so quickly than its callback is\u001b[0m\u001b[1;33m\u001b[0m\u001b[1;33m\u001b[0m\u001b[1;33m\u001b[0m\u001b[0m\n\u001b[0;32m    718\u001b[0m             \u001b[1;31m# called before we get here, causing self._jobs to\u001b[0m\u001b[1;33m\u001b[0m\u001b[1;33m\u001b[0m\u001b[1;33m\u001b[0m\u001b[0m\n",
      "\u001b[1;32mc:\\users\\amand\\appdata\\local\\programs\\python\\python37\\lib\\site-packages\\sklearn\\externals\\joblib\\_parallel_backends.py\u001b[0m in \u001b[0;36mapply_async\u001b[1;34m(self, func, callback)\u001b[0m\n\u001b[0;32m    180\u001b[0m     \u001b[1;32mdef\u001b[0m \u001b[0mapply_async\u001b[0m\u001b[1;33m(\u001b[0m\u001b[0mself\u001b[0m\u001b[1;33m,\u001b[0m \u001b[0mfunc\u001b[0m\u001b[1;33m,\u001b[0m \u001b[0mcallback\u001b[0m\u001b[1;33m=\u001b[0m\u001b[1;32mNone\u001b[0m\u001b[1;33m)\u001b[0m\u001b[1;33m:\u001b[0m\u001b[1;33m\u001b[0m\u001b[1;33m\u001b[0m\u001b[0m\n\u001b[0;32m    181\u001b[0m         \u001b[1;34m\"\"\"Schedule a func to be run\"\"\"\u001b[0m\u001b[1;33m\u001b[0m\u001b[1;33m\u001b[0m\u001b[0m\n\u001b[1;32m--> 182\u001b[1;33m         \u001b[0mresult\u001b[0m \u001b[1;33m=\u001b[0m \u001b[0mImmediateResult\u001b[0m\u001b[1;33m(\u001b[0m\u001b[0mfunc\u001b[0m\u001b[1;33m)\u001b[0m\u001b[1;33m\u001b[0m\u001b[1;33m\u001b[0m\u001b[0m\n\u001b[0m\u001b[0;32m    183\u001b[0m         \u001b[1;32mif\u001b[0m \u001b[0mcallback\u001b[0m\u001b[1;33m:\u001b[0m\u001b[1;33m\u001b[0m\u001b[1;33m\u001b[0m\u001b[0m\n\u001b[0;32m    184\u001b[0m             \u001b[0mcallback\u001b[0m\u001b[1;33m(\u001b[0m\u001b[0mresult\u001b[0m\u001b[1;33m)\u001b[0m\u001b[1;33m\u001b[0m\u001b[1;33m\u001b[0m\u001b[0m\n",
      "\u001b[1;32mc:\\users\\amand\\appdata\\local\\programs\\python\\python37\\lib\\site-packages\\sklearn\\externals\\joblib\\_parallel_backends.py\u001b[0m in \u001b[0;36m__init__\u001b[1;34m(self, batch)\u001b[0m\n\u001b[0;32m    547\u001b[0m         \u001b[1;31m# Don't delay the application, to avoid keeping the input\u001b[0m\u001b[1;33m\u001b[0m\u001b[1;33m\u001b[0m\u001b[1;33m\u001b[0m\u001b[0m\n\u001b[0;32m    548\u001b[0m         \u001b[1;31m# arguments in memory\u001b[0m\u001b[1;33m\u001b[0m\u001b[1;33m\u001b[0m\u001b[1;33m\u001b[0m\u001b[0m\n\u001b[1;32m--> 549\u001b[1;33m         \u001b[0mself\u001b[0m\u001b[1;33m.\u001b[0m\u001b[0mresults\u001b[0m \u001b[1;33m=\u001b[0m \u001b[0mbatch\u001b[0m\u001b[1;33m(\u001b[0m\u001b[1;33m)\u001b[0m\u001b[1;33m\u001b[0m\u001b[1;33m\u001b[0m\u001b[0m\n\u001b[0m\u001b[0;32m    550\u001b[0m \u001b[1;33m\u001b[0m\u001b[0m\n\u001b[0;32m    551\u001b[0m     \u001b[1;32mdef\u001b[0m \u001b[0mget\u001b[0m\u001b[1;33m(\u001b[0m\u001b[0mself\u001b[0m\u001b[1;33m)\u001b[0m\u001b[1;33m:\u001b[0m\u001b[1;33m\u001b[0m\u001b[1;33m\u001b[0m\u001b[0m\n",
      "\u001b[1;32mc:\\users\\amand\\appdata\\local\\programs\\python\\python37\\lib\\site-packages\\sklearn\\externals\\joblib\\parallel.py\u001b[0m in \u001b[0;36m__call__\u001b[1;34m(self)\u001b[0m\n\u001b[0;32m    223\u001b[0m         \u001b[1;32mwith\u001b[0m \u001b[0mparallel_backend\u001b[0m\u001b[1;33m(\u001b[0m\u001b[0mself\u001b[0m\u001b[1;33m.\u001b[0m\u001b[0m_backend\u001b[0m\u001b[1;33m,\u001b[0m \u001b[0mn_jobs\u001b[0m\u001b[1;33m=\u001b[0m\u001b[0mself\u001b[0m\u001b[1;33m.\u001b[0m\u001b[0m_n_jobs\u001b[0m\u001b[1;33m)\u001b[0m\u001b[1;33m:\u001b[0m\u001b[1;33m\u001b[0m\u001b[1;33m\u001b[0m\u001b[0m\n\u001b[0;32m    224\u001b[0m             return [func(*args, **kwargs)\n\u001b[1;32m--> 225\u001b[1;33m                     for func, args, kwargs in self.items]\n\u001b[0m\u001b[0;32m    226\u001b[0m \u001b[1;33m\u001b[0m\u001b[0m\n\u001b[0;32m    227\u001b[0m     \u001b[1;32mdef\u001b[0m \u001b[0m__len__\u001b[0m\u001b[1;33m(\u001b[0m\u001b[0mself\u001b[0m\u001b[1;33m)\u001b[0m\u001b[1;33m:\u001b[0m\u001b[1;33m\u001b[0m\u001b[1;33m\u001b[0m\u001b[0m\n",
      "\u001b[1;32mc:\\users\\amand\\appdata\\local\\programs\\python\\python37\\lib\\site-packages\\sklearn\\externals\\joblib\\parallel.py\u001b[0m in \u001b[0;36m<listcomp>\u001b[1;34m(.0)\u001b[0m\n\u001b[0;32m    223\u001b[0m         \u001b[1;32mwith\u001b[0m \u001b[0mparallel_backend\u001b[0m\u001b[1;33m(\u001b[0m\u001b[0mself\u001b[0m\u001b[1;33m.\u001b[0m\u001b[0m_backend\u001b[0m\u001b[1;33m,\u001b[0m \u001b[0mn_jobs\u001b[0m\u001b[1;33m=\u001b[0m\u001b[0mself\u001b[0m\u001b[1;33m.\u001b[0m\u001b[0m_n_jobs\u001b[0m\u001b[1;33m)\u001b[0m\u001b[1;33m:\u001b[0m\u001b[1;33m\u001b[0m\u001b[1;33m\u001b[0m\u001b[0m\n\u001b[0;32m    224\u001b[0m             return [func(*args, **kwargs)\n\u001b[1;32m--> 225\u001b[1;33m                     for func, args, kwargs in self.items]\n\u001b[0m\u001b[0;32m    226\u001b[0m \u001b[1;33m\u001b[0m\u001b[0m\n\u001b[0;32m    227\u001b[0m     \u001b[1;32mdef\u001b[0m \u001b[0m__len__\u001b[0m\u001b[1;33m(\u001b[0m\u001b[0mself\u001b[0m\u001b[1;33m)\u001b[0m\u001b[1;33m:\u001b[0m\u001b[1;33m\u001b[0m\u001b[1;33m\u001b[0m\u001b[0m\n",
      "\u001b[1;32mc:\\users\\amand\\appdata\\local\\programs\\python\\python37\\lib\\site-packages\\sklearn\\model_selection\\_validation.py\u001b[0m in \u001b[0;36m_fit_and_score\u001b[1;34m(estimator, X, y, scorer, train, test, verbose, parameters, fit_params, return_train_score, return_parameters, return_n_test_samples, return_times, return_estimator, error_score)\u001b[0m\n\u001b[0;32m    526\u001b[0m             \u001b[0mestimator\u001b[0m\u001b[1;33m.\u001b[0m\u001b[0mfit\u001b[0m\u001b[1;33m(\u001b[0m\u001b[0mX_train\u001b[0m\u001b[1;33m,\u001b[0m \u001b[1;33m**\u001b[0m\u001b[0mfit_params\u001b[0m\u001b[1;33m)\u001b[0m\u001b[1;33m\u001b[0m\u001b[1;33m\u001b[0m\u001b[0m\n\u001b[0;32m    527\u001b[0m         \u001b[1;32melse\u001b[0m\u001b[1;33m:\u001b[0m\u001b[1;33m\u001b[0m\u001b[1;33m\u001b[0m\u001b[0m\n\u001b[1;32m--> 528\u001b[1;33m             \u001b[0mestimator\u001b[0m\u001b[1;33m.\u001b[0m\u001b[0mfit\u001b[0m\u001b[1;33m(\u001b[0m\u001b[0mX_train\u001b[0m\u001b[1;33m,\u001b[0m \u001b[0my_train\u001b[0m\u001b[1;33m,\u001b[0m \u001b[1;33m**\u001b[0m\u001b[0mfit_params\u001b[0m\u001b[1;33m)\u001b[0m\u001b[1;33m\u001b[0m\u001b[1;33m\u001b[0m\u001b[0m\n\u001b[0m\u001b[0;32m    529\u001b[0m \u001b[1;33m\u001b[0m\u001b[0m\n\u001b[0;32m    530\u001b[0m     \u001b[1;32mexcept\u001b[0m \u001b[0mException\u001b[0m \u001b[1;32mas\u001b[0m \u001b[0me\u001b[0m\u001b[1;33m:\u001b[0m\u001b[1;33m\u001b[0m\u001b[1;33m\u001b[0m\u001b[0m\n",
      "\u001b[1;32mc:\\users\\amand\\appdata\\local\\programs\\python\\python37\\lib\\site-packages\\sklearn\\ensemble\\forest.py\u001b[0m in \u001b[0;36mfit\u001b[1;34m(self, X, y, sample_weight)\u001b[0m\n\u001b[0;32m    331\u001b[0m                     \u001b[0mt\u001b[0m\u001b[1;33m,\u001b[0m \u001b[0mself\u001b[0m\u001b[1;33m,\u001b[0m \u001b[0mX\u001b[0m\u001b[1;33m,\u001b[0m \u001b[0my\u001b[0m\u001b[1;33m,\u001b[0m \u001b[0msample_weight\u001b[0m\u001b[1;33m,\u001b[0m \u001b[0mi\u001b[0m\u001b[1;33m,\u001b[0m \u001b[0mlen\u001b[0m\u001b[1;33m(\u001b[0m\u001b[0mtrees\u001b[0m\u001b[1;33m)\u001b[0m\u001b[1;33m,\u001b[0m\u001b[1;33m\u001b[0m\u001b[1;33m\u001b[0m\u001b[0m\n\u001b[0;32m    332\u001b[0m                     verbose=self.verbose, class_weight=self.class_weight)\n\u001b[1;32m--> 333\u001b[1;33m                 for i, t in enumerate(trees))\n\u001b[0m\u001b[0;32m    334\u001b[0m \u001b[1;33m\u001b[0m\u001b[0m\n\u001b[0;32m    335\u001b[0m             \u001b[1;31m# Collect newly grown trees\u001b[0m\u001b[1;33m\u001b[0m\u001b[1;33m\u001b[0m\u001b[1;33m\u001b[0m\u001b[0m\n",
      "\u001b[1;32mc:\\users\\amand\\appdata\\local\\programs\\python\\python37\\lib\\site-packages\\sklearn\\externals\\joblib\\parallel.py\u001b[0m in \u001b[0;36m__call__\u001b[1;34m(self, iterable)\u001b[0m\n\u001b[0;32m    918\u001b[0m                 \u001b[0mself\u001b[0m\u001b[1;33m.\u001b[0m\u001b[0m_iterating\u001b[0m \u001b[1;33m=\u001b[0m \u001b[0mself\u001b[0m\u001b[1;33m.\u001b[0m\u001b[0m_original_iterator\u001b[0m \u001b[1;32mis\u001b[0m \u001b[1;32mnot\u001b[0m \u001b[1;32mNone\u001b[0m\u001b[1;33m\u001b[0m\u001b[1;33m\u001b[0m\u001b[0m\n\u001b[0;32m    919\u001b[0m \u001b[1;33m\u001b[0m\u001b[0m\n\u001b[1;32m--> 920\u001b[1;33m             \u001b[1;32mwhile\u001b[0m \u001b[0mself\u001b[0m\u001b[1;33m.\u001b[0m\u001b[0mdispatch_one_batch\u001b[0m\u001b[1;33m(\u001b[0m\u001b[0miterator\u001b[0m\u001b[1;33m)\u001b[0m\u001b[1;33m:\u001b[0m\u001b[1;33m\u001b[0m\u001b[1;33m\u001b[0m\u001b[0m\n\u001b[0m\u001b[0;32m    921\u001b[0m                 \u001b[1;32mpass\u001b[0m\u001b[1;33m\u001b[0m\u001b[1;33m\u001b[0m\u001b[0m\n\u001b[0;32m    922\u001b[0m \u001b[1;33m\u001b[0m\u001b[0m\n",
      "\u001b[1;32mc:\\users\\amand\\appdata\\local\\programs\\python\\python37\\lib\\site-packages\\sklearn\\externals\\joblib\\parallel.py\u001b[0m in \u001b[0;36mdispatch_one_batch\u001b[1;34m(self, iterator)\u001b[0m\n\u001b[0;32m    757\u001b[0m                 \u001b[1;32mreturn\u001b[0m \u001b[1;32mFalse\u001b[0m\u001b[1;33m\u001b[0m\u001b[1;33m\u001b[0m\u001b[0m\n\u001b[0;32m    758\u001b[0m             \u001b[1;32melse\u001b[0m\u001b[1;33m:\u001b[0m\u001b[1;33m\u001b[0m\u001b[1;33m\u001b[0m\u001b[0m\n\u001b[1;32m--> 759\u001b[1;33m                 \u001b[0mself\u001b[0m\u001b[1;33m.\u001b[0m\u001b[0m_dispatch\u001b[0m\u001b[1;33m(\u001b[0m\u001b[0mtasks\u001b[0m\u001b[1;33m)\u001b[0m\u001b[1;33m\u001b[0m\u001b[1;33m\u001b[0m\u001b[0m\n\u001b[0m\u001b[0;32m    760\u001b[0m                 \u001b[1;32mreturn\u001b[0m \u001b[1;32mTrue\u001b[0m\u001b[1;33m\u001b[0m\u001b[1;33m\u001b[0m\u001b[0m\n\u001b[0;32m    761\u001b[0m \u001b[1;33m\u001b[0m\u001b[0m\n",
      "\u001b[1;32mc:\\users\\amand\\appdata\\local\\programs\\python\\python37\\lib\\site-packages\\sklearn\\externals\\joblib\\parallel.py\u001b[0m in \u001b[0;36m_dispatch\u001b[1;34m(self, batch)\u001b[0m\n\u001b[0;32m    714\u001b[0m         \u001b[1;32mwith\u001b[0m \u001b[0mself\u001b[0m\u001b[1;33m.\u001b[0m\u001b[0m_lock\u001b[0m\u001b[1;33m:\u001b[0m\u001b[1;33m\u001b[0m\u001b[1;33m\u001b[0m\u001b[0m\n\u001b[0;32m    715\u001b[0m             \u001b[0mjob_idx\u001b[0m \u001b[1;33m=\u001b[0m \u001b[0mlen\u001b[0m\u001b[1;33m(\u001b[0m\u001b[0mself\u001b[0m\u001b[1;33m.\u001b[0m\u001b[0m_jobs\u001b[0m\u001b[1;33m)\u001b[0m\u001b[1;33m\u001b[0m\u001b[1;33m\u001b[0m\u001b[0m\n\u001b[1;32m--> 716\u001b[1;33m             \u001b[0mjob\u001b[0m \u001b[1;33m=\u001b[0m \u001b[0mself\u001b[0m\u001b[1;33m.\u001b[0m\u001b[0m_backend\u001b[0m\u001b[1;33m.\u001b[0m\u001b[0mapply_async\u001b[0m\u001b[1;33m(\u001b[0m\u001b[0mbatch\u001b[0m\u001b[1;33m,\u001b[0m \u001b[0mcallback\u001b[0m\u001b[1;33m=\u001b[0m\u001b[0mcb\u001b[0m\u001b[1;33m)\u001b[0m\u001b[1;33m\u001b[0m\u001b[1;33m\u001b[0m\u001b[0m\n\u001b[0m\u001b[0;32m    717\u001b[0m             \u001b[1;31m# A job can complete so quickly than its callback is\u001b[0m\u001b[1;33m\u001b[0m\u001b[1;33m\u001b[0m\u001b[1;33m\u001b[0m\u001b[0m\n\u001b[0;32m    718\u001b[0m             \u001b[1;31m# called before we get here, causing self._jobs to\u001b[0m\u001b[1;33m\u001b[0m\u001b[1;33m\u001b[0m\u001b[1;33m\u001b[0m\u001b[0m\n",
      "\u001b[1;32mc:\\users\\amand\\appdata\\local\\programs\\python\\python37\\lib\\site-packages\\sklearn\\externals\\joblib\\_parallel_backends.py\u001b[0m in \u001b[0;36mapply_async\u001b[1;34m(self, func, callback)\u001b[0m\n\u001b[0;32m    180\u001b[0m     \u001b[1;32mdef\u001b[0m \u001b[0mapply_async\u001b[0m\u001b[1;33m(\u001b[0m\u001b[0mself\u001b[0m\u001b[1;33m,\u001b[0m \u001b[0mfunc\u001b[0m\u001b[1;33m,\u001b[0m \u001b[0mcallback\u001b[0m\u001b[1;33m=\u001b[0m\u001b[1;32mNone\u001b[0m\u001b[1;33m)\u001b[0m\u001b[1;33m:\u001b[0m\u001b[1;33m\u001b[0m\u001b[1;33m\u001b[0m\u001b[0m\n\u001b[0;32m    181\u001b[0m         \u001b[1;34m\"\"\"Schedule a func to be run\"\"\"\u001b[0m\u001b[1;33m\u001b[0m\u001b[1;33m\u001b[0m\u001b[0m\n\u001b[1;32m--> 182\u001b[1;33m         \u001b[0mresult\u001b[0m \u001b[1;33m=\u001b[0m \u001b[0mImmediateResult\u001b[0m\u001b[1;33m(\u001b[0m\u001b[0mfunc\u001b[0m\u001b[1;33m)\u001b[0m\u001b[1;33m\u001b[0m\u001b[1;33m\u001b[0m\u001b[0m\n\u001b[0m\u001b[0;32m    183\u001b[0m         \u001b[1;32mif\u001b[0m \u001b[0mcallback\u001b[0m\u001b[1;33m:\u001b[0m\u001b[1;33m\u001b[0m\u001b[1;33m\u001b[0m\u001b[0m\n\u001b[0;32m    184\u001b[0m             \u001b[0mcallback\u001b[0m\u001b[1;33m(\u001b[0m\u001b[0mresult\u001b[0m\u001b[1;33m)\u001b[0m\u001b[1;33m\u001b[0m\u001b[1;33m\u001b[0m\u001b[0m\n",
      "\u001b[1;32mc:\\users\\amand\\appdata\\local\\programs\\python\\python37\\lib\\site-packages\\sklearn\\externals\\joblib\\_parallel_backends.py\u001b[0m in \u001b[0;36m__init__\u001b[1;34m(self, batch)\u001b[0m\n\u001b[0;32m    547\u001b[0m         \u001b[1;31m# Don't delay the application, to avoid keeping the input\u001b[0m\u001b[1;33m\u001b[0m\u001b[1;33m\u001b[0m\u001b[1;33m\u001b[0m\u001b[0m\n\u001b[0;32m    548\u001b[0m         \u001b[1;31m# arguments in memory\u001b[0m\u001b[1;33m\u001b[0m\u001b[1;33m\u001b[0m\u001b[1;33m\u001b[0m\u001b[0m\n\u001b[1;32m--> 549\u001b[1;33m         \u001b[0mself\u001b[0m\u001b[1;33m.\u001b[0m\u001b[0mresults\u001b[0m \u001b[1;33m=\u001b[0m \u001b[0mbatch\u001b[0m\u001b[1;33m(\u001b[0m\u001b[1;33m)\u001b[0m\u001b[1;33m\u001b[0m\u001b[1;33m\u001b[0m\u001b[0m\n\u001b[0m\u001b[0;32m    550\u001b[0m \u001b[1;33m\u001b[0m\u001b[0m\n\u001b[0;32m    551\u001b[0m     \u001b[1;32mdef\u001b[0m \u001b[0mget\u001b[0m\u001b[1;33m(\u001b[0m\u001b[0mself\u001b[0m\u001b[1;33m)\u001b[0m\u001b[1;33m:\u001b[0m\u001b[1;33m\u001b[0m\u001b[1;33m\u001b[0m\u001b[0m\n",
      "\u001b[1;32mc:\\users\\amand\\appdata\\local\\programs\\python\\python37\\lib\\site-packages\\sklearn\\externals\\joblib\\parallel.py\u001b[0m in \u001b[0;36m__call__\u001b[1;34m(self)\u001b[0m\n\u001b[0;32m    223\u001b[0m         \u001b[1;32mwith\u001b[0m \u001b[0mparallel_backend\u001b[0m\u001b[1;33m(\u001b[0m\u001b[0mself\u001b[0m\u001b[1;33m.\u001b[0m\u001b[0m_backend\u001b[0m\u001b[1;33m,\u001b[0m \u001b[0mn_jobs\u001b[0m\u001b[1;33m=\u001b[0m\u001b[0mself\u001b[0m\u001b[1;33m.\u001b[0m\u001b[0m_n_jobs\u001b[0m\u001b[1;33m)\u001b[0m\u001b[1;33m:\u001b[0m\u001b[1;33m\u001b[0m\u001b[1;33m\u001b[0m\u001b[0m\n\u001b[0;32m    224\u001b[0m             return [func(*args, **kwargs)\n\u001b[1;32m--> 225\u001b[1;33m                     for func, args, kwargs in self.items]\n\u001b[0m\u001b[0;32m    226\u001b[0m \u001b[1;33m\u001b[0m\u001b[0m\n\u001b[0;32m    227\u001b[0m     \u001b[1;32mdef\u001b[0m \u001b[0m__len__\u001b[0m\u001b[1;33m(\u001b[0m\u001b[0mself\u001b[0m\u001b[1;33m)\u001b[0m\u001b[1;33m:\u001b[0m\u001b[1;33m\u001b[0m\u001b[1;33m\u001b[0m\u001b[0m\n",
      "\u001b[1;32mc:\\users\\amand\\appdata\\local\\programs\\python\\python37\\lib\\site-packages\\sklearn\\externals\\joblib\\parallel.py\u001b[0m in \u001b[0;36m<listcomp>\u001b[1;34m(.0)\u001b[0m\n\u001b[0;32m    223\u001b[0m         \u001b[1;32mwith\u001b[0m \u001b[0mparallel_backend\u001b[0m\u001b[1;33m(\u001b[0m\u001b[0mself\u001b[0m\u001b[1;33m.\u001b[0m\u001b[0m_backend\u001b[0m\u001b[1;33m,\u001b[0m \u001b[0mn_jobs\u001b[0m\u001b[1;33m=\u001b[0m\u001b[0mself\u001b[0m\u001b[1;33m.\u001b[0m\u001b[0m_n_jobs\u001b[0m\u001b[1;33m)\u001b[0m\u001b[1;33m:\u001b[0m\u001b[1;33m\u001b[0m\u001b[1;33m\u001b[0m\u001b[0m\n\u001b[0;32m    224\u001b[0m             return [func(*args, **kwargs)\n\u001b[1;32m--> 225\u001b[1;33m                     for func, args, kwargs in self.items]\n\u001b[0m\u001b[0;32m    226\u001b[0m \u001b[1;33m\u001b[0m\u001b[0m\n\u001b[0;32m    227\u001b[0m     \u001b[1;32mdef\u001b[0m \u001b[0m__len__\u001b[0m\u001b[1;33m(\u001b[0m\u001b[0mself\u001b[0m\u001b[1;33m)\u001b[0m\u001b[1;33m:\u001b[0m\u001b[1;33m\u001b[0m\u001b[1;33m\u001b[0m\u001b[0m\n",
      "\u001b[1;32mc:\\users\\amand\\appdata\\local\\programs\\python\\python37\\lib\\site-packages\\sklearn\\ensemble\\forest.py\u001b[0m in \u001b[0;36m_parallel_build_trees\u001b[1;34m(tree, forest, X, y, sample_weight, tree_idx, n_trees, verbose, class_weight)\u001b[0m\n\u001b[0;32m    117\u001b[0m             \u001b[0mcurr_sample_weight\u001b[0m \u001b[1;33m*=\u001b[0m \u001b[0mcompute_sample_weight\u001b[0m\u001b[1;33m(\u001b[0m\u001b[1;34m'balanced'\u001b[0m\u001b[1;33m,\u001b[0m \u001b[0my\u001b[0m\u001b[1;33m,\u001b[0m \u001b[0mindices\u001b[0m\u001b[1;33m)\u001b[0m\u001b[1;33m\u001b[0m\u001b[1;33m\u001b[0m\u001b[0m\n\u001b[0;32m    118\u001b[0m \u001b[1;33m\u001b[0m\u001b[0m\n\u001b[1;32m--> 119\u001b[1;33m         \u001b[0mtree\u001b[0m\u001b[1;33m.\u001b[0m\u001b[0mfit\u001b[0m\u001b[1;33m(\u001b[0m\u001b[0mX\u001b[0m\u001b[1;33m,\u001b[0m \u001b[0my\u001b[0m\u001b[1;33m,\u001b[0m \u001b[0msample_weight\u001b[0m\u001b[1;33m=\u001b[0m\u001b[0mcurr_sample_weight\u001b[0m\u001b[1;33m,\u001b[0m \u001b[0mcheck_input\u001b[0m\u001b[1;33m=\u001b[0m\u001b[1;32mFalse\u001b[0m\u001b[1;33m)\u001b[0m\u001b[1;33m\u001b[0m\u001b[1;33m\u001b[0m\u001b[0m\n\u001b[0m\u001b[0;32m    120\u001b[0m     \u001b[1;32melse\u001b[0m\u001b[1;33m:\u001b[0m\u001b[1;33m\u001b[0m\u001b[1;33m\u001b[0m\u001b[0m\n\u001b[0;32m    121\u001b[0m         \u001b[0mtree\u001b[0m\u001b[1;33m.\u001b[0m\u001b[0mfit\u001b[0m\u001b[1;33m(\u001b[0m\u001b[0mX\u001b[0m\u001b[1;33m,\u001b[0m \u001b[0my\u001b[0m\u001b[1;33m,\u001b[0m \u001b[0msample_weight\u001b[0m\u001b[1;33m=\u001b[0m\u001b[0msample_weight\u001b[0m\u001b[1;33m,\u001b[0m \u001b[0mcheck_input\u001b[0m\u001b[1;33m=\u001b[0m\u001b[1;32mFalse\u001b[0m\u001b[1;33m)\u001b[0m\u001b[1;33m\u001b[0m\u001b[1;33m\u001b[0m\u001b[0m\n",
      "\u001b[1;32mc:\\users\\amand\\appdata\\local\\programs\\python\\python37\\lib\\site-packages\\sklearn\\tree\\tree.py\u001b[0m in \u001b[0;36mfit\u001b[1;34m(self, X, y, sample_weight, check_input, X_idx_sorted)\u001b[0m\n\u001b[0;32m    799\u001b[0m             \u001b[0msample_weight\u001b[0m\u001b[1;33m=\u001b[0m\u001b[0msample_weight\u001b[0m\u001b[1;33m,\u001b[0m\u001b[1;33m\u001b[0m\u001b[1;33m\u001b[0m\u001b[0m\n\u001b[0;32m    800\u001b[0m             \u001b[0mcheck_input\u001b[0m\u001b[1;33m=\u001b[0m\u001b[0mcheck_input\u001b[0m\u001b[1;33m,\u001b[0m\u001b[1;33m\u001b[0m\u001b[1;33m\u001b[0m\u001b[0m\n\u001b[1;32m--> 801\u001b[1;33m             X_idx_sorted=X_idx_sorted)\n\u001b[0m\u001b[0;32m    802\u001b[0m         \u001b[1;32mreturn\u001b[0m \u001b[0mself\u001b[0m\u001b[1;33m\u001b[0m\u001b[1;33m\u001b[0m\u001b[0m\n\u001b[0;32m    803\u001b[0m \u001b[1;33m\u001b[0m\u001b[0m\n",
      "\u001b[1;32mc:\\users\\amand\\appdata\\local\\programs\\python\\python37\\lib\\site-packages\\sklearn\\tree\\tree.py\u001b[0m in \u001b[0;36mfit\u001b[1;34m(self, X, y, sample_weight, check_input, X_idx_sorted)\u001b[0m\n\u001b[0;32m    364\u001b[0m                                            min_impurity_split)\n\u001b[0;32m    365\u001b[0m \u001b[1;33m\u001b[0m\u001b[0m\n\u001b[1;32m--> 366\u001b[1;33m         \u001b[0mbuilder\u001b[0m\u001b[1;33m.\u001b[0m\u001b[0mbuild\u001b[0m\u001b[1;33m(\u001b[0m\u001b[0mself\u001b[0m\u001b[1;33m.\u001b[0m\u001b[0mtree_\u001b[0m\u001b[1;33m,\u001b[0m \u001b[0mX\u001b[0m\u001b[1;33m,\u001b[0m \u001b[0my\u001b[0m\u001b[1;33m,\u001b[0m \u001b[0msample_weight\u001b[0m\u001b[1;33m,\u001b[0m \u001b[0mX_idx_sorted\u001b[0m\u001b[1;33m)\u001b[0m\u001b[1;33m\u001b[0m\u001b[1;33m\u001b[0m\u001b[0m\n\u001b[0m\u001b[0;32m    367\u001b[0m \u001b[1;33m\u001b[0m\u001b[0m\n\u001b[0;32m    368\u001b[0m         \u001b[1;32mif\u001b[0m \u001b[0mself\u001b[0m\u001b[1;33m.\u001b[0m\u001b[0mn_outputs_\u001b[0m \u001b[1;33m==\u001b[0m \u001b[1;36m1\u001b[0m\u001b[1;33m:\u001b[0m\u001b[1;33m\u001b[0m\u001b[1;33m\u001b[0m\u001b[0m\n",
      "\u001b[1;31mKeyboardInterrupt\u001b[0m: "
     ]
    }
   ],
   "source": [
    "#from sklearn.model_selection import RandomizedSearchCV\n",
    "\n",
    "#cv_new = RandomizedSearchCV(rfclf, param_grid_new, cv=5)\n",
    "#cv_new.fit(train2_X, train2_y)\n",
    "#print(cv_new.best_params_, cv_new.best_score_)"
   ]
  },
  {
   "cell_type": "markdown",
   "metadata": {},
   "source": [
    "Now we will write a function that will print out top 10 songs for a user"
   ]
  },
  {
   "cell_type": "code",
   "execution_count": 182,
   "metadata": {},
   "outputs": [],
   "source": [
    "def get_top_songs(user_id):\n",
    "    \n",
    "    # get songs user has listened to \n",
    "    listened_songs = train2_df[train2_df.user_id == user_id].song.unique()\n",
    "    \n",
    "    # get songs user has not listened to \n",
    "    songs = train2_df.drop(columns=['user_id','listen_count']).drop_duplicates('song')\n",
    "    not_listened = songs[~songs.song.isin(listened_songs)].drop(columns=['u1', 'u2', 'u3', 'u4', 'u5', 'u6', 'u7','label'])\n",
    "    not_listened['user_id'] = user_id\n",
    "    \n",
    "    # join user features and song features on songs not listened to\n",
    "    not_listened_df = not_listened.merge(user_factors, on = 'user_id')\n",
    "    \n",
    "    # run classifier on songs not listened to\n",
    "    pred = xgb.predict_proba(not_listened_df[['acousticness', 'danceability',\n",
    "       'duration_ms', 'energy', 'instrumentalness', 'key', 'liveness',\n",
    "       'loudness', 'mode', 'speechiness', 'tempo', 'time_signature','valence','s1', 's2', 's3', 's4', 's5','s6','s7', 'u1','u2','u3','u4','u5','u6','u7']])\n",
    "    \n",
    "    # add probabilities of belonging to class 'high_count'\n",
    "    not_listened_df['pred']= pred[:,0]\n",
    "    \n",
    "    # get top 10 predictions\n",
    "    top_pred = not_listened_df.sort_values(by ='pred', ascending=False).head(10)\n",
    "    return top_pred[['song_id', 'song', 'pred']]"
   ]
  },
  {
   "cell_type": "code",
   "execution_count": 183,
   "metadata": {
    "scrolled": true
   },
   "outputs": [
    {
     "data": {
      "text/html": [
       "<div>\n",
       "<style scoped>\n",
       "    .dataframe tbody tr th:only-of-type {\n",
       "        vertical-align: middle;\n",
       "    }\n",
       "\n",
       "    .dataframe tbody tr th {\n",
       "        vertical-align: top;\n",
       "    }\n",
       "\n",
       "    .dataframe thead th {\n",
       "        text-align: right;\n",
       "    }\n",
       "</style>\n",
       "<table border=\"1\" class=\"dataframe\">\n",
       "  <thead>\n",
       "    <tr style=\"text-align: right;\">\n",
       "      <th></th>\n",
       "      <th>song_id</th>\n",
       "      <th>song</th>\n",
       "      <th>pred</th>\n",
       "    </tr>\n",
       "  </thead>\n",
       "  <tbody>\n",
       "    <tr>\n",
       "      <th>4974</th>\n",
       "      <td>SOMMIXC12A6D4F9EF0</td>\n",
       "      <td>Collecting Skylines - Swearing At Motorists</td>\n",
       "      <td>0.545943</td>\n",
       "    </tr>\n",
       "    <tr>\n",
       "      <th>4341</th>\n",
       "      <td>SOMBGAL12AB0181F7F</td>\n",
       "      <td>(iii) - The Gerbils</td>\n",
       "      <td>0.526405</td>\n",
       "    </tr>\n",
       "    <tr>\n",
       "      <th>4889</th>\n",
       "      <td>SOIYGXO12A679D7E64</td>\n",
       "      <td>Taja's Lude (Interlude) - Blackstreet</td>\n",
       "      <td>0.449230</td>\n",
       "    </tr>\n",
       "    <tr>\n",
       "      <th>55</th>\n",
       "      <td>SOSXLTC12AF72A7F54</td>\n",
       "      <td>Revelry - Kings Of Leon</td>\n",
       "      <td>0.448057</td>\n",
       "    </tr>\n",
       "    <tr>\n",
       "      <th>2</th>\n",
       "      <td>SOAWMKQ12A8C13C340</td>\n",
       "      <td>Make Gay Love Not War - Need New Body</td>\n",
       "      <td>0.410568</td>\n",
       "    </tr>\n",
       "    <tr>\n",
       "      <th>1012</th>\n",
       "      <td>SOLMEOG12A8C142046</td>\n",
       "      <td>Naked - Marques Houston</td>\n",
       "      <td>0.405738</td>\n",
       "    </tr>\n",
       "    <tr>\n",
       "      <th>5676</th>\n",
       "      <td>SOZQKZS12A8C13B190</td>\n",
       "      <td>A Primera Vista - Pedro Aznar</td>\n",
       "      <td>0.390117</td>\n",
       "    </tr>\n",
       "    <tr>\n",
       "      <th>574</th>\n",
       "      <td>SOVHKJL12AB017E2B2</td>\n",
       "      <td>Superballs - Insane Clown Posse</td>\n",
       "      <td>0.387892</td>\n",
       "    </tr>\n",
       "    <tr>\n",
       "      <th>4702</th>\n",
       "      <td>SOJLYEB12A6D4F9750</td>\n",
       "      <td>Angel - Matt Nathanson</td>\n",
       "      <td>0.387383</td>\n",
       "    </tr>\n",
       "    <tr>\n",
       "      <th>201</th>\n",
       "      <td>SOUFTBI12AB0183F65</td>\n",
       "      <td>Invalid - Tub Ring</td>\n",
       "      <td>0.380381</td>\n",
       "    </tr>\n",
       "  </tbody>\n",
       "</table>\n",
       "</div>"
      ],
      "text/plain": [
       "                 song_id                                         song  \\\n",
       "4974  SOMMIXC12A6D4F9EF0  Collecting Skylines - Swearing At Motorists   \n",
       "4341  SOMBGAL12AB0181F7F                          (iii) - The Gerbils   \n",
       "4889  SOIYGXO12A679D7E64        Taja's Lude (Interlude) - Blackstreet   \n",
       "55    SOSXLTC12AF72A7F54                      Revelry - Kings Of Leon   \n",
       "2     SOAWMKQ12A8C13C340        Make Gay Love Not War - Need New Body   \n",
       "1012  SOLMEOG12A8C142046                      Naked - Marques Houston   \n",
       "5676  SOZQKZS12A8C13B190                A Primera Vista - Pedro Aznar   \n",
       "574   SOVHKJL12AB017E2B2              Superballs - Insane Clown Posse   \n",
       "4702  SOJLYEB12A6D4F9750                       Angel - Matt Nathanson   \n",
       "201   SOUFTBI12AB0183F65                           Invalid - Tub Ring   \n",
       "\n",
       "          pred  \n",
       "4974  0.545943  \n",
       "4341  0.526405  \n",
       "4889  0.449230  \n",
       "55    0.448057  \n",
       "2     0.410568  \n",
       "1012  0.405738  \n",
       "5676  0.390117  \n",
       "574   0.387892  \n",
       "4702  0.387383  \n",
       "201   0.380381  "
      ]
     },
     "execution_count": 183,
     "metadata": {},
     "output_type": "execute_result"
    }
   ],
   "source": [
    "get_top_songs('f1ccb26d0d49490016747f6592e6f7b1e53a9e54')"
   ]
  },
  {
   "cell_type": "code",
   "execution_count": 176,
   "metadata": {},
   "outputs": [
    {
     "data": {
      "text/html": [
       "<div>\n",
       "<style scoped>\n",
       "    .dataframe tbody tr th:only-of-type {\n",
       "        vertical-align: middle;\n",
       "    }\n",
       "\n",
       "    .dataframe tbody tr th {\n",
       "        vertical-align: top;\n",
       "    }\n",
       "\n",
       "    .dataframe thead th {\n",
       "        text-align: right;\n",
       "    }\n",
       "</style>\n",
       "<table border=\"1\" class=\"dataframe\">\n",
       "  <thead>\n",
       "    <tr style=\"text-align: right;\">\n",
       "      <th></th>\n",
       "      <th>song</th>\n",
       "      <th>listen_count</th>\n",
       "      <th>label</th>\n",
       "    </tr>\n",
       "  </thead>\n",
       "  <tbody>\n",
       "    <tr>\n",
       "      <th>1323</th>\n",
       "      <td>Sweet home Alabama - Lynyrd Skynyrd</td>\n",
       "      <td>11</td>\n",
       "      <td>high_count</td>\n",
       "    </tr>\n",
       "    <tr>\n",
       "      <th>989</th>\n",
       "      <td>Woods - Bon Iver</td>\n",
       "      <td>6</td>\n",
       "      <td>high_count</td>\n",
       "    </tr>\n",
       "    <tr>\n",
       "      <th>1841</th>\n",
       "      <td>Who Can Compare - Foolish Things</td>\n",
       "      <td>6</td>\n",
       "      <td>high_count</td>\n",
       "    </tr>\n",
       "    <tr>\n",
       "      <th>1196</th>\n",
       "      <td>Lonelily - Damien Rice</td>\n",
       "      <td>4</td>\n",
       "      <td>high_count</td>\n",
       "    </tr>\n",
       "    <tr>\n",
       "      <th>2459</th>\n",
       "      <td>Over You - Roxy Music</td>\n",
       "      <td>4</td>\n",
       "      <td>high_count</td>\n",
       "    </tr>\n",
       "    <tr>\n",
       "      <th>862</th>\n",
       "      <td>Cannonball - Damien Rice</td>\n",
       "      <td>4</td>\n",
       "      <td>high_count</td>\n",
       "    </tr>\n",
       "    <tr>\n",
       "      <th>812</th>\n",
       "      <td>Cheers Darlin' - Damien Rice</td>\n",
       "      <td>4</td>\n",
       "      <td>high_count</td>\n",
       "    </tr>\n",
       "    <tr>\n",
       "      <th>1027</th>\n",
       "      <td>Amie - Damien Rice</td>\n",
       "      <td>3</td>\n",
       "      <td>high_count</td>\n",
       "    </tr>\n",
       "    <tr>\n",
       "      <th>1288</th>\n",
       "      <td>The Lighthouse's Tale - Nickel Creek</td>\n",
       "      <td>3</td>\n",
       "      <td>high_count</td>\n",
       "    </tr>\n",
       "    <tr>\n",
       "      <th>1706</th>\n",
       "      <td>Older Chests - Damien Rice</td>\n",
       "      <td>3</td>\n",
       "      <td>high_count</td>\n",
       "    </tr>\n",
       "    <tr>\n",
       "      <th>1106</th>\n",
       "      <td>I Remember - Damien Rice</td>\n",
       "      <td>2</td>\n",
       "      <td>low_count</td>\n",
       "    </tr>\n",
       "    <tr>\n",
       "      <th>31</th>\n",
       "      <td>You've Got The Love - Florence + The Machine</td>\n",
       "      <td>2</td>\n",
       "      <td>low_count</td>\n",
       "    </tr>\n",
       "    <tr>\n",
       "      <th>2400</th>\n",
       "      <td>Beach Baby - Bon Iver</td>\n",
       "      <td>2</td>\n",
       "      <td>low_count</td>\n",
       "    </tr>\n",
       "    <tr>\n",
       "      <th>0</th>\n",
       "      <td>Grey Room - Damien Rice</td>\n",
       "      <td>2</td>\n",
       "      <td>low_count</td>\n",
       "    </tr>\n",
       "    <tr>\n",
       "      <th>1152</th>\n",
       "      <td>The End - Pearl Jam</td>\n",
       "      <td>1</td>\n",
       "      <td>low_count</td>\n",
       "    </tr>\n",
       "    <tr>\n",
       "      <th>1243</th>\n",
       "      <td>Johnny Guitar - Pearl Jam</td>\n",
       "      <td>1</td>\n",
       "      <td>low_count</td>\n",
       "    </tr>\n",
       "    <tr>\n",
       "      <th>1674</th>\n",
       "      <td>When In Rome - Nickel Creek</td>\n",
       "      <td>1</td>\n",
       "      <td>low_count</td>\n",
       "    </tr>\n",
       "    <tr>\n",
       "      <th>1745</th>\n",
       "      <td>Hardest Of Hearts - Florence + The Machine</td>\n",
       "      <td>1</td>\n",
       "      <td>low_count</td>\n",
       "    </tr>\n",
       "    <tr>\n",
       "      <th>790</th>\n",
       "      <td>Dogs - Damien Rice</td>\n",
       "      <td>1</td>\n",
       "      <td>low_count</td>\n",
       "    </tr>\n",
       "  </tbody>\n",
       "</table>\n",
       "</div>"
      ],
      "text/plain": [
       "                                              song  listen_count       label\n",
       "1323           Sweet home Alabama - Lynyrd Skynyrd            11  high_count\n",
       "989                               Woods - Bon Iver             6  high_count\n",
       "1841              Who Can Compare - Foolish Things             6  high_count\n",
       "1196                        Lonelily - Damien Rice             4  high_count\n",
       "2459                         Over You - Roxy Music             4  high_count\n",
       "862                       Cannonball - Damien Rice             4  high_count\n",
       "812                   Cheers Darlin' - Damien Rice             4  high_count\n",
       "1027                            Amie - Damien Rice             3  high_count\n",
       "1288          The Lighthouse's Tale - Nickel Creek             3  high_count\n",
       "1706                    Older Chests - Damien Rice             3  high_count\n",
       "1106                      I Remember - Damien Rice             2   low_count\n",
       "31    You've Got The Love - Florence + The Machine             2   low_count\n",
       "2400                         Beach Baby - Bon Iver             2   low_count\n",
       "0                          Grey Room - Damien Rice             2   low_count\n",
       "1152                           The End - Pearl Jam             1   low_count\n",
       "1243                     Johnny Guitar - Pearl Jam             1   low_count\n",
       "1674                   When In Rome - Nickel Creek             1   low_count\n",
       "1745    Hardest Of Hearts - Florence + The Machine             1   low_count\n",
       "790                             Dogs - Damien Rice             1   low_count"
      ]
     },
     "execution_count": 176,
     "metadata": {},
     "output_type": "execute_result"
    }
   ],
   "source": [
    "train2_df[train2_df.user_id == 'f1ccb26d0d49490016747f6592e6f7b1e53a9e54'].sort_values(by='listen_count', ascending=False)[['song','listen_count','label']]"
   ]
  },
  {
   "cell_type": "code",
   "execution_count": null,
   "metadata": {},
   "outputs": [],
   "source": []
  }
 ],
 "metadata": {
  "kernelspec": {
   "display_name": "Python 3",
   "language": "python",
   "name": "python3"
  },
  "language_info": {
   "codemirror_mode": {
    "name": "ipython",
    "version": 3
   },
   "file_extension": ".py",
   "mimetype": "text/x-python",
   "name": "python",
   "nbconvert_exporter": "python",
   "pygments_lexer": "ipython3",
   "version": "3.7.1"
  }
 },
 "nbformat": 4,
 "nbformat_minor": 2
}
