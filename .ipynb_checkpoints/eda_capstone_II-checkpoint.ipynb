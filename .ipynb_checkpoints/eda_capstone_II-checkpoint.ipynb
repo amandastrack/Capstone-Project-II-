{
 "cells": [
  {
   "cell_type": "markdown",
   "metadata": {},
   "source": [
    "# Exploratory Data Analysis: Part I\n",
    "\n",
    "We will explore the dataset consisting of user's listening activity. The first part of the EDA is exploring the dataset without the Spotify audio features. The purpose of this analysis is to understand the users listening behavior and see if there are any aspects of our data that may skew our recommendations.\n",
    "\n",
    "* How many different songs does a user actually listen to?\n",
    "* How many times is each song listened to?\n",
    "* How many unique users listen to each song?\n",
    "* Whats the total listen count of each user? "
   ]
  },
  {
   "cell_type": "code",
   "execution_count": 1,
   "metadata": {},
   "outputs": [],
   "source": [
    "import pandas as pd\n",
    "import seaborn as sns\n",
    "import matplotlib\n",
    "import matplotlib.pyplot as plt\n",
    "\n",
    "#import dataset\n",
    "user_df = pd.read_csv('User_SongFeatures_data.csv')"
   ]
  },
  {
   "cell_type": "code",
   "execution_count": 2,
   "metadata": {},
   "outputs": [
    {
     "data": {
      "text/html": [
       "<div>\n",
       "<style scoped>\n",
       "    .dataframe tbody tr th:only-of-type {\n",
       "        vertical-align: middle;\n",
       "    }\n",
       "\n",
       "    .dataframe tbody tr th {\n",
       "        vertical-align: top;\n",
       "    }\n",
       "\n",
       "    .dataframe thead th {\n",
       "        text-align: right;\n",
       "    }\n",
       "</style>\n",
       "<table border=\"1\" class=\"dataframe\">\n",
       "  <thead>\n",
       "    <tr style=\"text-align: right;\">\n",
       "      <th></th>\n",
       "      <th>user_id</th>\n",
       "      <th>song_id</th>\n",
       "      <th>listen_count</th>\n",
       "      <th>title</th>\n",
       "      <th>release</th>\n",
       "      <th>artist_name</th>\n",
       "      <th>year</th>\n",
       "      <th>song</th>\n",
       "      <th>id</th>\n",
       "      <th>name</th>\n",
       "      <th>...</th>\n",
       "      <th>liveness</th>\n",
       "      <th>loudness</th>\n",
       "      <th>mode</th>\n",
       "      <th>speechiness</th>\n",
       "      <th>tempo</th>\n",
       "      <th>time_signature</th>\n",
       "      <th>track_href</th>\n",
       "      <th>type</th>\n",
       "      <th>uri_y</th>\n",
       "      <th>valence</th>\n",
       "    </tr>\n",
       "  </thead>\n",
       "  <tbody>\n",
       "    <tr>\n",
       "      <th>0</th>\n",
       "      <td>b80344d063b5ccb3212f76538f3d9e43d87dca9e</td>\n",
       "      <td>SOBXHDL12A81C204C0</td>\n",
       "      <td>1</td>\n",
       "      <td>stronger</td>\n",
       "      <td>Graduation</td>\n",
       "      <td>kanye west</td>\n",
       "      <td>2007</td>\n",
       "      <td>Stronger - Kanye West</td>\n",
       "      <td>4fzsfWzRhPawzqhX8Qt9F3</td>\n",
       "      <td>stronger</td>\n",
       "      <td>...</td>\n",
       "      <td>0.408</td>\n",
       "      <td>-7.858</td>\n",
       "      <td>0</td>\n",
       "      <td>0.153</td>\n",
       "      <td>103.992</td>\n",
       "      <td>4</td>\n",
       "      <td>https://api.spotify.com/v1/tracks/4fzsfWzRhPaw...</td>\n",
       "      <td>audio_features</td>\n",
       "      <td>spotify:track:4fzsfWzRhPawzqhX8Qt9F3</td>\n",
       "      <td>0.49</td>\n",
       "    </tr>\n",
       "    <tr>\n",
       "      <th>1</th>\n",
       "      <td>9fba771d9731561eba47216f6fbfc0023d88641b</td>\n",
       "      <td>SOBXHDL12A81C204C0</td>\n",
       "      <td>19</td>\n",
       "      <td>stronger</td>\n",
       "      <td>Graduation</td>\n",
       "      <td>kanye west</td>\n",
       "      <td>2007</td>\n",
       "      <td>Stronger - Kanye West</td>\n",
       "      <td>4fzsfWzRhPawzqhX8Qt9F3</td>\n",
       "      <td>stronger</td>\n",
       "      <td>...</td>\n",
       "      <td>0.408</td>\n",
       "      <td>-7.858</td>\n",
       "      <td>0</td>\n",
       "      <td>0.153</td>\n",
       "      <td>103.992</td>\n",
       "      <td>4</td>\n",
       "      <td>https://api.spotify.com/v1/tracks/4fzsfWzRhPaw...</td>\n",
       "      <td>audio_features</td>\n",
       "      <td>spotify:track:4fzsfWzRhPawzqhX8Qt9F3</td>\n",
       "      <td>0.49</td>\n",
       "    </tr>\n",
       "    <tr>\n",
       "      <th>2</th>\n",
       "      <td>85952991b8e3ca5803a08b0b2f9c6d71abf9bb5b</td>\n",
       "      <td>SOBXHDL12A81C204C0</td>\n",
       "      <td>1</td>\n",
       "      <td>stronger</td>\n",
       "      <td>Graduation</td>\n",
       "      <td>kanye west</td>\n",
       "      <td>2007</td>\n",
       "      <td>Stronger - Kanye West</td>\n",
       "      <td>4fzsfWzRhPawzqhX8Qt9F3</td>\n",
       "      <td>stronger</td>\n",
       "      <td>...</td>\n",
       "      <td>0.408</td>\n",
       "      <td>-7.858</td>\n",
       "      <td>0</td>\n",
       "      <td>0.153</td>\n",
       "      <td>103.992</td>\n",
       "      <td>4</td>\n",
       "      <td>https://api.spotify.com/v1/tracks/4fzsfWzRhPaw...</td>\n",
       "      <td>audio_features</td>\n",
       "      <td>spotify:track:4fzsfWzRhPawzqhX8Qt9F3</td>\n",
       "      <td>0.49</td>\n",
       "    </tr>\n",
       "    <tr>\n",
       "      <th>3</th>\n",
       "      <td>537340ff896dea11328910013cfe759413e1eeb3</td>\n",
       "      <td>SOBXHDL12A81C204C0</td>\n",
       "      <td>2</td>\n",
       "      <td>stronger</td>\n",
       "      <td>Graduation</td>\n",
       "      <td>kanye west</td>\n",
       "      <td>2007</td>\n",
       "      <td>Stronger - Kanye West</td>\n",
       "      <td>4fzsfWzRhPawzqhX8Qt9F3</td>\n",
       "      <td>stronger</td>\n",
       "      <td>...</td>\n",
       "      <td>0.408</td>\n",
       "      <td>-7.858</td>\n",
       "      <td>0</td>\n",
       "      <td>0.153</td>\n",
       "      <td>103.992</td>\n",
       "      <td>4</td>\n",
       "      <td>https://api.spotify.com/v1/tracks/4fzsfWzRhPaw...</td>\n",
       "      <td>audio_features</td>\n",
       "      <td>spotify:track:4fzsfWzRhPawzqhX8Qt9F3</td>\n",
       "      <td>0.49</td>\n",
       "    </tr>\n",
       "    <tr>\n",
       "      <th>4</th>\n",
       "      <td>8fce200f3912e9608e3b1463cdb9c3529aab5c08</td>\n",
       "      <td>SOBXHDL12A81C204C0</td>\n",
       "      <td>2</td>\n",
       "      <td>stronger</td>\n",
       "      <td>Graduation</td>\n",
       "      <td>kanye west</td>\n",
       "      <td>2007</td>\n",
       "      <td>Stronger - Kanye West</td>\n",
       "      <td>4fzsfWzRhPawzqhX8Qt9F3</td>\n",
       "      <td>stronger</td>\n",
       "      <td>...</td>\n",
       "      <td>0.408</td>\n",
       "      <td>-7.858</td>\n",
       "      <td>0</td>\n",
       "      <td>0.153</td>\n",
       "      <td>103.992</td>\n",
       "      <td>4</td>\n",
       "      <td>https://api.spotify.com/v1/tracks/4fzsfWzRhPaw...</td>\n",
       "      <td>audio_features</td>\n",
       "      <td>spotify:track:4fzsfWzRhPawzqhX8Qt9F3</td>\n",
       "      <td>0.49</td>\n",
       "    </tr>\n",
       "  </tbody>\n",
       "</table>\n",
       "<p>5 rows × 28 columns</p>\n",
       "</div>"
      ],
      "text/plain": [
       "                                    user_id             song_id  listen_count  \\\n",
       "0  b80344d063b5ccb3212f76538f3d9e43d87dca9e  SOBXHDL12A81C204C0             1   \n",
       "1  9fba771d9731561eba47216f6fbfc0023d88641b  SOBXHDL12A81C204C0            19   \n",
       "2  85952991b8e3ca5803a08b0b2f9c6d71abf9bb5b  SOBXHDL12A81C204C0             1   \n",
       "3  537340ff896dea11328910013cfe759413e1eeb3  SOBXHDL12A81C204C0             2   \n",
       "4  8fce200f3912e9608e3b1463cdb9c3529aab5c08  SOBXHDL12A81C204C0             2   \n",
       "\n",
       "      title     release artist_name  year                   song  \\\n",
       "0  stronger  Graduation  kanye west  2007  Stronger - Kanye West   \n",
       "1  stronger  Graduation  kanye west  2007  Stronger - Kanye West   \n",
       "2  stronger  Graduation  kanye west  2007  Stronger - Kanye West   \n",
       "3  stronger  Graduation  kanye west  2007  Stronger - Kanye West   \n",
       "4  stronger  Graduation  kanye west  2007  Stronger - Kanye West   \n",
       "\n",
       "                       id      name   ...    liveness  loudness mode  \\\n",
       "0  4fzsfWzRhPawzqhX8Qt9F3  stronger   ...       0.408    -7.858    0   \n",
       "1  4fzsfWzRhPawzqhX8Qt9F3  stronger   ...       0.408    -7.858    0   \n",
       "2  4fzsfWzRhPawzqhX8Qt9F3  stronger   ...       0.408    -7.858    0   \n",
       "3  4fzsfWzRhPawzqhX8Qt9F3  stronger   ...       0.408    -7.858    0   \n",
       "4  4fzsfWzRhPawzqhX8Qt9F3  stronger   ...       0.408    -7.858    0   \n",
       "\n",
       "   speechiness    tempo  time_signature  \\\n",
       "0        0.153  103.992               4   \n",
       "1        0.153  103.992               4   \n",
       "2        0.153  103.992               4   \n",
       "3        0.153  103.992               4   \n",
       "4        0.153  103.992               4   \n",
       "\n",
       "                                          track_href            type  \\\n",
       "0  https://api.spotify.com/v1/tracks/4fzsfWzRhPaw...  audio_features   \n",
       "1  https://api.spotify.com/v1/tracks/4fzsfWzRhPaw...  audio_features   \n",
       "2  https://api.spotify.com/v1/tracks/4fzsfWzRhPaw...  audio_features   \n",
       "3  https://api.spotify.com/v1/tracks/4fzsfWzRhPaw...  audio_features   \n",
       "4  https://api.spotify.com/v1/tracks/4fzsfWzRhPaw...  audio_features   \n",
       "\n",
       "                                  uri_y  valence  \n",
       "0  spotify:track:4fzsfWzRhPawzqhX8Qt9F3     0.49  \n",
       "1  spotify:track:4fzsfWzRhPawzqhX8Qt9F3     0.49  \n",
       "2  spotify:track:4fzsfWzRhPawzqhX8Qt9F3     0.49  \n",
       "3  spotify:track:4fzsfWzRhPawzqhX8Qt9F3     0.49  \n",
       "4  spotify:track:4fzsfWzRhPawzqhX8Qt9F3     0.49  \n",
       "\n",
       "[5 rows x 28 columns]"
      ]
     },
     "execution_count": 2,
     "metadata": {},
     "output_type": "execute_result"
    }
   ],
   "source": [
    "user_df.head()"
   ]
  },
  {
   "cell_type": "code",
   "execution_count": 3,
   "metadata": {},
   "outputs": [
    {
     "data": {
      "text/plain": [
       "5763"
      ]
     },
     "execution_count": 3,
     "metadata": {},
     "output_type": "execute_result"
    }
   ],
   "source": [
    "user_df.song_id.nunique()"
   ]
  },
  {
   "cell_type": "code",
   "execution_count": 4,
   "metadata": {},
   "outputs": [
    {
     "data": {
      "text/plain": [
       "74905"
      ]
     },
     "execution_count": 4,
     "metadata": {},
     "output_type": "execute_result"
    }
   ],
   "source": [
    "user_df.user_id.nunique()"
   ]
  },
  {
   "cell_type": "markdown",
   "metadata": {},
   "source": [
    "Before we get into EDA, we want to see if there any songs with multiple song ids."
   ]
  },
  {
   "cell_type": "code",
   "execution_count": 5,
   "metadata": {},
   "outputs": [
    {
     "data": {
      "text/plain": [
       "5730"
      ]
     },
     "execution_count": 5,
     "metadata": {},
     "output_type": "execute_result"
    }
   ],
   "source": [
    "user_df.song.nunique()"
   ]
  },
  {
   "cell_type": "markdown",
   "metadata": {},
   "source": [
    "Since there are a different number of unique song id's and unique song names that tells us that there are songs with multiple song id's. "
   ]
  },
  {
   "cell_type": "code",
   "execution_count": 6,
   "metadata": {},
   "outputs": [
    {
     "name": "stdout",
     "output_type": "stream",
     "text": [
      "                                                 song  id_count\n",
      "12             ...Baby One More Time - Britney Spears         2\n",
      "383                     Back To Black - Amy Winehouse         2\n",
      "1046             Damn Girl - The All-American Rejects         2\n",
      "1255                             Dream On - Aerosmith         2\n",
      "1260                        Dreamlover - Mariah Carey         2\n",
      "1339                             Electric Feel - MGMT         2\n",
      "1595                  Forever & Always - Taylor Swift         2\n",
      "1800                      Goodbye - Kristinia DeBarge         2\n",
      "1924                Heads Will Roll - Yeah Yeah Yeahs         2\n",
      "1939                        Hearts On Fire - Cut Copy         2\n",
      "2032                   Holes To Heaven - Jack Johnson         2\n",
      "2094                              Human - The Killers         4\n",
      "2103                    Hustler - Simian Mobile Disco         2\n",
      "2191  I Still Haven't Found What I'm Looking For - U2         2\n",
      "2576                 King Without A Crown - Matisyahu         2\n",
      "2667                           Lava Lava - Boys Noize         2\n",
      "2847            Love All The Pain Away - Ronski Speed         4\n",
      "2855            Love Is A Losing Game - Amy Winehouse         2\n",
      "2983                         Marble House - The Knife         2\n",
      "3127                       Moth's Wings - Passion Pit         2\n",
      "3641                                 Pink - Aerosmith         2\n",
      "3798                       Read My Mind - The Killers         2\n",
      "4003                             Saturdays - Cut Copy         2\n",
      "4222                         Sleepyhead - Passion Pit         2\n",
      "4297   Something Good Can Work - Two Door Cinema Club         2\n",
      "4464                            Stronger - Kanye West         2\n",
      "4601                   Tales Of Brave Ulysses - Cream         2\n",
      "5336                 Walking On The Moon - The Police         2\n",
      "5656                     You Make Me Wanna... - Usher         2\n",
      "29\n"
     ]
    }
   ],
   "source": [
    "song_id_count = user_df.groupby('song').nunique()[['song_id']].rename(columns={'song_id':'id_count'}).reset_index()\n",
    "dups = song_id_count[song_id_count['id_count'] > 1]\n",
    "print(dups)\n",
    "print(len(dups))"
   ]
  },
  {
   "cell_type": "markdown",
   "metadata": {},
   "source": [
    "There are 29 songs that have more than one song id. We do not want to treat these songs as separate songs as it will skew our recommendations. We tells us that when we building our model we should use the listen counts of song names rather than song id. "
   ]
  },
  {
   "cell_type": "markdown",
   "metadata": {},
   "source": [
    "### How many different songs does a user actually listen to?\n",
    "\n",
    "We want to explore the distribution of how many different songs each user listens to. For example, we would not have a valid data set for a recommendation engine is 90% of users have only listened to one song."
   ]
  },
  {
   "cell_type": "code",
   "execution_count": 7,
   "metadata": {},
   "outputs": [
    {
     "data": {
      "text/html": [
       "<div>\n",
       "<style scoped>\n",
       "    .dataframe tbody tr th:only-of-type {\n",
       "        vertical-align: middle;\n",
       "    }\n",
       "\n",
       "    .dataframe tbody tr th {\n",
       "        vertical-align: top;\n",
       "    }\n",
       "\n",
       "    .dataframe thead th {\n",
       "        text-align: right;\n",
       "    }\n",
       "</style>\n",
       "<table border=\"1\" class=\"dataframe\">\n",
       "  <thead>\n",
       "    <tr style=\"text-align: right;\">\n",
       "      <th></th>\n",
       "      <th>song_count</th>\n",
       "    </tr>\n",
       "  </thead>\n",
       "  <tbody>\n",
       "    <tr>\n",
       "      <th>count</th>\n",
       "      <td>74905.000000</td>\n",
       "    </tr>\n",
       "    <tr>\n",
       "      <th>mean</th>\n",
       "      <td>15.260343</td>\n",
       "    </tr>\n",
       "    <tr>\n",
       "      <th>std</th>\n",
       "      <td>20.031126</td>\n",
       "    </tr>\n",
       "    <tr>\n",
       "      <th>min</th>\n",
       "      <td>1.000000</td>\n",
       "    </tr>\n",
       "    <tr>\n",
       "      <th>25%</th>\n",
       "      <td>5.000000</td>\n",
       "    </tr>\n",
       "    <tr>\n",
       "      <th>50%</th>\n",
       "      <td>9.000000</td>\n",
       "    </tr>\n",
       "    <tr>\n",
       "      <th>75%</th>\n",
       "      <td>18.000000</td>\n",
       "    </tr>\n",
       "    <tr>\n",
       "      <th>max</th>\n",
       "      <td>458.000000</td>\n",
       "    </tr>\n",
       "  </tbody>\n",
       "</table>\n",
       "</div>"
      ],
      "text/plain": [
       "         song_count\n",
       "count  74905.000000\n",
       "mean      15.260343\n",
       "std       20.031126\n",
       "min        1.000000\n",
       "25%        5.000000\n",
       "50%        9.000000\n",
       "75%       18.000000\n",
       "max      458.000000"
      ]
     },
     "execution_count": 7,
     "metadata": {},
     "output_type": "execute_result"
    }
   ],
   "source": [
    "# explore distribution of how many songs a user actually listens to\n",
    "\n",
    "song_count = user_df.groupby('user_id').count()[['song_id']].rename(columns={'song_id':'song_count'})\n",
    "song_count.describe()\n"
   ]
  },
  {
   "cell_type": "code",
   "execution_count": 8,
   "metadata": {},
   "outputs": [
    {
     "data": {
      "text/plain": [
       "3355"
      ]
     },
     "execution_count": 8,
     "metadata": {},
     "output_type": "execute_result"
    }
   ],
   "source": [
    "len(song_count[song_count['song_count'] == 1])"
   ]
  },
  {
   "cell_type": "markdown",
   "metadata": {},
   "source": [
    "3357 users in our dataset have only listened to one unique song. Also, notice that at the 75th percentile users listen to only 18 songs. With our max song count at 458, this indicates that the distribution is very spread out. Let's look at the distribution of the song count to better visualize this."
   ]
  },
  {
   "cell_type": "code",
   "execution_count": 9,
   "metadata": {},
   "outputs": [
    {
     "data": {
      "text/plain": [
       "Text(0.5, 0, 'Number of unique songs a user listens to')"
      ]
     },
     "execution_count": 9,
     "metadata": {},
     "output_type": "execute_result"
    },
    {
     "data": {
      "image/png": "[encoded data removed]",
      "text/plain": [
       "<Figure size 720x432 with 1 Axes>"
      ]
     },
     "metadata": {
      "needs_background": "light"
     },
     "output_type": "display_data"
    }
   ],
   "source": [
    "fig1 = plt.figure(figsize=(10,6))\n",
    "\n",
    "sns.distplot(song_count)\n",
    "plt.xlabel(\"Number of unique songs a user listens to\")"
   ]
  },
  {
   "cell_type": "markdown",
   "metadata": {},
   "source": [
    "The plot shows that most users listen to less than 100 songs. Let's take a closer look at the box plot of this distribution."
   ]
  },
  {
   "cell_type": "code",
   "execution_count": 10,
   "metadata": {
    "scrolled": true
   },
   "outputs": [
    {
     "data": {
      "text/plain": [
       "Text(0.5, 1.0, 'Boxplot of Total Songs a User Has Listened to')"
      ]
     },
     "execution_count": 10,
     "metadata": {},
     "output_type": "execute_result"
    },
    {
     "data": {
      "image/png": "[encoded data removed]",
      "text/plain": [
       "<Figure size 720x432 with 1 Axes>"
      ]
     },
     "metadata": {
      "needs_background": "light"
     },
     "output_type": "display_data"
    }
   ],
   "source": [
    "fig2 = plt.figure(figsize=(10,6))\n",
    "\n",
    "sns.boxplot(song_count)\n",
    "plt.xlabel(\"Count of Unique Songs\")\n",
    "plt.title(\"Boxplot of Total Songs a User Has Listened to\")"
   ]
  },
  {
   "cell_type": "code",
   "execution_count": 11,
   "metadata": {},
   "outputs": [
    {
     "data": {
      "text/plain": [
       "10"
      ]
     },
     "execution_count": 11,
     "metadata": {},
     "output_type": "execute_result"
    }
   ],
   "source": [
    "len(song_count[song_count['song_count'] > 300])"
   ]
  },
  {
   "cell_type": "markdown",
   "metadata": {},
   "source": [
    "Since we are building a recommendation system, outliers are treated differently as it is valid data of human activity. Also, the percentage of users that have only listened to one song is low so we can conclude that our data is valid for our model.\n",
    "\n",
    "\n",
    "### How many times is each song listened to?\n",
    "\n",
    "Now lets explore the number of times each song is listened to by users. We want to see if there are any outliers so that our analysis is not skewed when recommending songs. For example, we wouldn't want a song to be recommended to users only because it's listen count is considerably higher than all other songs."
   ]
  },
  {
   "cell_type": "code",
   "execution_count": 12,
   "metadata": {},
   "outputs": [
    {
     "data": {
      "text/html": [
       "<div>\n",
       "<style scoped>\n",
       "    .dataframe tbody tr th:only-of-type {\n",
       "        vertical-align: middle;\n",
       "    }\n",
       "\n",
       "    .dataframe tbody tr th {\n",
       "        vertical-align: top;\n",
       "    }\n",
       "\n",
       "    .dataframe thead th {\n",
       "        text-align: right;\n",
       "    }\n",
       "</style>\n",
       "<table border=\"1\" class=\"dataframe\">\n",
       "  <thead>\n",
       "    <tr style=\"text-align: right;\">\n",
       "      <th></th>\n",
       "      <th>listen_count</th>\n",
       "    </tr>\n",
       "  </thead>\n",
       "  <tbody>\n",
       "    <tr>\n",
       "      <th>count</th>\n",
       "      <td>5730.000000</td>\n",
       "    </tr>\n",
       "    <tr>\n",
       "      <th>mean</th>\n",
       "      <td>574.000698</td>\n",
       "    </tr>\n",
       "    <tr>\n",
       "      <th>std</th>\n",
       "      <td>1055.835533</td>\n",
       "    </tr>\n",
       "    <tr>\n",
       "      <th>min</th>\n",
       "      <td>71.000000</td>\n",
       "    </tr>\n",
       "    <tr>\n",
       "      <th>25%</th>\n",
       "      <td>218.000000</td>\n",
       "    </tr>\n",
       "    <tr>\n",
       "      <th>50%</th>\n",
       "      <td>333.000000</td>\n",
       "    </tr>\n",
       "    <tr>\n",
       "      <th>75%</th>\n",
       "      <td>575.750000</td>\n",
       "    </tr>\n",
       "    <tr>\n",
       "      <th>max</th>\n",
       "      <td>41418.000000</td>\n",
       "    </tr>\n",
       "  </tbody>\n",
       "</table>\n",
       "</div>"
      ],
      "text/plain": [
       "       listen_count\n",
       "count   5730.000000\n",
       "mean     574.000698\n",
       "std     1055.835533\n",
       "min       71.000000\n",
       "25%      218.000000\n",
       "50%      333.000000\n",
       "75%      575.750000\n",
       "max    41418.000000"
      ]
     },
     "execution_count": 12,
     "metadata": {},
     "output_type": "execute_result"
    }
   ],
   "source": [
    "# explore distribution of how many times a song is listened to\n",
    "\n",
    "listen_count = user_df.groupby('song').sum()[['listen_count']]\n",
    "listen_count.describe()\n"
   ]
  },
  {
   "cell_type": "markdown",
   "metadata": {},
   "source": [
    "A song at the 75th percentile is listened to 575 times. The max number of listens is 41,418. Again, this indicates that we have large variance in our data. Let's look at the distribution of the listen counts and zoom in on our outliers."
   ]
  },
  {
   "cell_type": "code",
   "execution_count": 13,
   "metadata": {
    "scrolled": true
   },
   "outputs": [
    {
     "data": {
      "text/plain": [
       "Text(0.5, 0, 'Number of times a song is listened to')"
      ]
     },
     "execution_count": 13,
     "metadata": {},
     "output_type": "execute_result"
    },
    {
     "data": {
      "image/png": "[encoded data removed]",
      "text/plain": [
       "<Figure size 720x432 with 1 Axes>"
      ]
     },
     "metadata": {
      "needs_background": "light"
     },
     "output_type": "display_data"
    }
   ],
   "source": [
    "fig3 = plt.figure(figsize=(10,6))\n",
    "\n",
    "sns.distplot(listen_count)\n",
    "plt.xlabel(\"Number of times a song is listened to\")"
   ]
  },
  {
   "cell_type": "code",
   "execution_count": 14,
   "metadata": {},
   "outputs": [
    {
     "data": {
      "text/plain": [
       "Text(0.5, 1.0, 'Boxplot of Song Listen Counts')"
      ]
     },
     "execution_count": 14,
     "metadata": {},
     "output_type": "execute_result"
    },
    {
     "data": {
      "image/png": "[encoded data removed]",
      "text/plain": [
       "<Figure size 720x432 with 1 Axes>"
      ]
     },
     "metadata": {
      "needs_background": "light"
     },
     "output_type": "display_data"
    }
   ],
   "source": [
    "fig4 = plt.figure(figsize=(10,6))\n",
    "\n",
    "sns.boxplot(listen_count)\n",
    "plt.xlabel(\"Listen Count\")\n",
    "plt.title(\"Boxplot of Song Listen Counts\")"
   ]
  },
  {
   "cell_type": "code",
   "execution_count": 15,
   "metadata": {},
   "outputs": [
    {
     "data": {
      "text/plain": [
       "7"
      ]
     },
     "execution_count": 15,
     "metadata": {},
     "output_type": "execute_result"
    }
   ],
   "source": [
    "len(listen_count[listen_count['listen_count'] > 10000])"
   ]
  },
  {
   "cell_type": "markdown",
   "metadata": {},
   "source": [
    "From the boxplot you can see that there are a few songs with very high listen counts. We want to keep these songs in mind during our modeling stage so that they wont be recommended to users just because of their popularity. Do these songs have a lot of people that listen to them, or do a few users listens to these songs very frequently?"
   ]
  },
  {
   "cell_type": "code",
   "execution_count": 16,
   "metadata": {},
   "outputs": [
    {
     "data": {
      "text/plain": [
       "Text(0.5, 1.0, 'Most Popular Songs (> 10,000 listens)')"
      ]
     },
     "execution_count": 16,
     "metadata": {},
     "output_type": "execute_result"
    },
    {
     "data": {
      "image/png": "[encoded data removed]",
      "text/plain": [
       "<Figure size 720x432 with 1 Axes>"
      ]
     },
     "metadata": {
      "needs_background": "light"
     },
     "output_type": "display_data"
    }
   ],
   "source": [
    "# we'll subset the outliers (songs with listened to over 20000 times)\n",
    "pop_songs = listen_count[listen_count['listen_count'] > 10000].sort_values('listen_count', ascending = True)\n",
    "\n",
    "#visualize top songs\n",
    "fig4 = plt.figure(figsize=(10,6))\n",
    "\n",
    "plt.barh(pop_songs.index, pop_songs.listen_count)\n",
    "plt.title(\"Most Popular Songs (> 10,000 listens)\")\n"
   ]
  },
  {
   "cell_type": "code",
   "execution_count": 17,
   "metadata": {
    "scrolled": true
   },
   "outputs": [
    {
     "data": {
      "text/html": [
       "<div>\n",
       "<style scoped>\n",
       "    .dataframe tbody tr th:only-of-type {\n",
       "        vertical-align: middle;\n",
       "    }\n",
       "\n",
       "    .dataframe tbody tr th {\n",
       "        vertical-align: top;\n",
       "    }\n",
       "\n",
       "    .dataframe thead th {\n",
       "        text-align: right;\n",
       "    }\n",
       "</style>\n",
       "<table border=\"1\" class=\"dataframe\">\n",
       "  <thead>\n",
       "    <tr style=\"text-align: right;\">\n",
       "      <th></th>\n",
       "      <th>user_id</th>\n",
       "    </tr>\n",
       "    <tr>\n",
       "      <th>song</th>\n",
       "      <th></th>\n",
       "    </tr>\n",
       "  </thead>\n",
       "  <tbody>\n",
       "    <tr>\n",
       "      <th>Invalid - Tub Ring</th>\n",
       "      <td>2887</td>\n",
       "    </tr>\n",
       "    <tr>\n",
       "      <th>Make Love To Your Mind - Bill Withers</th>\n",
       "      <td>1481</td>\n",
       "    </tr>\n",
       "    <tr>\n",
       "      <th>Marry Me - Train</th>\n",
       "      <td>3578</td>\n",
       "    </tr>\n",
       "    <tr>\n",
       "      <th>Revelry - Kings Of Leon</th>\n",
       "      <td>6145</td>\n",
       "    </tr>\n",
       "    <tr>\n",
       "      <th>Secrets - OneRepublic</th>\n",
       "      <td>5841</td>\n",
       "    </tr>\n",
       "    <tr>\n",
       "      <th>Tive Sim - Cartola</th>\n",
       "      <td>4548</td>\n",
       "    </tr>\n",
       "    <tr>\n",
       "      <th>Use Somebody - Kings Of Leon</th>\n",
       "      <td>3976</td>\n",
       "    </tr>\n",
       "  </tbody>\n",
       "</table>\n",
       "</div>"
      ],
      "text/plain": [
       "                                       user_id\n",
       "song                                          \n",
       "Invalid - Tub Ring                        2887\n",
       "Make Love To Your Mind - Bill Withers     1481\n",
       "Marry Me - Train                          3578\n",
       "Revelry - Kings Of Leon                   6145\n",
       "Secrets - OneRepublic                     5841\n",
       "Tive Sim - Cartola                        4548\n",
       "Use Somebody - Kings Of Leon              3976"
      ]
     },
     "execution_count": 17,
     "metadata": {},
     "output_type": "execute_result"
    }
   ],
   "source": [
    "user_df[user_df['song'].isin(pop_songs.index)][['user_id', 'song']].groupby('song').count()[['user_id']]"
   ]
  },
  {
   "cell_type": "markdown",
   "metadata": {},
   "source": [
    "### How many unique users listen to each song?\n",
    "\n",
    "Do these user counts align with the user count distribution of all songs?"
   ]
  },
  {
   "cell_type": "code",
   "execution_count": 18,
   "metadata": {},
   "outputs": [
    {
     "name": "stdout",
     "output_type": "stream",
     "text": [
      "           user_id\n",
      "count  5730.000000\n",
      "mean    199.489703\n",
      "std     276.507772\n",
      "min      48.000000\n",
      "25%      90.000000\n",
      "50%     127.000000\n",
      "75%     206.000000\n",
      "max    6145.000000\n"
     ]
    },
    {
     "data": {
      "text/html": [
       "<div>\n",
       "<style scoped>\n",
       "    .dataframe tbody tr th:only-of-type {\n",
       "        vertical-align: middle;\n",
       "    }\n",
       "\n",
       "    .dataframe tbody tr th {\n",
       "        vertical-align: top;\n",
       "    }\n",
       "\n",
       "    .dataframe thead th {\n",
       "        text-align: right;\n",
       "    }\n",
       "</style>\n",
       "<table border=\"1\" class=\"dataframe\">\n",
       "  <thead>\n",
       "    <tr style=\"text-align: right;\">\n",
       "      <th></th>\n",
       "      <th>user_id</th>\n",
       "      <th>listen_count</th>\n",
       "    </tr>\n",
       "    <tr>\n",
       "      <th>song</th>\n",
       "      <th></th>\n",
       "      <th></th>\n",
       "    </tr>\n",
       "  </thead>\n",
       "  <tbody>\n",
       "    <tr>\n",
       "      <th>Revelry - Kings Of Leon</th>\n",
       "      <td>6145</td>\n",
       "      <td>41418</td>\n",
       "    </tr>\n",
       "    <tr>\n",
       "      <th>Secrets - OneRepublic</th>\n",
       "      <td>5841</td>\n",
       "      <td>22100</td>\n",
       "    </tr>\n",
       "    <tr>\n",
       "      <th>Invalid - Tub Ring</th>\n",
       "      <td>2887</td>\n",
       "      <td>19645</td>\n",
       "    </tr>\n",
       "    <tr>\n",
       "      <th>Tive Sim - Cartola</th>\n",
       "      <td>4548</td>\n",
       "      <td>14423</td>\n",
       "    </tr>\n",
       "    <tr>\n",
       "      <th>Marry Me - Train</th>\n",
       "      <td>3578</td>\n",
       "      <td>13116</td>\n",
       "    </tr>\n",
       "    <tr>\n",
       "      <th>Make Love To Your Mind - Bill Withers</th>\n",
       "      <td>1481</td>\n",
       "      <td>11371</td>\n",
       "    </tr>\n",
       "    <tr>\n",
       "      <th>Use Somebody - Kings Of Leon</th>\n",
       "      <td>3976</td>\n",
       "      <td>11070</td>\n",
       "    </tr>\n",
       "    <tr>\n",
       "      <th>Almaz - Randy Crawford</th>\n",
       "      <td>1710</td>\n",
       "      <td>9524</td>\n",
       "    </tr>\n",
       "  </tbody>\n",
       "</table>\n",
       "</div>"
      ],
      "text/plain": [
       "                                       user_id  listen_count\n",
       "song                                                        \n",
       "Revelry - Kings Of Leon                   6145         41418\n",
       "Secrets - OneRepublic                     5841         22100\n",
       "Invalid - Tub Ring                        2887         19645\n",
       "Tive Sim - Cartola                        4548         14423\n",
       "Marry Me - Train                          3578         13116\n",
       "Make Love To Your Mind - Bill Withers     1481         11371\n",
       "Use Somebody - Kings Of Leon              3976         11070\n",
       "Almaz - Randy Crawford                    1710          9524"
      ]
     },
     "execution_count": 18,
     "metadata": {},
     "output_type": "execute_result"
    }
   ],
   "source": [
    "user_count = user_df.groupby('song').count()[['user_id']]\n",
    "print(user_count.describe())\n",
    "user_song_count = pd.concat([user_count, listen_count], axis=1)\n",
    "\n",
    "user_song_count.sort_values('listen_count', ascending = False).head(8)"
   ]
  },
  {
   "cell_type": "code",
   "execution_count": 19,
   "metadata": {},
   "outputs": [
    {
     "data": {
      "text/plain": [
       "Text(0.5, 1.0, 'Scatterplot of Song Listen Counts And User Count')"
      ]
     },
     "execution_count": 19,
     "metadata": {},
     "output_type": "execute_result"
    },
    {
     "data": {
      "image/png": "[encoded data removed]",
      "text/plain": [
       "<Figure size 720x432 with 1 Axes>"
      ]
     },
     "metadata": {
      "needs_background": "light"
     },
     "output_type": "display_data"
    }
   ],
   "source": [
    "fig4 = plt.figure(figsize=(10,6))\n",
    "\n",
    "sns.scatterplot(user_song_count.listen_count, user_song_count.user_id)\n",
    "plt.xlabel(\"listen count\")\n",
    "plt.ylabel(\"count of unique users\")\n",
    "plt.title(\"Scatterplot of Song Listen Counts And User Count\")"
   ]
  },
  {
   "cell_type": "markdown",
   "metadata": {},
   "source": [
    "The scatterplot shows that there is a relationship between number of listens and number of users. With the exception of a couple of outliers, the number of users that listen to a song increases as the number of listens increases. This tells us that the listen count of our popular songs is not skewed by a few users with extreme listen counts.\n",
    "\n",
    "### Whats the total listen count of each user? \n",
    "Now we want to see the distribution of the amount of times a user listens to any song (total listen count). Again, if a large amount of the users also listen once this could make our dataset not usable for training a recommendation engine."
   ]
  },
  {
   "cell_type": "code",
   "execution_count": 20,
   "metadata": {},
   "outputs": [
    {
     "data": {
      "text/html": [
       "<div>\n",
       "<style scoped>\n",
       "    .dataframe tbody tr th:only-of-type {\n",
       "        vertical-align: middle;\n",
       "    }\n",
       "\n",
       "    .dataframe tbody tr th {\n",
       "        vertical-align: top;\n",
       "    }\n",
       "\n",
       "    .dataframe thead th {\n",
       "        text-align: right;\n",
       "    }\n",
       "</style>\n",
       "<table border=\"1\" class=\"dataframe\">\n",
       "  <thead>\n",
       "    <tr style=\"text-align: right;\">\n",
       "      <th></th>\n",
       "      <th>listen_count</th>\n",
       "    </tr>\n",
       "  </thead>\n",
       "  <tbody>\n",
       "    <tr>\n",
       "      <th>count</th>\n",
       "      <td>74905.000000</td>\n",
       "    </tr>\n",
       "    <tr>\n",
       "      <th>mean</th>\n",
       "      <td>43.909272</td>\n",
       "    </tr>\n",
       "    <tr>\n",
       "      <th>std</th>\n",
       "      <td>68.631875</td>\n",
       "    </tr>\n",
       "    <tr>\n",
       "      <th>min</th>\n",
       "      <td>1.000000</td>\n",
       "    </tr>\n",
       "    <tr>\n",
       "      <th>25%</th>\n",
       "      <td>8.000000</td>\n",
       "    </tr>\n",
       "    <tr>\n",
       "      <th>50%</th>\n",
       "      <td>21.000000</td>\n",
       "    </tr>\n",
       "    <tr>\n",
       "      <th>75%</th>\n",
       "      <td>51.000000</td>\n",
       "    </tr>\n",
       "    <tr>\n",
       "      <th>max</th>\n",
       "      <td>2571.000000</td>\n",
       "    </tr>\n",
       "  </tbody>\n",
       "</table>\n",
       "</div>"
      ],
      "text/plain": [
       "       listen_count\n",
       "count  74905.000000\n",
       "mean      43.909272\n",
       "std       68.631875\n",
       "min        1.000000\n",
       "25%        8.000000\n",
       "50%       21.000000\n",
       "75%       51.000000\n",
       "max     2571.000000"
      ]
     },
     "execution_count": 20,
     "metadata": {},
     "output_type": "execute_result"
    }
   ],
   "source": [
    "# explore distribution of the listen count of each user\n",
    "\n",
    "user_listen_count = user_df.groupby('user_id').sum()[['listen_count']]\n",
    "user_listen_count.describe()\n"
   ]
  },
  {
   "cell_type": "code",
   "execution_count": 21,
   "metadata": {},
   "outputs": [
    {
     "data": {
      "text/plain": [
       "Text(0.5, 0, 'User listen count')"
      ]
     },
     "execution_count": 21,
     "metadata": {},
     "output_type": "execute_result"
    },
    {
     "data": {
      "image/png": "[encoded data removed]",
      "text/plain": [
       "<Figure size 720x432 with 1 Axes>"
      ]
     },
     "metadata": {
      "needs_background": "light"
     },
     "output_type": "display_data"
    }
   ],
   "source": [
    "fig4 = plt.figure(figsize=(10,6))\n",
    "\n",
    "sns.distplot(user_listen_count)\n",
    "plt.xlabel(\"User listen count\")"
   ]
  },
  {
   "cell_type": "code",
   "execution_count": 22,
   "metadata": {},
   "outputs": [
    {
     "data": {
      "text/plain": [
       "Text(0.5, 0, 'User listen count')"
      ]
     },
     "execution_count": 22,
     "metadata": {},
     "output_type": "execute_result"
    },
    {
     "data": {
      "image/png": "[encoded data removed]",
      "text/plain": [
       "<Figure size 720x432 with 1 Axes>"
      ]
     },
     "metadata": {
      "needs_background": "light"
     },
     "output_type": "display_data"
    }
   ],
   "source": [
    "fig4 = plt.figure(figsize=(10,6))\n",
    "\n",
    "sns.boxplot(user_listen_count)\n",
    "plt.xlabel(\"User listen count\")"
   ]
  },
  {
   "cell_type": "code",
   "execution_count": 23,
   "metadata": {},
   "outputs": [
    {
     "data": {
      "text/plain": [
       "17"
      ]
     },
     "execution_count": 23,
     "metadata": {},
     "output_type": "execute_result"
    }
   ],
   "source": [
    "len(user_listen_count[user_listen_count['listen_count'] > 1000])"
   ]
  },
  {
   "cell_type": "code",
   "execution_count": 24,
   "metadata": {},
   "outputs": [
    {
     "data": {
      "text/plain": [
       "2064"
      ]
     },
     "execution_count": 24,
     "metadata": {},
     "output_type": "execute_result"
    }
   ],
   "source": [
    "len(user_listen_count[user_listen_count['listen_count'] == 1])"
   ]
  },
  {
   "cell_type": "markdown",
   "metadata": {},
   "source": [
    "Only 2064 users have a listen count of one. This is a low percentage, making our dataset valid for building our model."
   ]
  },
  {
   "cell_type": "markdown",
   "metadata": {},
   "source": [
    "## Conclusion:\n",
    "\n",
    "This EDA tells us that we have a valid dataset to begin training our recommendation engine. There are some songs that are 'outliers' in regards to listen count however we will not remove these outliers. We will just keep these songs in mind during the modeling stage and make sure they are not recommended to a lot of users solely due to their popularity. "
   ]
  }
 ],
 "metadata": {
  "kernelspec": {
   "display_name": "Python 3",
   "language": "python",
   "name": "python3"
  },
  "language_info": {
   "codemirror_mode": {
    "name": "ipython",
    "version": 3
   },
   "file_extension": ".py",
   "mimetype": "text/x-python",
   "name": "python",
   "nbconvert_exporter": "python",
   "pygments_lexer": "ipython3",
   "version": "3.7.1"
  }
 },
 "nbformat": 4,
 "nbformat_minor": 2
}
