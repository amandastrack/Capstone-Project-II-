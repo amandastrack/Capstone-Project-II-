{
 "cells": [
  {
   "cell_type": "markdown",
   "metadata": {},
   "source": [
    "# Exploratory Data Analysis Part II\n",
    "\n",
    "The next part of our EDA we will analyze the dataset that includes the spotify audio feature data. The purpose of this analysis is to explore the what audio features lead to song popularity. "
   ]
  },
  {
   "cell_type": "code",
   "execution_count": 47,
   "metadata": {},
   "outputs": [],
   "source": [
    "import pandas as pd\n",
    "import seaborn as sns\n",
    "import matplotlib\n",
    "import matplotlib.pyplot as plt\n",
    "\n",
    "#import dataset\n",
    "df = pd.read_csv('User_SongFeatures_data.csv')"
   ]
  },
  {
   "cell_type": "code",
   "execution_count": 48,
   "metadata": {},
   "outputs": [
    {
     "data": {
      "text/plain": [
       "1142730"
      ]
     },
     "execution_count": 48,
     "metadata": {},
     "output_type": "execute_result"
    }
   ],
   "source": [
    "len(df)"
   ]
  },
  {
   "cell_type": "code",
   "execution_count": 49,
   "metadata": {},
   "outputs": [
    {
     "data": {
      "text/plain": [
       "Index(['user_id', 'song_id', 'listen_count', 'title', 'release', 'artist_name',\n",
       "       'year', 'song', 'id', 'name', 'uri_x', 'acousticness', 'analysis_url',\n",
       "       'danceability', 'duration_ms', 'energy', 'instrumentalness', 'key',\n",
       "       'liveness', 'loudness', 'mode', 'speechiness', 'tempo',\n",
       "       'time_signature', 'track_href', 'type', 'uri_y', 'valence'],\n",
       "      dtype='object')"
      ]
     },
     "execution_count": 49,
     "metadata": {},
     "output_type": "execute_result"
    }
   ],
   "source": [
    "df.columns"
   ]
  },
  {
   "cell_type": "code",
   "execution_count": 50,
   "metadata": {},
   "outputs": [],
   "source": [
    "#get rid of unecessary columns\n",
    "features_df = df.drop(columns = ['user_id','track_href', 'type', 'uri_y', 'name', 'uri_x', 'id', 'analysis_url'])\n"
   ]
  },
  {
   "cell_type": "code",
   "execution_count": 59,
   "metadata": {},
   "outputs": [],
   "source": [
    "# add total listen count of each song\n",
    "\n",
    "total_listen_count = features_df.groupby('song').sum()[['listen_count']]\n",
    "listen_df = features_df.merge(total_listen_count, on='song').drop(columns=['listen_count_x']).drop_duplicates('song')"
   ]
  },
  {
   "cell_type": "code",
   "execution_count": 60,
   "metadata": {},
   "outputs": [
    {
     "data": {
      "text/plain": [
       "5729"
      ]
     },
     "execution_count": 60,
     "metadata": {},
     "output_type": "execute_result"
    }
   ],
   "source": [
    "listen_df.song_id.nunique()"
   ]
  },
  {
   "cell_type": "code",
   "execution_count": 61,
   "metadata": {},
   "outputs": [
    {
     "data": {
      "text/html": [
       "<div>\n",
       "<style scoped>\n",
       "    .dataframe tbody tr th:only-of-type {\n",
       "        vertical-align: middle;\n",
       "    }\n",
       "\n",
       "    .dataframe tbody tr th {\n",
       "        vertical-align: top;\n",
       "    }\n",
       "\n",
       "    .dataframe thead th {\n",
       "        text-align: right;\n",
       "    }\n",
       "</style>\n",
       "<table border=\"1\" class=\"dataframe\">\n",
       "  <thead>\n",
       "    <tr style=\"text-align: right;\">\n",
       "      <th></th>\n",
       "      <th>song_id</th>\n",
       "      <th>title</th>\n",
       "      <th>release</th>\n",
       "      <th>artist_name</th>\n",
       "      <th>year</th>\n",
       "      <th>song</th>\n",
       "      <th>acousticness</th>\n",
       "      <th>danceability</th>\n",
       "      <th>duration_ms</th>\n",
       "      <th>energy</th>\n",
       "      <th>instrumentalness</th>\n",
       "      <th>key</th>\n",
       "      <th>liveness</th>\n",
       "      <th>loudness</th>\n",
       "      <th>mode</th>\n",
       "      <th>speechiness</th>\n",
       "      <th>tempo</th>\n",
       "      <th>time_signature</th>\n",
       "      <th>valence</th>\n",
       "      <th>listen_count_y</th>\n",
       "    </tr>\n",
       "  </thead>\n",
       "  <tbody>\n",
       "    <tr>\n",
       "      <th>0</th>\n",
       "      <td>SOBXHDL12A81C204C0</td>\n",
       "      <td>stronger</td>\n",
       "      <td>Graduation</td>\n",
       "      <td>kanye west</td>\n",
       "      <td>2007</td>\n",
       "      <td>Stronger - Kanye West</td>\n",
       "      <td>0.005640</td>\n",
       "      <td>0.617</td>\n",
       "      <td>311867</td>\n",
       "      <td>0.717</td>\n",
       "      <td>0.000000</td>\n",
       "      <td>10</td>\n",
       "      <td>0.408</td>\n",
       "      <td>-7.858</td>\n",
       "      <td>0</td>\n",
       "      <td>0.1530</td>\n",
       "      <td>103.992</td>\n",
       "      <td>4</td>\n",
       "      <td>0.490</td>\n",
       "      <td>4846</td>\n",
       "    </tr>\n",
       "    <tr>\n",
       "      <th>1365</th>\n",
       "      <td>SOBYHAJ12A6701BF1D</td>\n",
       "      <td>constellations</td>\n",
       "      <td>In Between Dreams</td>\n",
       "      <td>jack johnson</td>\n",
       "      <td>2005</td>\n",
       "      <td>Constellations - Jack Johnson</td>\n",
       "      <td>0.470000</td>\n",
       "      <td>0.719</td>\n",
       "      <td>201653</td>\n",
       "      <td>0.299</td>\n",
       "      <td>0.000034</td>\n",
       "      <td>1</td>\n",
       "      <td>0.111</td>\n",
       "      <td>-12.465</td>\n",
       "      <td>1</td>\n",
       "      <td>0.0383</td>\n",
       "      <td>122.025</td>\n",
       "      <td>4</td>\n",
       "      <td>0.446</td>\n",
       "      <td>1287</td>\n",
       "    </tr>\n",
       "    <tr>\n",
       "      <th>1922</th>\n",
       "      <td>SODACBL12A8C13C273</td>\n",
       "      <td>learn to fly</td>\n",
       "      <td>There Is Nothing Left To Lose</td>\n",
       "      <td>foo fighters</td>\n",
       "      <td>1999</td>\n",
       "      <td>Learn To Fly - Foo Fighters</td>\n",
       "      <td>0.000018</td>\n",
       "      <td>0.465</td>\n",
       "      <td>235293</td>\n",
       "      <td>0.919</td>\n",
       "      <td>0.000021</td>\n",
       "      <td>4</td>\n",
       "      <td>0.262</td>\n",
       "      <td>-4.025</td>\n",
       "      <td>1</td>\n",
       "      <td>0.0408</td>\n",
       "      <td>135.997</td>\n",
       "      <td>4</td>\n",
       "      <td>0.537</td>\n",
       "      <td>2445</td>\n",
       "    </tr>\n",
       "    <tr>\n",
       "      <th>2839</th>\n",
       "      <td>SODXRTY12AB0180F3B</td>\n",
       "      <td>paper gangsta</td>\n",
       "      <td>The Fame Monster</td>\n",
       "      <td>lady gaga</td>\n",
       "      <td>2008</td>\n",
       "      <td>Paper Gangsta - Lady GaGa</td>\n",
       "      <td>0.050300</td>\n",
       "      <td>0.755</td>\n",
       "      <td>263360</td>\n",
       "      <td>0.839</td>\n",
       "      <td>0.000000</td>\n",
       "      <td>1</td>\n",
       "      <td>0.250</td>\n",
       "      <td>-4.985</td>\n",
       "      <td>1</td>\n",
       "      <td>0.0849</td>\n",
       "      <td>98.973</td>\n",
       "      <td>4</td>\n",
       "      <td>0.530</td>\n",
       "      <td>1198</td>\n",
       "    </tr>\n",
       "    <tr>\n",
       "      <th>3366</th>\n",
       "      <td>SOFGUAY12AB017B0A8</td>\n",
       "      <td>stacked actors</td>\n",
       "      <td>There Is Nothing Left To Lose</td>\n",
       "      <td>foo fighters</td>\n",
       "      <td>1999</td>\n",
       "      <td>Stacked Actors - Foo Fighters</td>\n",
       "      <td>0.002030</td>\n",
       "      <td>0.502</td>\n",
       "      <td>256440</td>\n",
       "      <td>0.934</td>\n",
       "      <td>0.001020</td>\n",
       "      <td>7</td>\n",
       "      <td>0.234</td>\n",
       "      <td>-5.145</td>\n",
       "      <td>1</td>\n",
       "      <td>0.0500</td>\n",
       "      <td>134.898</td>\n",
       "      <td>4</td>\n",
       "      <td>0.670</td>\n",
       "      <td>267</td>\n",
       "    </tr>\n",
       "  </tbody>\n",
       "</table>\n",
       "</div>"
      ],
      "text/plain": [
       "                 song_id           title                        release  \\\n",
       "0     SOBXHDL12A81C204C0        stronger                     Graduation   \n",
       "1365  SOBYHAJ12A6701BF1D  constellations              In Between Dreams   \n",
       "1922  SODACBL12A8C13C273    learn to fly  There Is Nothing Left To Lose   \n",
       "2839  SODXRTY12AB0180F3B   paper gangsta               The Fame Monster   \n",
       "3366  SOFGUAY12AB017B0A8  stacked actors  There Is Nothing Left To Lose   \n",
       "\n",
       "       artist_name  year                           song  acousticness  \\\n",
       "0       kanye west  2007          Stronger - Kanye West      0.005640   \n",
       "1365  jack johnson  2005  Constellations - Jack Johnson      0.470000   \n",
       "1922  foo fighters  1999    Learn To Fly - Foo Fighters      0.000018   \n",
       "2839     lady gaga  2008      Paper Gangsta - Lady GaGa      0.050300   \n",
       "3366  foo fighters  1999  Stacked Actors - Foo Fighters      0.002030   \n",
       "\n",
       "      danceability  duration_ms  energy  instrumentalness  key  liveness  \\\n",
       "0            0.617       311867   0.717          0.000000   10     0.408   \n",
       "1365         0.719       201653   0.299          0.000034    1     0.111   \n",
       "1922         0.465       235293   0.919          0.000021    4     0.262   \n",
       "2839         0.755       263360   0.839          0.000000    1     0.250   \n",
       "3366         0.502       256440   0.934          0.001020    7     0.234   \n",
       "\n",
       "      loudness  mode  speechiness    tempo  time_signature  valence  \\\n",
       "0       -7.858     0       0.1530  103.992               4    0.490   \n",
       "1365   -12.465     1       0.0383  122.025               4    0.446   \n",
       "1922    -4.025     1       0.0408  135.997               4    0.537   \n",
       "2839    -4.985     1       0.0849   98.973               4    0.530   \n",
       "3366    -5.145     1       0.0500  134.898               4    0.670   \n",
       "\n",
       "      listen_count_y  \n",
       "0               4846  \n",
       "1365            1287  \n",
       "1922            2445  \n",
       "2839            1198  \n",
       "3366             267  "
      ]
     },
     "execution_count": 61,
     "metadata": {},
     "output_type": "execute_result"
    }
   ],
   "source": [
    "listen_df.head()"
   ]
  },
  {
   "cell_type": "code",
   "execution_count": 64,
   "metadata": {},
   "outputs": [
    {
     "name": "stdout",
     "output_type": "stream",
     "text": [
      "1955\n",
      "2010\n"
     ]
    }
   ],
   "source": [
    "# popularity of songs in different years \n",
    "\n",
    "print(listen_df[listen_df.year != 0].year.min()) # there are years inputted as 0\n",
    "print(listen_df.year.max())"
   ]
  },
  {
   "cell_type": "code",
   "execution_count": 72,
   "metadata": {},
   "outputs": [],
   "source": [
    "# aggregate by year \n",
    "\n",
    "year_count = listen_df[listen_df.year != 0].groupby('year').sum()[['listen_count_y']].reset_index()"
   ]
  },
  {
   "cell_type": "code",
   "execution_count": 74,
   "metadata": {},
   "outputs": [],
   "source": [
    "# create buckets for year\n",
    "year_count['decade'] = (year_count.year//10)*10"
   ]
  },
  {
   "cell_type": "code",
   "execution_count": 84,
   "metadata": {},
   "outputs": [
    {
     "data": {
      "text/html": [
       "<div>\n",
       "<style scoped>\n",
       "    .dataframe tbody tr th:only-of-type {\n",
       "        vertical-align: middle;\n",
       "    }\n",
       "\n",
       "    .dataframe tbody tr th {\n",
       "        vertical-align: top;\n",
       "    }\n",
       "\n",
       "    .dataframe thead th {\n",
       "        text-align: right;\n",
       "    }\n",
       "</style>\n",
       "<table border=\"1\" class=\"dataframe\">\n",
       "  <thead>\n",
       "    <tr style=\"text-align: right;\">\n",
       "      <th></th>\n",
       "      <th>year</th>\n",
       "      <th>listen_count_y</th>\n",
       "      <th>decade</th>\n",
       "    </tr>\n",
       "  </thead>\n",
       "  <tbody>\n",
       "    <tr>\n",
       "      <th>0</th>\n",
       "      <td>1955</td>\n",
       "      <td>282</td>\n",
       "      <td>1950</td>\n",
       "    </tr>\n",
       "    <tr>\n",
       "      <th>1</th>\n",
       "      <td>1956</td>\n",
       "      <td>468</td>\n",
       "      <td>1950</td>\n",
       "    </tr>\n",
       "    <tr>\n",
       "      <th>2</th>\n",
       "      <td>1957</td>\n",
       "      <td>474</td>\n",
       "      <td>1950</td>\n",
       "    </tr>\n",
       "    <tr>\n",
       "      <th>3</th>\n",
       "      <td>1958</td>\n",
       "      <td>3257</td>\n",
       "      <td>1950</td>\n",
       "    </tr>\n",
       "    <tr>\n",
       "      <th>4</th>\n",
       "      <td>1959</td>\n",
       "      <td>1118</td>\n",
       "      <td>1950</td>\n",
       "    </tr>\n",
       "  </tbody>\n",
       "</table>\n",
       "</div>"
      ],
      "text/plain": [
       "   year  listen_count_y  decade\n",
       "0  1955             282    1950\n",
       "1  1956             468    1950\n",
       "2  1957             474    1950\n",
       "3  1958            3257    1950\n",
       "4  1959            1118    1950"
      ]
     },
     "execution_count": 84,
     "metadata": {},
     "output_type": "execute_result"
    }
   ],
   "source": [
    "year_count.head()"
   ]
  },
  {
   "cell_type": "code",
   "execution_count": 82,
   "metadata": {},
   "outputs": [
    {
     "data": {
      "text/plain": [
       "<seaborn.axisgrid.FacetGrid at 0x1bc84370240>"
      ]
     },
     "execution_count": 82,
     "metadata": {},
     "output_type": "execute_result"
    },
    {
     "data": {
      "image/png": "[encoded data removed]",
      "text/plain": [
       "<Figure size 360x360 with 1 Axes>"
      ]
     },
     "metadata": {
      "needs_background": "light"
     },
     "output_type": "display_data"
    }
   ],
   "source": [
    "sns.catplot(x=\"decade\", y=\"listen_count_y\", data=year_count)\n"
   ]
  },
  {
   "cell_type": "code",
   "execution_count": 80,
   "metadata": {},
   "outputs": [
    {
     "data": {
      "text/html": [
       "<div>\n",
       "<style scoped>\n",
       "    .dataframe tbody tr th:only-of-type {\n",
       "        vertical-align: middle;\n",
       "    }\n",
       "\n",
       "    .dataframe tbody tr th {\n",
       "        vertical-align: top;\n",
       "    }\n",
       "\n",
       "    .dataframe thead th {\n",
       "        text-align: right;\n",
       "    }\n",
       "</style>\n",
       "<table border=\"1\" class=\"dataframe\">\n",
       "  <thead>\n",
       "    <tr style=\"text-align: right;\">\n",
       "      <th></th>\n",
       "      <th>decade</th>\n",
       "      <th>listen_count_y</th>\n",
       "    </tr>\n",
       "  </thead>\n",
       "  <tbody>\n",
       "    <tr>\n",
       "      <th>0</th>\n",
       "      <td>1950</td>\n",
       "      <td>5599</td>\n",
       "    </tr>\n",
       "    <tr>\n",
       "      <th>1</th>\n",
       "      <td>1960</td>\n",
       "      <td>45277</td>\n",
       "    </tr>\n",
       "    <tr>\n",
       "      <th>2</th>\n",
       "      <td>1970</td>\n",
       "      <td>138420</td>\n",
       "    </tr>\n",
       "    <tr>\n",
       "      <th>3</th>\n",
       "      <td>1980</td>\n",
       "      <td>179546</td>\n",
       "    </tr>\n",
       "    <tr>\n",
       "      <th>4</th>\n",
       "      <td>1990</td>\n",
       "      <td>457777</td>\n",
       "    </tr>\n",
       "    <tr>\n",
       "      <th>5</th>\n",
       "      <td>2000</td>\n",
       "      <td>2016274</td>\n",
       "    </tr>\n",
       "    <tr>\n",
       "      <th>6</th>\n",
       "      <td>2010</td>\n",
       "      <td>116405</td>\n",
       "    </tr>\n",
       "  </tbody>\n",
       "</table>\n",
       "</div>"
      ],
      "text/plain": [
       "   decade  listen_count_y\n",
       "0    1950            5599\n",
       "1    1960           45277\n",
       "2    1970          138420\n",
       "3    1980          179546\n",
       "4    1990          457777\n",
       "5    2000         2016274\n",
       "6    2010          116405"
      ]
     },
     "execution_count": 80,
     "metadata": {},
     "output_type": "execute_result"
    }
   ],
   "source": [
    "# group by decade and graph\n",
    "\n",
    "decade_count = year_count.groupby('decade').sum()[['listen_count_y']].reset_index()\n",
    "\n"
   ]
  },
  {
   "cell_type": "markdown",
   "metadata": {},
   "source": [
    "Makes sense that current songs are more popular. 2010's dont have higher listen count than 2000's because data stops at 2012."
   ]
  },
  {
   "cell_type": "code",
   "execution_count": 85,
   "metadata": {},
   "outputs": [],
   "source": [
    "# next look at danceability and valence"
   ]
  },
  {
   "cell_type": "code",
   "execution_count": 86,
   "metadata": {},
   "outputs": [],
   "source": [
    "dance_count = listen_df.groupby('danceability').sum()[['listen_count_y']].reset_index()"
   ]
  },
  {
   "cell_type": "code",
   "execution_count": 87,
   "metadata": {},
   "outputs": [
    {
     "data": {
      "text/html": [
       "<div>\n",
       "<style scoped>\n",
       "    .dataframe tbody tr th:only-of-type {\n",
       "        vertical-align: middle;\n",
       "    }\n",
       "\n",
       "    .dataframe tbody tr th {\n",
       "        vertical-align: top;\n",
       "    }\n",
       "\n",
       "    .dataframe thead th {\n",
       "        text-align: right;\n",
       "    }\n",
       "</style>\n",
       "<table border=\"1\" class=\"dataframe\">\n",
       "  <thead>\n",
       "    <tr style=\"text-align: right;\">\n",
       "      <th></th>\n",
       "      <th>danceability</th>\n",
       "      <th>listen_count_y</th>\n",
       "    </tr>\n",
       "  </thead>\n",
       "  <tbody>\n",
       "    <tr>\n",
       "      <th>0</th>\n",
       "      <td>0.0605</td>\n",
       "      <td>730</td>\n",
       "    </tr>\n",
       "    <tr>\n",
       "      <th>1</th>\n",
       "      <td>0.0627</td>\n",
       "      <td>118</td>\n",
       "    </tr>\n",
       "    <tr>\n",
       "      <th>2</th>\n",
       "      <td>0.0645</td>\n",
       "      <td>476</td>\n",
       "    </tr>\n",
       "    <tr>\n",
       "      <th>3</th>\n",
       "      <td>0.0703</td>\n",
       "      <td>156</td>\n",
       "    </tr>\n",
       "    <tr>\n",
       "      <th>4</th>\n",
       "      <td>0.0724</td>\n",
       "      <td>84</td>\n",
       "    </tr>\n",
       "  </tbody>\n",
       "</table>\n",
       "</div>"
      ],
      "text/plain": [
       "   danceability  listen_count_y\n",
       "0        0.0605             730\n",
       "1        0.0627             118\n",
       "2        0.0645             476\n",
       "3        0.0703             156\n",
       "4        0.0724              84"
      ]
     },
     "execution_count": 87,
     "metadata": {},
     "output_type": "execute_result"
    }
   ],
   "source": [
    "dance_count.head()"
   ]
  },
  {
   "cell_type": "code",
   "execution_count": 89,
   "metadata": {},
   "outputs": [
    {
     "data": {
      "text/plain": [
       "<matplotlib.axes._subplots.AxesSubplot at 0x1bc844d64e0>"
      ]
     },
     "execution_count": 89,
     "metadata": {},
     "output_type": "execute_result"
    },
    {
     "data": {
      "image/png": "[encoded data removed]",
      "text/plain": [
       "<Figure size 432x288 with 1 Axes>"
      ]
     },
     "metadata": {
      "needs_background": "light"
     },
     "output_type": "display_data"
    }
   ],
   "source": [
    "sns.scatterplot(x=\"danceability\", y=\"listen_count_y\", data=dance_count)"
   ]
  },
  {
   "cell_type": "code",
   "execution_count": 90,
   "metadata": {},
   "outputs": [
    {
     "data": {
      "text/plain": [
       "<matplotlib.axes._subplots.AxesSubplot at 0x1bc844fe400>"
      ]
     },
     "execution_count": 90,
     "metadata": {},
     "output_type": "execute_result"
    },
    {
     "data": {
      "image/png": "[encoded data removed]",
      "text/plain": [
       "<Figure size 432x288 with 1 Axes>"
      ]
     },
     "metadata": {
      "needs_background": "light"
     },
     "output_type": "display_data"
    }
   ],
   "source": [
    "valence_count = listen_df.groupby('valence').sum()[['listen_count_y']].reset_index()\n",
    "sns.scatterplot(x=\"valence\", y=\"listen_count_y\", data=valence_count)"
   ]
  },
  {
   "cell_type": "code",
   "execution_count": 103,
   "metadata": {},
   "outputs": [
    {
     "name": "stdout",
     "output_type": "stream",
     "text": [
      "                   song_id     title                 release    artist_name  \\\n",
      "37184   SOSXLTC12AF72A7F54   revelry       Only By The Night  kings of leon   \n",
      "31343   SONYKOW12AB01849C9   secrets               Waking Up    onerepublic   \n",
      "531582  SOUFTBI12AB0183F65   invalid           Fermi Paradox       tub ring   \n",
      "330188  SOFLJQZ12A6D4FADA6  tive sim        Nova Bis-Cartola        cartola   \n",
      "43329   SOTWNDJ12A8C143984  marry me  Save Me_ San Francisco          train   \n",
      "\n",
      "        year                     song  acousticness  danceability  \\\n",
      "37184   2008  Revelry - Kings Of Leon       0.19600         0.437   \n",
      "31343   2009    Secrets - OneRepublic       0.09800         0.515   \n",
      "531582  2002       Invalid - Tub Ring       0.00255         0.558   \n",
      "330188  1974       Tive Sim - Cartola       0.42000         0.731   \n",
      "43329   2009         Marry Me - Train       0.83400         0.461   \n",
      "\n",
      "        duration_ms  energy  instrumentalness  key  liveness  loudness  mode  \\\n",
      "37184        201733   0.748          0.000328    4     0.158    -6.593     1   \n",
      "31343        224693   0.767          0.000000    2     0.121    -6.199     1   \n",
      "531582       233627   0.627          0.000000    2     0.119    -7.613     1   \n",
      "330188       128107   0.540          0.000000    9     0.331   -14.272     1   \n",
      "43329        205453   0.267          0.000020    0     0.107    -8.514     1   \n",
      "\n",
      "        speechiness    tempo  time_signature  valence  listen_count_y  \n",
      "37184        0.0689  149.834               4    0.383           41418  \n",
      "31343        0.0352  148.024               4    0.380           22100  \n",
      "531582       0.1260   86.937               4    0.394           19645  \n",
      "330188       0.0521   91.118               4    0.962           14423  \n",
      "43329        0.0278   87.918               4    0.481           13116  \n"
     ]
    }
   ],
   "source": [
    "# instead get most popular songs and look at danceability and valence of those since distribution of songs with certain valence not equal distribution\n",
    "top_songs = listen_df.sort_values(by='listen_count_y',ascending=False).head(50)\n",
    "print(top_songs.head())"
   ]
  },
  {
   "cell_type": "code",
   "execution_count": 104,
   "metadata": {},
   "outputs": [
    {
     "data": {
      "text/plain": [
       "(array([ 4.,  1.,  2.,  6., 12., 11.,  6.,  6.,  1.,  1.]),\n",
       " array([0.209, 0.281, 0.353, 0.425, 0.497, 0.569, 0.641, 0.713, 0.785,\n",
       "        0.857, 0.929]),\n",
       " <a list of 10 Patch objects>)"
      ]
     },
     "execution_count": 104,
     "metadata": {},
     "output_type": "execute_result"
    },
    {
     "data": {
      "image/png": "[encoded data removed]",
      "text/plain": [
       "<Figure size 432x288 with 1 Axes>"
      ]
     },
     "metadata": {
      "needs_background": "light"
     },
     "output_type": "display_data"
    }
   ],
   "source": [
    "plt.hist(top_songs.danceability)"
   ]
  },
  {
   "cell_type": "code",
   "execution_count": 105,
   "metadata": {},
   "outputs": [
    {
     "data": {
      "text/plain": [
       "(array([ 3.,  6., 10.,  8.,  5.,  7.,  4.,  4.,  0.,  3.]),\n",
       " array([0.0827 , 0.17283, 0.26296, 0.35309, 0.44322, 0.53335, 0.62348,\n",
       "        0.71361, 0.80374, 0.89387, 0.984  ]),\n",
       " <a list of 10 Patch objects>)"
      ]
     },
     "execution_count": 105,
     "metadata": {},
     "output_type": "execute_result"
    },
    {
     "data": {
      "image/png": "[encoded data removed]",
      "text/plain": [
       "<Figure size 432x288 with 1 Axes>"
      ]
     },
     "metadata": {
      "needs_background": "light"
     },
     "output_type": "display_data"
    }
   ],
   "source": [
    "plt.hist(top_songs.valence)"
   ]
  },
  {
   "cell_type": "code",
   "execution_count": 106,
   "metadata": {},
   "outputs": [
    {
     "data": {
      "text/plain": [
       "(array([ 2.,  0.,  4.,  3.,  5.,  5., 13.,  5.,  5.,  8.]),\n",
       " array([0.267 , 0.3391, 0.4112, 0.4833, 0.5554, 0.6275, 0.6996, 0.7717,\n",
       "        0.8438, 0.9159, 0.988 ]),\n",
       " <a list of 10 Patch objects>)"
      ]
     },
     "execution_count": 106,
     "metadata": {},
     "output_type": "execute_result"
    },
    {
     "data": {
      "image/png": "[encoded data removed]",
      "text/plain": [
       "<Figure size 432x288 with 1 Axes>"
      ]
     },
     "metadata": {
      "needs_background": "light"
     },
     "output_type": "display_data"
    }
   ],
   "source": [
    "plt.hist(top_songs.energy)"
   ]
  },
  {
   "cell_type": "markdown",
   "metadata": {},
   "source": [
    "These distributions match the distributions of all the songs available on Spotify (SHOW IMAGES HERE)\n",
    "\n"
   ]
  },
  {
   "cell_type": "code",
   "execution_count": null,
   "metadata": {},
   "outputs": [],
   "source": [
    "for i in range(1, 7):\n",
    "    plt.subplot(2, 3, i)\n",
    "    plt.text(0.5, 0.5, str((2, 3, i)),\n",
    "             fontsize=18, ha='center')"
   ]
  }
 ],
 "metadata": {
  "kernelspec": {
   "display_name": "Python 3",
   "language": "python",
   "name": "python3"
  },
  "language_info": {
   "codemirror_mode": {
    "name": "ipython",
    "version": 3
   },
   "file_extension": ".py",
   "mimetype": "text/x-python",
   "name": "python",
   "nbconvert_exporter": "python",
   "pygments_lexer": "ipython3",
   "version": "3.7.1"
  }
 },
 "nbformat": 4,
 "nbformat_minor": 2
}
