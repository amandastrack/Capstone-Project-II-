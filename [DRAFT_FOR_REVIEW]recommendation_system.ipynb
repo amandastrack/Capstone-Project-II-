{
 "cells": [
  {
   "cell_type": "code",
   "execution_count": 1,
   "metadata": {},
   "outputs": [],
   "source": [
    "import pandas as pd\n",
    "import seaborn as sns\n",
    "import matplotlib\n",
    "import matplotlib.pyplot as plt\n",
    "\n",
    "#import dataset\n",
    "user_df = pd.read_csv('User_SongFeatures_data.csv')"
   ]
  },
  {
   "cell_type": "markdown",
   "metadata": {},
   "source": [
    "For our model we will randomly split the dataset into three. There will be two test data sets and one validation dataset. The first data set will be used to perform matrix factorization to extract user and item latent factors. The second dataset will be used to train our classification model. And lastly, our validation set will be used to evaluate our model. "
   ]
  },
  {
   "cell_type": "code",
   "execution_count": 2,
   "metadata": {},
   "outputs": [
    {
     "data": {
      "text/plain": [
       "3355"
      ]
     },
     "execution_count": 2,
     "metadata": {},
     "output_type": "execute_result"
    }
   ],
   "source": [
    "# split into train, train 2 and validation set\n",
    "# make sure users who have only listened once is in train set\n",
    "\n",
    "song_count = user_df.groupby('user_id').count()[['song_id']].reset_index()\n",
    "one_timers = song_count[song_count['song_id'] == 1]\n",
    "len(one_timers)"
   ]
  },
  {
   "cell_type": "code",
   "execution_count": 3,
   "metadata": {},
   "outputs": [],
   "source": [
    "# subset data of users who only listened one time\n",
    "one_df = user_df[user_df.user_id.isin(one_timers.user_id)]"
   ]
  },
  {
   "cell_type": "code",
   "execution_count": 4,
   "metadata": {},
   "outputs": [
    {
     "data": {
      "text/plain": [
       "1139721"
      ]
     },
     "execution_count": 4,
     "metadata": {},
     "output_type": "execute_result"
    }
   ],
   "source": [
    "# subset rest of data\n",
    "df = user_df[~user_df.user_id.isin(one_timers.user_id)]\n",
    "len(df)"
   ]
  },
  {
   "cell_type": "code",
   "execution_count": 5,
   "metadata": {},
   "outputs": [],
   "source": [
    "X = df.drop('listen_count', axis=1)\n",
    "y = df.listen_count"
   ]
  },
  {
   "cell_type": "code",
   "execution_count": 6,
   "metadata": {},
   "outputs": [],
   "source": [
    "from sklearn.model_selection import train_test_split\n",
    "\n",
    "X_train, X_test, y_train, y_test = train_test_split(X, y, test_size=0.4, random_state=1)\n",
    "\n",
    "X_train, X_val, y_train, y_val = train_test_split(X_train, y_train, test_size=0.4, random_state=1)"
   ]
  },
  {
   "cell_type": "code",
   "execution_count": 7,
   "metadata": {},
   "outputs": [
    {
     "name": "stdout",
     "output_type": "stream",
     "text": [
      "410299\n",
      "455889\n",
      "273533\n"
     ]
    }
   ],
   "source": [
    "print(len(X_train))\n",
    "print(len(X_test))\n",
    "print(len(X_val))"
   ]
  },
  {
   "cell_type": "code",
   "execution_count": 8,
   "metadata": {},
   "outputs": [
    {
     "name": "stderr",
     "output_type": "stream",
     "text": [
      "c:\\users\\amand\\appdata\\local\\programs\\python\\python37\\lib\\site-packages\\pandas\\core\\frame.py:6211: FutureWarning: Sorting because non-concatenation axis is not aligned. A future version\n",
      "of pandas will change to not sort by default.\n",
      "\n",
      "To accept the future behavior, pass 'sort=False'.\n",
      "\n",
      "To retain the current behavior and silence the warning, pass 'sort=True'.\n",
      "\n",
      "  sort=sort)\n"
     ]
    }
   ],
   "source": [
    "train1 = X_train.join(y_train).append(one_df, ignore_index=True)\n",
    "train2 = X_test.join(y_test)\n",
    "val = X_val.join(y_val)"
   ]
  },
  {
   "cell_type": "code",
   "execution_count": 9,
   "metadata": {},
   "outputs": [
    {
     "name": "stdout",
     "output_type": "stream",
     "text": [
      "413654\n",
      "455889\n",
      "273533\n"
     ]
    }
   ],
   "source": [
    "print(len(train1))\n",
    "print(len(train2))\n",
    "print(len(val))"
   ]
  },
  {
   "cell_type": "code",
   "execution_count": 10,
   "metadata": {},
   "outputs": [
    {
     "name": "stdout",
     "output_type": "stream",
     "text": [
      "69433\n",
      "5730\n"
     ]
    }
   ],
   "source": [
    "# since there are songs with multiple ids with have to group by user id and song and sum the listen counts\n",
    "\n",
    "train1_df = train1.groupby(['user_id','song'], as_index=False)['listen_count'].sum()\n",
    "print(train1_df.user_id.nunique())\n",
    "print(train1_df.song.nunique())"
   ]
  },
  {
   "cell_type": "markdown",
   "metadata": {},
   "source": [
    "Before we perform non negative matrix factorization on our dataset we must first transform it into a matrix with user_id and song and the corresponding listen count. "
   ]
  },
  {
   "cell_type": "code",
   "execution_count": 11,
   "metadata": {},
   "outputs": [
    {
     "data": {
      "text/html": [
       "<div>\n",
       "<style scoped>\n",
       "    .dataframe tbody tr th:only-of-type {\n",
       "        vertical-align: middle;\n",
       "    }\n",
       "\n",
       "    .dataframe tbody tr th {\n",
       "        vertical-align: top;\n",
       "    }\n",
       "\n",
       "    .dataframe thead th {\n",
       "        text-align: right;\n",
       "    }\n",
       "</style>\n",
       "<table border=\"1\" class=\"dataframe\">\n",
       "  <thead>\n",
       "    <tr style=\"text-align: right;\">\n",
       "      <th>song</th>\n",
       "      <th>&amp; Down - Boys Noize</th>\n",
       "      <th>' Cello Song - Nick Drake</th>\n",
       "      <th>'97 Bonnie &amp; Clyde - Eminem</th>\n",
       "      <th>'Round Midnight - Amy Winehouse</th>\n",
       "      <th>'Round Midnight - Miles Davis</th>\n",
       "      <th>(Antichrist Television Blues) - Arcade Fire</th>\n",
       "      <th>(I Just) Died In Your Arms - Cutting Crew</th>\n",
       "      <th>(If You're Wondering If I Want You To) I Want You To - Weezer</th>\n",
       "      <th>(Nice Dream) - Radiohead</th>\n",
       "      <th>(The Symphony Of) Blase' - Anberlin</th>\n",
       "      <th>...</th>\n",
       "      <th>and then patterns - Four Tet</th>\n",
       "      <th>clouding - Four Tet</th>\n",
       "      <th>high fives - Four Tet</th>\n",
       "      <th>in white rooms - Booka Shade</th>\n",
       "      <th>mOBSCENE - Marilyn Manson</th>\n",
       "      <th>paranoid android - Christopher O'Riley</th>\n",
       "      <th>smile around the face - Four Tet</th>\n",
       "      <th>sun drums and soil - Four Tet</th>\n",
       "      <th>the Love Song - K-OS</th>\n",
       "      <th>you were there with me - Four Tet</th>\n",
       "    </tr>\n",
       "    <tr>\n",
       "      <th>user_id</th>\n",
       "      <th></th>\n",
       "      <th></th>\n",
       "      <th></th>\n",
       "      <th></th>\n",
       "      <th></th>\n",
       "      <th></th>\n",
       "      <th></th>\n",
       "      <th></th>\n",
       "      <th></th>\n",
       "      <th></th>\n",
       "      <th></th>\n",
       "      <th></th>\n",
       "      <th></th>\n",
       "      <th></th>\n",
       "      <th></th>\n",
       "      <th></th>\n",
       "      <th></th>\n",
       "      <th></th>\n",
       "      <th></th>\n",
       "      <th></th>\n",
       "      <th></th>\n",
       "    </tr>\n",
       "  </thead>\n",
       "  <tbody>\n",
       "    <tr>\n",
       "      <th>00003a4459f33b92906be11abe0e93efc423c0ff</th>\n",
       "      <td>0.0</td>\n",
       "      <td>0.0</td>\n",
       "      <td>0.0</td>\n",
       "      <td>0.0</td>\n",
       "      <td>0.0</td>\n",
       "      <td>0.0</td>\n",
       "      <td>0.0</td>\n",
       "      <td>0.0</td>\n",
       "      <td>0.0</td>\n",
       "      <td>0.0</td>\n",
       "      <td>...</td>\n",
       "      <td>0.0</td>\n",
       "      <td>0.0</td>\n",
       "      <td>0.0</td>\n",
       "      <td>0.0</td>\n",
       "      <td>0.0</td>\n",
       "      <td>0.0</td>\n",
       "      <td>0.0</td>\n",
       "      <td>0.0</td>\n",
       "      <td>0.0</td>\n",
       "      <td>0.0</td>\n",
       "    </tr>\n",
       "    <tr>\n",
       "      <th>00005c6177188f12fb5e2e82cdbd93e8a3f35e64</th>\n",
       "      <td>0.0</td>\n",
       "      <td>0.0</td>\n",
       "      <td>0.0</td>\n",
       "      <td>0.0</td>\n",
       "      <td>0.0</td>\n",
       "      <td>0.0</td>\n",
       "      <td>0.0</td>\n",
       "      <td>0.0</td>\n",
       "      <td>0.0</td>\n",
       "      <td>0.0</td>\n",
       "      <td>...</td>\n",
       "      <td>0.0</td>\n",
       "      <td>0.0</td>\n",
       "      <td>0.0</td>\n",
       "      <td>0.0</td>\n",
       "      <td>0.0</td>\n",
       "      <td>0.0</td>\n",
       "      <td>0.0</td>\n",
       "      <td>0.0</td>\n",
       "      <td>0.0</td>\n",
       "      <td>0.0</td>\n",
       "    </tr>\n",
       "    <tr>\n",
       "      <th>00030033e3a2f904a48ec1dd53019c9969b6ef1f</th>\n",
       "      <td>0.0</td>\n",
       "      <td>0.0</td>\n",
       "      <td>0.0</td>\n",
       "      <td>0.0</td>\n",
       "      <td>0.0</td>\n",
       "      <td>0.0</td>\n",
       "      <td>0.0</td>\n",
       "      <td>0.0</td>\n",
       "      <td>0.0</td>\n",
       "      <td>0.0</td>\n",
       "      <td>...</td>\n",
       "      <td>0.0</td>\n",
       "      <td>0.0</td>\n",
       "      <td>0.0</td>\n",
       "      <td>0.0</td>\n",
       "      <td>0.0</td>\n",
       "      <td>0.0</td>\n",
       "      <td>0.0</td>\n",
       "      <td>0.0</td>\n",
       "      <td>0.0</td>\n",
       "      <td>0.0</td>\n",
       "    </tr>\n",
       "    <tr>\n",
       "      <th>0007235c769e610e3d339a17818a5708e41008d9</th>\n",
       "      <td>0.0</td>\n",
       "      <td>0.0</td>\n",
       "      <td>0.0</td>\n",
       "      <td>0.0</td>\n",
       "      <td>0.0</td>\n",
       "      <td>0.0</td>\n",
       "      <td>0.0</td>\n",
       "      <td>0.0</td>\n",
       "      <td>0.0</td>\n",
       "      <td>0.0</td>\n",
       "      <td>...</td>\n",
       "      <td>0.0</td>\n",
       "      <td>0.0</td>\n",
       "      <td>0.0</td>\n",
       "      <td>0.0</td>\n",
       "      <td>0.0</td>\n",
       "      <td>0.0</td>\n",
       "      <td>0.0</td>\n",
       "      <td>0.0</td>\n",
       "      <td>0.0</td>\n",
       "      <td>0.0</td>\n",
       "    </tr>\n",
       "    <tr>\n",
       "      <th>000a5c8b4d8b2c98f7a205219181d039edcd4506</th>\n",
       "      <td>0.0</td>\n",
       "      <td>0.0</td>\n",
       "      <td>0.0</td>\n",
       "      <td>0.0</td>\n",
       "      <td>0.0</td>\n",
       "      <td>0.0</td>\n",
       "      <td>0.0</td>\n",
       "      <td>0.0</td>\n",
       "      <td>0.0</td>\n",
       "      <td>0.0</td>\n",
       "      <td>...</td>\n",
       "      <td>0.0</td>\n",
       "      <td>0.0</td>\n",
       "      <td>0.0</td>\n",
       "      <td>0.0</td>\n",
       "      <td>0.0</td>\n",
       "      <td>0.0</td>\n",
       "      <td>0.0</td>\n",
       "      <td>0.0</td>\n",
       "      <td>0.0</td>\n",
       "      <td>0.0</td>\n",
       "    </tr>\n",
       "  </tbody>\n",
       "</table>\n",
       "<p>5 rows × 5730 columns</p>\n",
       "</div>"
      ],
      "text/plain": [
       "song                                      & Down - Boys Noize  \\\n",
       "user_id                                                         \n",
       "00003a4459f33b92906be11abe0e93efc423c0ff                  0.0   \n",
       "00005c6177188f12fb5e2e82cdbd93e8a3f35e64                  0.0   \n",
       "00030033e3a2f904a48ec1dd53019c9969b6ef1f                  0.0   \n",
       "0007235c769e610e3d339a17818a5708e41008d9                  0.0   \n",
       "000a5c8b4d8b2c98f7a205219181d039edcd4506                  0.0   \n",
       "\n",
       "song                                      ' Cello Song - Nick Drake  \\\n",
       "user_id                                                               \n",
       "00003a4459f33b92906be11abe0e93efc423c0ff                        0.0   \n",
       "00005c6177188f12fb5e2e82cdbd93e8a3f35e64                        0.0   \n",
       "00030033e3a2f904a48ec1dd53019c9969b6ef1f                        0.0   \n",
       "0007235c769e610e3d339a17818a5708e41008d9                        0.0   \n",
       "000a5c8b4d8b2c98f7a205219181d039edcd4506                        0.0   \n",
       "\n",
       "song                                      '97 Bonnie & Clyde - Eminem  \\\n",
       "user_id                                                                 \n",
       "00003a4459f33b92906be11abe0e93efc423c0ff                          0.0   \n",
       "00005c6177188f12fb5e2e82cdbd93e8a3f35e64                          0.0   \n",
       "00030033e3a2f904a48ec1dd53019c9969b6ef1f                          0.0   \n",
       "0007235c769e610e3d339a17818a5708e41008d9                          0.0   \n",
       "000a5c8b4d8b2c98f7a205219181d039edcd4506                          0.0   \n",
       "\n",
       "song                                      'Round Midnight - Amy Winehouse  \\\n",
       "user_id                                                                     \n",
       "00003a4459f33b92906be11abe0e93efc423c0ff                              0.0   \n",
       "00005c6177188f12fb5e2e82cdbd93e8a3f35e64                              0.0   \n",
       "00030033e3a2f904a48ec1dd53019c9969b6ef1f                              0.0   \n",
       "0007235c769e610e3d339a17818a5708e41008d9                              0.0   \n",
       "000a5c8b4d8b2c98f7a205219181d039edcd4506                              0.0   \n",
       "\n",
       "song                                      'Round Midnight - Miles Davis  \\\n",
       "user_id                                                                   \n",
       "00003a4459f33b92906be11abe0e93efc423c0ff                            0.0   \n",
       "00005c6177188f12fb5e2e82cdbd93e8a3f35e64                            0.0   \n",
       "00030033e3a2f904a48ec1dd53019c9969b6ef1f                            0.0   \n",
       "0007235c769e610e3d339a17818a5708e41008d9                            0.0   \n",
       "000a5c8b4d8b2c98f7a205219181d039edcd4506                            0.0   \n",
       "\n",
       "song                                      (Antichrist Television Blues) - Arcade Fire  \\\n",
       "user_id                                                                                 \n",
       "00003a4459f33b92906be11abe0e93efc423c0ff                                          0.0   \n",
       "00005c6177188f12fb5e2e82cdbd93e8a3f35e64                                          0.0   \n",
       "00030033e3a2f904a48ec1dd53019c9969b6ef1f                                          0.0   \n",
       "0007235c769e610e3d339a17818a5708e41008d9                                          0.0   \n",
       "000a5c8b4d8b2c98f7a205219181d039edcd4506                                          0.0   \n",
       "\n",
       "song                                      (I Just) Died In Your Arms - Cutting Crew  \\\n",
       "user_id                                                                               \n",
       "00003a4459f33b92906be11abe0e93efc423c0ff                                        0.0   \n",
       "00005c6177188f12fb5e2e82cdbd93e8a3f35e64                                        0.0   \n",
       "00030033e3a2f904a48ec1dd53019c9969b6ef1f                                        0.0   \n",
       "0007235c769e610e3d339a17818a5708e41008d9                                        0.0   \n",
       "000a5c8b4d8b2c98f7a205219181d039edcd4506                                        0.0   \n",
       "\n",
       "song                                      (If You're Wondering If I Want You To) I Want You To - Weezer  \\\n",
       "user_id                                                                                                   \n",
       "00003a4459f33b92906be11abe0e93efc423c0ff                                                0.0               \n",
       "00005c6177188f12fb5e2e82cdbd93e8a3f35e64                                                0.0               \n",
       "00030033e3a2f904a48ec1dd53019c9969b6ef1f                                                0.0               \n",
       "0007235c769e610e3d339a17818a5708e41008d9                                                0.0               \n",
       "000a5c8b4d8b2c98f7a205219181d039edcd4506                                                0.0               \n",
       "\n",
       "song                                      (Nice Dream) - Radiohead  \\\n",
       "user_id                                                              \n",
       "00003a4459f33b92906be11abe0e93efc423c0ff                       0.0   \n",
       "00005c6177188f12fb5e2e82cdbd93e8a3f35e64                       0.0   \n",
       "00030033e3a2f904a48ec1dd53019c9969b6ef1f                       0.0   \n",
       "0007235c769e610e3d339a17818a5708e41008d9                       0.0   \n",
       "000a5c8b4d8b2c98f7a205219181d039edcd4506                       0.0   \n",
       "\n",
       "song                                      (The Symphony Of) Blase' - Anberlin  \\\n",
       "user_id                                                                         \n",
       "00003a4459f33b92906be11abe0e93efc423c0ff                                  0.0   \n",
       "00005c6177188f12fb5e2e82cdbd93e8a3f35e64                                  0.0   \n",
       "00030033e3a2f904a48ec1dd53019c9969b6ef1f                                  0.0   \n",
       "0007235c769e610e3d339a17818a5708e41008d9                                  0.0   \n",
       "000a5c8b4d8b2c98f7a205219181d039edcd4506                                  0.0   \n",
       "\n",
       "song                                                    ...                  \\\n",
       "user_id                                                 ...                   \n",
       "00003a4459f33b92906be11abe0e93efc423c0ff                ...                   \n",
       "00005c6177188f12fb5e2e82cdbd93e8a3f35e64                ...                   \n",
       "00030033e3a2f904a48ec1dd53019c9969b6ef1f                ...                   \n",
       "0007235c769e610e3d339a17818a5708e41008d9                ...                   \n",
       "000a5c8b4d8b2c98f7a205219181d039edcd4506                ...                   \n",
       "\n",
       "song                                      and then patterns - Four Tet  \\\n",
       "user_id                                                                  \n",
       "00003a4459f33b92906be11abe0e93efc423c0ff                           0.0   \n",
       "00005c6177188f12fb5e2e82cdbd93e8a3f35e64                           0.0   \n",
       "00030033e3a2f904a48ec1dd53019c9969b6ef1f                           0.0   \n",
       "0007235c769e610e3d339a17818a5708e41008d9                           0.0   \n",
       "000a5c8b4d8b2c98f7a205219181d039edcd4506                           0.0   \n",
       "\n",
       "song                                      clouding - Four Tet  \\\n",
       "user_id                                                         \n",
       "00003a4459f33b92906be11abe0e93efc423c0ff                  0.0   \n",
       "00005c6177188f12fb5e2e82cdbd93e8a3f35e64                  0.0   \n",
       "00030033e3a2f904a48ec1dd53019c9969b6ef1f                  0.0   \n",
       "0007235c769e610e3d339a17818a5708e41008d9                  0.0   \n",
       "000a5c8b4d8b2c98f7a205219181d039edcd4506                  0.0   \n",
       "\n",
       "song                                      high fives - Four Tet  \\\n",
       "user_id                                                           \n",
       "00003a4459f33b92906be11abe0e93efc423c0ff                    0.0   \n",
       "00005c6177188f12fb5e2e82cdbd93e8a3f35e64                    0.0   \n",
       "00030033e3a2f904a48ec1dd53019c9969b6ef1f                    0.0   \n",
       "0007235c769e610e3d339a17818a5708e41008d9                    0.0   \n",
       "000a5c8b4d8b2c98f7a205219181d039edcd4506                    0.0   \n",
       "\n",
       "song                                      in white rooms - Booka Shade  \\\n",
       "user_id                                                                  \n",
       "00003a4459f33b92906be11abe0e93efc423c0ff                           0.0   \n",
       "00005c6177188f12fb5e2e82cdbd93e8a3f35e64                           0.0   \n",
       "00030033e3a2f904a48ec1dd53019c9969b6ef1f                           0.0   \n",
       "0007235c769e610e3d339a17818a5708e41008d9                           0.0   \n",
       "000a5c8b4d8b2c98f7a205219181d039edcd4506                           0.0   \n",
       "\n",
       "song                                      mOBSCENE - Marilyn Manson  \\\n",
       "user_id                                                               \n",
       "00003a4459f33b92906be11abe0e93efc423c0ff                        0.0   \n",
       "00005c6177188f12fb5e2e82cdbd93e8a3f35e64                        0.0   \n",
       "00030033e3a2f904a48ec1dd53019c9969b6ef1f                        0.0   \n",
       "0007235c769e610e3d339a17818a5708e41008d9                        0.0   \n",
       "000a5c8b4d8b2c98f7a205219181d039edcd4506                        0.0   \n",
       "\n",
       "song                                      paranoid android - Christopher O'Riley  \\\n",
       "user_id                                                                            \n",
       "00003a4459f33b92906be11abe0e93efc423c0ff                                     0.0   \n",
       "00005c6177188f12fb5e2e82cdbd93e8a3f35e64                                     0.0   \n",
       "00030033e3a2f904a48ec1dd53019c9969b6ef1f                                     0.0   \n",
       "0007235c769e610e3d339a17818a5708e41008d9                                     0.0   \n",
       "000a5c8b4d8b2c98f7a205219181d039edcd4506                                     0.0   \n",
       "\n",
       "song                                      smile around the face - Four Tet  \\\n",
       "user_id                                                                      \n",
       "00003a4459f33b92906be11abe0e93efc423c0ff                               0.0   \n",
       "00005c6177188f12fb5e2e82cdbd93e8a3f35e64                               0.0   \n",
       "00030033e3a2f904a48ec1dd53019c9969b6ef1f                               0.0   \n",
       "0007235c769e610e3d339a17818a5708e41008d9                               0.0   \n",
       "000a5c8b4d8b2c98f7a205219181d039edcd4506                               0.0   \n",
       "\n",
       "song                                      sun drums and soil - Four Tet  \\\n",
       "user_id                                                                   \n",
       "00003a4459f33b92906be11abe0e93efc423c0ff                            0.0   \n",
       "00005c6177188f12fb5e2e82cdbd93e8a3f35e64                            0.0   \n",
       "00030033e3a2f904a48ec1dd53019c9969b6ef1f                            0.0   \n",
       "0007235c769e610e3d339a17818a5708e41008d9                            0.0   \n",
       "000a5c8b4d8b2c98f7a205219181d039edcd4506                            0.0   \n",
       "\n",
       "song                                      the Love Song - K-OS  \\\n",
       "user_id                                                          \n",
       "00003a4459f33b92906be11abe0e93efc423c0ff                   0.0   \n",
       "00005c6177188f12fb5e2e82cdbd93e8a3f35e64                   0.0   \n",
       "00030033e3a2f904a48ec1dd53019c9969b6ef1f                   0.0   \n",
       "0007235c769e610e3d339a17818a5708e41008d9                   0.0   \n",
       "000a5c8b4d8b2c98f7a205219181d039edcd4506                   0.0   \n",
       "\n",
       "song                                      you were there with me - Four Tet  \n",
       "user_id                                                                      \n",
       "00003a4459f33b92906be11abe0e93efc423c0ff                                0.0  \n",
       "00005c6177188f12fb5e2e82cdbd93e8a3f35e64                                0.0  \n",
       "00030033e3a2f904a48ec1dd53019c9969b6ef1f                                0.0  \n",
       "0007235c769e610e3d339a17818a5708e41008d9                                0.0  \n",
       "000a5c8b4d8b2c98f7a205219181d039edcd4506                                0.0  \n",
       "\n",
       "[5 rows x 5730 columns]"
      ]
     },
     "execution_count": 11,
     "metadata": {},
     "output_type": "execute_result"
    }
   ],
   "source": [
    "mf_df = train1_df.pivot(index = 'user_id', columns ='song', values = 'listen_count').fillna(0)\n",
    "mf_df.head()\n",
    "# https://stackoverflow.com/questions/57370472/recommendation-system-with-matrix-factorization-for-huge-data-gives-memoryerror"
   ]
  },
  {
   "cell_type": "code",
   "execution_count": 12,
   "metadata": {},
   "outputs": [
    {
     "name": "stderr",
     "output_type": "stream",
     "text": [
      "c:\\users\\amand\\appdata\\local\\programs\\python\\python37\\lib\\site-packages\\ipykernel_launcher.py:3: FutureWarning: Method .as_matrix will be removed in a future version. Use .values instead.\n",
      "  This is separate from the ipykernel package so we can avoid doing imports until\n"
     ]
    }
   ],
   "source": [
    "# turn into matrix\n",
    "\n",
    "mf_df = mf_df.as_matrix()"
   ]
  },
  {
   "cell_type": "markdown",
   "metadata": {},
   "source": [
    "We will now perform non negative matrix factorization to extract latent factors from our matrix."
   ]
  },
  {
   "cell_type": "code",
   "execution_count": 13,
   "metadata": {},
   "outputs": [],
   "source": [
    "from sklearn.decomposition import NMF\n",
    "\n",
    "model = NMF(n_components=7, init='random', random_state=0)\n",
    "W = model.fit_transform(mf_df)\n",
    "H = model.components_\n",
    "\n",
    "# https://stackoverflow.com/questions/57370472/recommendation-system-with-matrix-factorization-for-huge-data-gives-memoryerror"
   ]
  },
  {
   "cell_type": "markdown",
   "metadata": {},
   "source": [
    "Pick number of components with best score."
   ]
  },
  {
   "cell_type": "code",
   "execution_count": 14,
   "metadata": {},
   "outputs": [
    {
     "data": {
      "text/plain": [
       "(69433, 7)"
      ]
     },
     "execution_count": 14,
     "metadata": {},
     "output_type": "execute_result"
    }
   ],
   "source": [
    "W.shape"
   ]
  },
  {
   "cell_type": "code",
   "execution_count": 15,
   "metadata": {
    "scrolled": true
   },
   "outputs": [
    {
     "data": {
      "text/plain": [
       "array([[2.29228068e-08, 8.67592092e-06, 0.00000000e+00, ...,\n",
       "        2.89032627e-05, 7.30421687e-07, 7.14826463e-08],\n",
       "       [0.00000000e+00, 0.00000000e+00, 0.00000000e+00, ...,\n",
       "        1.58918422e-04, 6.17474877e-06, 2.11221576e-07],\n",
       "       [0.00000000e+00, 0.00000000e+00, 0.00000000e+00, ...,\n",
       "        4.92210821e-01, 0.00000000e+00, 0.00000000e+00],\n",
       "       ...,\n",
       "       [4.10573248e-06, 1.42774099e-05, 2.80199734e-05, ...,\n",
       "        6.19839755e-05, 8.47343874e-06, 2.94954799e-06],\n",
       "       [5.86095724e-06, 1.63583658e-04, 3.62764354e-05, ...,\n",
       "        4.32615926e-04, 1.60673843e-05, 4.21652039e-06],\n",
       "       [5.77237798e-07, 3.13436797e-04, 1.55806663e-05, ...,\n",
       "        8.49770043e-05, 4.69959442e-05, 7.29944211e-06]])"
      ]
     },
     "execution_count": 15,
     "metadata": {},
     "output_type": "execute_result"
    }
   ],
   "source": [
    "W"
   ]
  },
  {
   "cell_type": "code",
   "execution_count": 16,
   "metadata": {},
   "outputs": [
    {
     "data": {
      "text/plain": [
       "array([[3.73600847e-06, 6.79938883e-07, 2.74834595e-07, ...,\n",
       "        2.56567450e-07, 3.03186699e-07, 7.03629518e-08],\n",
       "       [6.94515711e-05, 1.55863634e-05, 1.78821950e-05, ...,\n",
       "        7.50019874e-06, 8.66720493e-04, 2.84011406e-06],\n",
       "       [0.00000000e+00, 0.00000000e+00, 5.60078809e-07, ...,\n",
       "        6.65113220e-05, 7.09465288e-06, 1.26295718e-06],\n",
       "       ...,\n",
       "       [2.21425535e-03, 3.02677106e-04, 6.05542492e-04, ...,\n",
       "        2.41360136e-04, 2.54805727e-04, 5.04269483e-05],\n",
       "       [3.65716851e-02, 7.14558128e-05, 1.18989626e-04, ...,\n",
       "        3.38875127e-05, 8.05220915e-05, 2.64381162e-05],\n",
       "       [1.00440182e-04, 3.97826286e-05, 1.15116200e-05, ...,\n",
       "        1.33479074e-05, 1.32953736e-04, 5.02861851e-06]])"
      ]
     },
     "execution_count": 16,
     "metadata": {},
     "output_type": "execute_result"
    }
   ],
   "source": [
    "H"
   ]
  },
  {
   "cell_type": "code",
   "execution_count": 17,
   "metadata": {},
   "outputs": [],
   "source": [
    "import numpy as np\n",
    "\n",
    "user = pd.DataFrame(W, columns = ['u1','u2','u3','u4','u5','u6','u7'])\n",
    "\n",
    "song = pd.DataFrame(H).transpose()\n"
   ]
  },
  {
   "cell_type": "code",
   "execution_count": 18,
   "metadata": {},
   "outputs": [
    {
     "data": {
      "text/html": [
       "<div>\n",
       "<style scoped>\n",
       "    .dataframe tbody tr th:only-of-type {\n",
       "        vertical-align: middle;\n",
       "    }\n",
       "\n",
       "    .dataframe tbody tr th {\n",
       "        vertical-align: top;\n",
       "    }\n",
       "\n",
       "    .dataframe thead th {\n",
       "        text-align: right;\n",
       "    }\n",
       "</style>\n",
       "<table border=\"1\" class=\"dataframe\">\n",
       "  <thead>\n",
       "    <tr style=\"text-align: right;\">\n",
       "      <th></th>\n",
       "      <th>u1</th>\n",
       "      <th>u2</th>\n",
       "      <th>u3</th>\n",
       "      <th>u4</th>\n",
       "      <th>u5</th>\n",
       "      <th>u6</th>\n",
       "      <th>u7</th>\n",
       "    </tr>\n",
       "  </thead>\n",
       "  <tbody>\n",
       "    <tr>\n",
       "      <th>0</th>\n",
       "      <td>2.292281e-08</td>\n",
       "      <td>8.675921e-06</td>\n",
       "      <td>0.000000</td>\n",
       "      <td>0.000055</td>\n",
       "      <td>0.000029</td>\n",
       "      <td>7.304217e-07</td>\n",
       "      <td>7.148265e-08</td>\n",
       "    </tr>\n",
       "    <tr>\n",
       "      <th>1</th>\n",
       "      <td>0.000000e+00</td>\n",
       "      <td>0.000000e+00</td>\n",
       "      <td>0.000000</td>\n",
       "      <td>0.000196</td>\n",
       "      <td>0.000159</td>\n",
       "      <td>6.174749e-06</td>\n",
       "      <td>2.112216e-07</td>\n",
       "    </tr>\n",
       "    <tr>\n",
       "      <th>2</th>\n",
       "      <td>0.000000e+00</td>\n",
       "      <td>0.000000e+00</td>\n",
       "      <td>0.000000</td>\n",
       "      <td>0.000000</td>\n",
       "      <td>0.492211</td>\n",
       "      <td>0.000000e+00</td>\n",
       "      <td>0.000000e+00</td>\n",
       "    </tr>\n",
       "    <tr>\n",
       "      <th>3</th>\n",
       "      <td>4.859820e-08</td>\n",
       "      <td>6.610512e-06</td>\n",
       "      <td>0.000002</td>\n",
       "      <td>0.000011</td>\n",
       "      <td>0.000012</td>\n",
       "      <td>2.942126e-05</td>\n",
       "      <td>1.186700e-05</td>\n",
       "    </tr>\n",
       "    <tr>\n",
       "      <th>4</th>\n",
       "      <td>4.055804e-06</td>\n",
       "      <td>9.234415e-07</td>\n",
       "      <td>0.000052</td>\n",
       "      <td>0.000006</td>\n",
       "      <td>0.000018</td>\n",
       "      <td>3.937425e-07</td>\n",
       "      <td>3.131225e-05</td>\n",
       "    </tr>\n",
       "  </tbody>\n",
       "</table>\n",
       "</div>"
      ],
      "text/plain": [
       "             u1            u2        u3        u4        u5            u6  \\\n",
       "0  2.292281e-08  8.675921e-06  0.000000  0.000055  0.000029  7.304217e-07   \n",
       "1  0.000000e+00  0.000000e+00  0.000000  0.000196  0.000159  6.174749e-06   \n",
       "2  0.000000e+00  0.000000e+00  0.000000  0.000000  0.492211  0.000000e+00   \n",
       "3  4.859820e-08  6.610512e-06  0.000002  0.000011  0.000012  2.942126e-05   \n",
       "4  4.055804e-06  9.234415e-07  0.000052  0.000006  0.000018  3.937425e-07   \n",
       "\n",
       "             u7  \n",
       "0  7.148265e-08  \n",
       "1  2.112216e-07  \n",
       "2  0.000000e+00  \n",
       "3  1.186700e-05  \n",
       "4  3.131225e-05  "
      ]
     },
     "execution_count": 18,
     "metadata": {},
     "output_type": "execute_result"
    }
   ],
   "source": [
    "user.head()"
   ]
  },
  {
   "cell_type": "code",
   "execution_count": 19,
   "metadata": {},
   "outputs": [
    {
     "data": {
      "text/plain": [
       "array(['00003a4459f33b92906be11abe0e93efc423c0ff',\n",
       "       '00005c6177188f12fb5e2e82cdbd93e8a3f35e64',\n",
       "       '00030033e3a2f904a48ec1dd53019c9969b6ef1f', ...,\n",
       "       'fffd6a2bdef646ce9898b628d5dd56c43df69a9d',\n",
       "       'fffd9635b33f412de8ed02e44e6564e3644cf3c6',\n",
       "       'fffea3d509760c984e7d40789804c0e5e289cc86'], dtype=object)"
      ]
     },
     "execution_count": 19,
     "metadata": {},
     "output_type": "execute_result"
    }
   ],
   "source": [
    "train1_df.user_id.unique()"
   ]
  },
  {
   "cell_type": "markdown",
   "metadata": {},
   "source": [
    "Now we will append the user and song latent factors found to our original dataset. "
   ]
  },
  {
   "cell_type": "code",
   "execution_count": 20,
   "metadata": {},
   "outputs": [
    {
     "data": {
      "text/html": [
       "<div>\n",
       "<style scoped>\n",
       "    .dataframe tbody tr th:only-of-type {\n",
       "        vertical-align: middle;\n",
       "    }\n",
       "\n",
       "    .dataframe tbody tr th {\n",
       "        vertical-align: top;\n",
       "    }\n",
       "\n",
       "    .dataframe thead th {\n",
       "        text-align: right;\n",
       "    }\n",
       "</style>\n",
       "<table border=\"1\" class=\"dataframe\">\n",
       "  <thead>\n",
       "    <tr style=\"text-align: right;\">\n",
       "      <th></th>\n",
       "      <th>user_id</th>\n",
       "      <th>u1</th>\n",
       "      <th>u2</th>\n",
       "      <th>u3</th>\n",
       "      <th>u4</th>\n",
       "      <th>u5</th>\n",
       "      <th>u6</th>\n",
       "      <th>u7</th>\n",
       "    </tr>\n",
       "  </thead>\n",
       "  <tbody>\n",
       "    <tr>\n",
       "      <th>0</th>\n",
       "      <td>00003a4459f33b92906be11abe0e93efc423c0ff</td>\n",
       "      <td>2.292281e-08</td>\n",
       "      <td>8.675921e-06</td>\n",
       "      <td>0.000000</td>\n",
       "      <td>0.000055</td>\n",
       "      <td>0.000029</td>\n",
       "      <td>7.304217e-07</td>\n",
       "      <td>7.148265e-08</td>\n",
       "    </tr>\n",
       "    <tr>\n",
       "      <th>1</th>\n",
       "      <td>00005c6177188f12fb5e2e82cdbd93e8a3f35e64</td>\n",
       "      <td>0.000000e+00</td>\n",
       "      <td>0.000000e+00</td>\n",
       "      <td>0.000000</td>\n",
       "      <td>0.000196</td>\n",
       "      <td>0.000159</td>\n",
       "      <td>6.174749e-06</td>\n",
       "      <td>2.112216e-07</td>\n",
       "    </tr>\n",
       "    <tr>\n",
       "      <th>2</th>\n",
       "      <td>00030033e3a2f904a48ec1dd53019c9969b6ef1f</td>\n",
       "      <td>0.000000e+00</td>\n",
       "      <td>0.000000e+00</td>\n",
       "      <td>0.000000</td>\n",
       "      <td>0.000000</td>\n",
       "      <td>0.492211</td>\n",
       "      <td>0.000000e+00</td>\n",
       "      <td>0.000000e+00</td>\n",
       "    </tr>\n",
       "    <tr>\n",
       "      <th>3</th>\n",
       "      <td>0007235c769e610e3d339a17818a5708e41008d9</td>\n",
       "      <td>4.859820e-08</td>\n",
       "      <td>6.610512e-06</td>\n",
       "      <td>0.000002</td>\n",
       "      <td>0.000011</td>\n",
       "      <td>0.000012</td>\n",
       "      <td>2.942126e-05</td>\n",
       "      <td>1.186700e-05</td>\n",
       "    </tr>\n",
       "    <tr>\n",
       "      <th>4</th>\n",
       "      <td>000a5c8b4d8b2c98f7a205219181d039edcd4506</td>\n",
       "      <td>4.055804e-06</td>\n",
       "      <td>9.234415e-07</td>\n",
       "      <td>0.000052</td>\n",
       "      <td>0.000006</td>\n",
       "      <td>0.000018</td>\n",
       "      <td>3.937425e-07</td>\n",
       "      <td>3.131225e-05</td>\n",
       "    </tr>\n",
       "  </tbody>\n",
       "</table>\n",
       "</div>"
      ],
      "text/plain": [
       "                                    user_id            u1            u2  \\\n",
       "0  00003a4459f33b92906be11abe0e93efc423c0ff  2.292281e-08  8.675921e-06   \n",
       "1  00005c6177188f12fb5e2e82cdbd93e8a3f35e64  0.000000e+00  0.000000e+00   \n",
       "2  00030033e3a2f904a48ec1dd53019c9969b6ef1f  0.000000e+00  0.000000e+00   \n",
       "3  0007235c769e610e3d339a17818a5708e41008d9  4.859820e-08  6.610512e-06   \n",
       "4  000a5c8b4d8b2c98f7a205219181d039edcd4506  4.055804e-06  9.234415e-07   \n",
       "\n",
       "         u3        u4        u5            u6            u7  \n",
       "0  0.000000  0.000055  0.000029  7.304217e-07  7.148265e-08  \n",
       "1  0.000000  0.000196  0.000159  6.174749e-06  2.112216e-07  \n",
       "2  0.000000  0.000000  0.492211  0.000000e+00  0.000000e+00  \n",
       "3  0.000002  0.000011  0.000012  2.942126e-05  1.186700e-05  \n",
       "4  0.000052  0.000006  0.000018  3.937425e-07  3.131225e-05  "
      ]
     },
     "execution_count": 20,
     "metadata": {},
     "output_type": "execute_result"
    }
   ],
   "source": [
    "# add latent factors as new columns\n",
    "\n",
    "user_factors = pd.DataFrame(train1_df.user_id.unique()).join(user)\n",
    "user_factors.columns = ['user_id','u1','u2','u3','u4','u5','u6','u7']\n",
    "\n",
    "user_factors.head()\n"
   ]
  },
  {
   "cell_type": "code",
   "execution_count": 21,
   "metadata": {},
   "outputs": [
    {
     "data": {
      "text/html": [
       "<div>\n",
       "<style scoped>\n",
       "    .dataframe tbody tr th:only-of-type {\n",
       "        vertical-align: middle;\n",
       "    }\n",
       "\n",
       "    .dataframe tbody tr th {\n",
       "        vertical-align: top;\n",
       "    }\n",
       "\n",
       "    .dataframe thead th {\n",
       "        text-align: right;\n",
       "    }\n",
       "</style>\n",
       "<table border=\"1\" class=\"dataframe\">\n",
       "  <thead>\n",
       "    <tr style=\"text-align: right;\">\n",
       "      <th></th>\n",
       "      <th>song</th>\n",
       "      <th>s1</th>\n",
       "      <th>s2</th>\n",
       "      <th>s3</th>\n",
       "      <th>s4</th>\n",
       "      <th>s5</th>\n",
       "      <th>s6</th>\n",
       "      <th>s7</th>\n",
       "    </tr>\n",
       "  </thead>\n",
       "  <tbody>\n",
       "    <tr>\n",
       "      <th>0</th>\n",
       "      <td>Lights Of Ayodhya - Yulara</td>\n",
       "      <td>3.736008e-06</td>\n",
       "      <td>0.000069</td>\n",
       "      <td>0.000000e+00</td>\n",
       "      <td>0.000911</td>\n",
       "      <td>0.002214</td>\n",
       "      <td>0.036572</td>\n",
       "      <td>0.000100</td>\n",
       "    </tr>\n",
       "    <tr>\n",
       "      <th>1</th>\n",
       "      <td>Ironmasters - The Men They Couldn't Hang</td>\n",
       "      <td>6.799389e-07</td>\n",
       "      <td>0.000016</td>\n",
       "      <td>0.000000e+00</td>\n",
       "      <td>0.000091</td>\n",
       "      <td>0.000303</td>\n",
       "      <td>0.000071</td>\n",
       "      <td>0.000040</td>\n",
       "    </tr>\n",
       "    <tr>\n",
       "      <th>2</th>\n",
       "      <td>Chasing Cars - Snow Patrol</td>\n",
       "      <td>2.748346e-07</td>\n",
       "      <td>0.000018</td>\n",
       "      <td>5.600788e-07</td>\n",
       "      <td>0.000085</td>\n",
       "      <td>0.000606</td>\n",
       "      <td>0.000119</td>\n",
       "      <td>0.000012</td>\n",
       "    </tr>\n",
       "    <tr>\n",
       "      <th>3</th>\n",
       "      <td>Secrets - OneRepublic</td>\n",
       "      <td>2.552698e-07</td>\n",
       "      <td>0.000004</td>\n",
       "      <td>1.755655e-04</td>\n",
       "      <td>0.000471</td>\n",
       "      <td>0.001095</td>\n",
       "      <td>0.000043</td>\n",
       "      <td>0.000014</td>\n",
       "    </tr>\n",
       "    <tr>\n",
       "      <th>4</th>\n",
       "      <td>You'd Be So Nice To Come Home To - Julie London</td>\n",
       "      <td>9.558672e-07</td>\n",
       "      <td>0.000034</td>\n",
       "      <td>5.485172e-06</td>\n",
       "      <td>0.000166</td>\n",
       "      <td>0.000479</td>\n",
       "      <td>0.000121</td>\n",
       "      <td>0.000252</td>\n",
       "    </tr>\n",
       "  </tbody>\n",
       "</table>\n",
       "</div>"
      ],
      "text/plain": [
       "                                              song            s1        s2  \\\n",
       "0                       Lights Of Ayodhya - Yulara  3.736008e-06  0.000069   \n",
       "1         Ironmasters - The Men They Couldn't Hang  6.799389e-07  0.000016   \n",
       "2                       Chasing Cars - Snow Patrol  2.748346e-07  0.000018   \n",
       "3                            Secrets - OneRepublic  2.552698e-07  0.000004   \n",
       "4  You'd Be So Nice To Come Home To - Julie London  9.558672e-07  0.000034   \n",
       "\n",
       "             s3        s4        s5        s6        s7  \n",
       "0  0.000000e+00  0.000911  0.002214  0.036572  0.000100  \n",
       "1  0.000000e+00  0.000091  0.000303  0.000071  0.000040  \n",
       "2  5.600788e-07  0.000085  0.000606  0.000119  0.000012  \n",
       "3  1.755655e-04  0.000471  0.001095  0.000043  0.000014  \n",
       "4  5.485172e-06  0.000166  0.000479  0.000121  0.000252  "
      ]
     },
     "execution_count": 21,
     "metadata": {},
     "output_type": "execute_result"
    }
   ],
   "source": [
    "song_factors = pd.DataFrame(train1_df.song.unique(), columns = ['song']).join(song)\n",
    "song_factors.columns = ['song','s1','s2','s3','s4','s5','s6','s7']\n",
    "song_factors.head()\n"
   ]
  },
  {
   "cell_type": "code",
   "execution_count": 22,
   "metadata": {},
   "outputs": [],
   "source": [
    "train2_df = pd.merge(train2, user_factors, on='user_id')"
   ]
  },
  {
   "cell_type": "code",
   "execution_count": 23,
   "metadata": {},
   "outputs": [],
   "source": [
    "train2_df = pd.merge(train2_df, song_factors, on='song')"
   ]
  },
  {
   "cell_type": "code",
   "execution_count": 24,
   "metadata": {},
   "outputs": [
    {
     "data": {
      "text/plain": [
       "443454"
      ]
     },
     "execution_count": 24,
     "metadata": {},
     "output_type": "execute_result"
    }
   ],
   "source": [
    "len(train2_df)"
   ]
  },
  {
   "cell_type": "code",
   "execution_count": 25,
   "metadata": {
    "scrolled": true
   },
   "outputs": [
    {
     "data": {
      "text/html": [
       "<div>\n",
       "<style scoped>\n",
       "    .dataframe tbody tr th:only-of-type {\n",
       "        vertical-align: middle;\n",
       "    }\n",
       "\n",
       "    .dataframe tbody tr th {\n",
       "        vertical-align: top;\n",
       "    }\n",
       "\n",
       "    .dataframe thead th {\n",
       "        text-align: right;\n",
       "    }\n",
       "</style>\n",
       "<table border=\"1\" class=\"dataframe\">\n",
       "  <thead>\n",
       "    <tr style=\"text-align: right;\">\n",
       "      <th></th>\n",
       "      <th>user_id</th>\n",
       "      <th>song_id</th>\n",
       "      <th>title</th>\n",
       "      <th>release</th>\n",
       "      <th>artist_name</th>\n",
       "      <th>year</th>\n",
       "      <th>song</th>\n",
       "      <th>id</th>\n",
       "      <th>name</th>\n",
       "      <th>uri_x</th>\n",
       "      <th>...</th>\n",
       "      <th>u5</th>\n",
       "      <th>u6</th>\n",
       "      <th>u7</th>\n",
       "      <th>s1</th>\n",
       "      <th>s2</th>\n",
       "      <th>s3</th>\n",
       "      <th>s4</th>\n",
       "      <th>s5</th>\n",
       "      <th>s6</th>\n",
       "      <th>s7</th>\n",
       "    </tr>\n",
       "  </thead>\n",
       "  <tbody>\n",
       "    <tr>\n",
       "      <th>0</th>\n",
       "      <td>f1ccb26d0d49490016747f6592e6f7b1e53a9e54</td>\n",
       "      <td>SODXVXU12AF729E02B</td>\n",
       "      <td>grey room</td>\n",
       "      <td>9</td>\n",
       "      <td>damien rice</td>\n",
       "      <td>2006</td>\n",
       "      <td>Grey Room - Damien Rice</td>\n",
       "      <td>7qSSjZr6Lm9j1sBle4X0b1</td>\n",
       "      <td>grey room</td>\n",
       "      <td>spotify:track:7qSSjZr6Lm9j1sBle4X0b1</td>\n",
       "      <td>...</td>\n",
       "      <td>0.004019</td>\n",
       "      <td>0.000473</td>\n",
       "      <td>0.000329</td>\n",
       "      <td>1.606814e-07</td>\n",
       "      <td>0.000062</td>\n",
       "      <td>0.000029</td>\n",
       "      <td>0.000051</td>\n",
       "      <td>0.001321</td>\n",
       "      <td>0.000018</td>\n",
       "      <td>0.000038</td>\n",
       "    </tr>\n",
       "    <tr>\n",
       "      <th>1</th>\n",
       "      <td>e20a32284cd5057d914813261587daef0646902f</td>\n",
       "      <td>SODXVXU12AF729E02B</td>\n",
       "      <td>grey room</td>\n",
       "      <td>9</td>\n",
       "      <td>damien rice</td>\n",
       "      <td>2006</td>\n",
       "      <td>Grey Room - Damien Rice</td>\n",
       "      <td>7qSSjZr6Lm9j1sBle4X0b1</td>\n",
       "      <td>grey room</td>\n",
       "      <td>spotify:track:7qSSjZr6Lm9j1sBle4X0b1</td>\n",
       "      <td>...</td>\n",
       "      <td>0.000102</td>\n",
       "      <td>0.000159</td>\n",
       "      <td>0.000024</td>\n",
       "      <td>1.606814e-07</td>\n",
       "      <td>0.000062</td>\n",
       "      <td>0.000029</td>\n",
       "      <td>0.000051</td>\n",
       "      <td>0.001321</td>\n",
       "      <td>0.000018</td>\n",
       "      <td>0.000038</td>\n",
       "    </tr>\n",
       "    <tr>\n",
       "      <th>2</th>\n",
       "      <td>28b191426861422cbfb837d0c0843faf413465cb</td>\n",
       "      <td>SODXVXU12AF729E02B</td>\n",
       "      <td>grey room</td>\n",
       "      <td>9</td>\n",
       "      <td>damien rice</td>\n",
       "      <td>2006</td>\n",
       "      <td>Grey Room - Damien Rice</td>\n",
       "      <td>7qSSjZr6Lm9j1sBle4X0b1</td>\n",
       "      <td>grey room</td>\n",
       "      <td>spotify:track:7qSSjZr6Lm9j1sBle4X0b1</td>\n",
       "      <td>...</td>\n",
       "      <td>0.011262</td>\n",
       "      <td>0.000351</td>\n",
       "      <td>0.000096</td>\n",
       "      <td>1.606814e-07</td>\n",
       "      <td>0.000062</td>\n",
       "      <td>0.000029</td>\n",
       "      <td>0.000051</td>\n",
       "      <td>0.001321</td>\n",
       "      <td>0.000018</td>\n",
       "      <td>0.000038</td>\n",
       "    </tr>\n",
       "    <tr>\n",
       "      <th>3</th>\n",
       "      <td>02f988e5c3b8313719d05c2d84d2c6ee70f04212</td>\n",
       "      <td>SODXVXU12AF729E02B</td>\n",
       "      <td>grey room</td>\n",
       "      <td>9</td>\n",
       "      <td>damien rice</td>\n",
       "      <td>2006</td>\n",
       "      <td>Grey Room - Damien Rice</td>\n",
       "      <td>7qSSjZr6Lm9j1sBle4X0b1</td>\n",
       "      <td>grey room</td>\n",
       "      <td>spotify:track:7qSSjZr6Lm9j1sBle4X0b1</td>\n",
       "      <td>...</td>\n",
       "      <td>0.001059</td>\n",
       "      <td>0.000042</td>\n",
       "      <td>0.000051</td>\n",
       "      <td>1.606814e-07</td>\n",
       "      <td>0.000062</td>\n",
       "      <td>0.000029</td>\n",
       "      <td>0.000051</td>\n",
       "      <td>0.001321</td>\n",
       "      <td>0.000018</td>\n",
       "      <td>0.000038</td>\n",
       "    </tr>\n",
       "    <tr>\n",
       "      <th>4</th>\n",
       "      <td>bac559ba85b95bad5dfe9bb381a794714aae1ef4</td>\n",
       "      <td>SODXVXU12AF729E02B</td>\n",
       "      <td>grey room</td>\n",
       "      <td>9</td>\n",
       "      <td>damien rice</td>\n",
       "      <td>2006</td>\n",
       "      <td>Grey Room - Damien Rice</td>\n",
       "      <td>7qSSjZr6Lm9j1sBle4X0b1</td>\n",
       "      <td>grey room</td>\n",
       "      <td>spotify:track:7qSSjZr6Lm9j1sBle4X0b1</td>\n",
       "      <td>...</td>\n",
       "      <td>0.000992</td>\n",
       "      <td>0.000043</td>\n",
       "      <td>0.000070</td>\n",
       "      <td>1.606814e-07</td>\n",
       "      <td>0.000062</td>\n",
       "      <td>0.000029</td>\n",
       "      <td>0.000051</td>\n",
       "      <td>0.001321</td>\n",
       "      <td>0.000018</td>\n",
       "      <td>0.000038</td>\n",
       "    </tr>\n",
       "  </tbody>\n",
       "</table>\n",
       "<p>5 rows × 42 columns</p>\n",
       "</div>"
      ],
      "text/plain": [
       "                                    user_id             song_id      title  \\\n",
       "0  f1ccb26d0d49490016747f6592e6f7b1e53a9e54  SODXVXU12AF729E02B  grey room   \n",
       "1  e20a32284cd5057d914813261587daef0646902f  SODXVXU12AF729E02B  grey room   \n",
       "2  28b191426861422cbfb837d0c0843faf413465cb  SODXVXU12AF729E02B  grey room   \n",
       "3  02f988e5c3b8313719d05c2d84d2c6ee70f04212  SODXVXU12AF729E02B  grey room   \n",
       "4  bac559ba85b95bad5dfe9bb381a794714aae1ef4  SODXVXU12AF729E02B  grey room   \n",
       "\n",
       "  release  artist_name  year                     song                      id  \\\n",
       "0       9  damien rice  2006  Grey Room - Damien Rice  7qSSjZr6Lm9j1sBle4X0b1   \n",
       "1       9  damien rice  2006  Grey Room - Damien Rice  7qSSjZr6Lm9j1sBle4X0b1   \n",
       "2       9  damien rice  2006  Grey Room - Damien Rice  7qSSjZr6Lm9j1sBle4X0b1   \n",
       "3       9  damien rice  2006  Grey Room - Damien Rice  7qSSjZr6Lm9j1sBle4X0b1   \n",
       "4       9  damien rice  2006  Grey Room - Damien Rice  7qSSjZr6Lm9j1sBle4X0b1   \n",
       "\n",
       "        name                                 uri_x    ...           u5  \\\n",
       "0  grey room  spotify:track:7qSSjZr6Lm9j1sBle4X0b1    ...     0.004019   \n",
       "1  grey room  spotify:track:7qSSjZr6Lm9j1sBle4X0b1    ...     0.000102   \n",
       "2  grey room  spotify:track:7qSSjZr6Lm9j1sBle4X0b1    ...     0.011262   \n",
       "3  grey room  spotify:track:7qSSjZr6Lm9j1sBle4X0b1    ...     0.001059   \n",
       "4  grey room  spotify:track:7qSSjZr6Lm9j1sBle4X0b1    ...     0.000992   \n",
       "\n",
       "         u6        u7            s1        s2        s3        s4        s5  \\\n",
       "0  0.000473  0.000329  1.606814e-07  0.000062  0.000029  0.000051  0.001321   \n",
       "1  0.000159  0.000024  1.606814e-07  0.000062  0.000029  0.000051  0.001321   \n",
       "2  0.000351  0.000096  1.606814e-07  0.000062  0.000029  0.000051  0.001321   \n",
       "3  0.000042  0.000051  1.606814e-07  0.000062  0.000029  0.000051  0.001321   \n",
       "4  0.000043  0.000070  1.606814e-07  0.000062  0.000029  0.000051  0.001321   \n",
       "\n",
       "         s6        s7  \n",
       "0  0.000018  0.000038  \n",
       "1  0.000018  0.000038  \n",
       "2  0.000018  0.000038  \n",
       "3  0.000018  0.000038  \n",
       "4  0.000018  0.000038  \n",
       "\n",
       "[5 rows x 42 columns]"
      ]
     },
     "execution_count": 25,
     "metadata": {},
     "output_type": "execute_result"
    }
   ],
   "source": [
    "train2_df.head()"
   ]
  },
  {
   "cell_type": "code",
   "execution_count": 26,
   "metadata": {},
   "outputs": [
    {
     "data": {
      "text/plain": [
       "Index(['user_id', 'song_id', 'title', 'release', 'artist_name', 'year', 'song',\n",
       "       'id', 'name', 'uri_x', 'acousticness', 'analysis_url', 'danceability',\n",
       "       'duration_ms', 'energy', 'instrumentalness', 'key', 'liveness',\n",
       "       'loudness', 'mode', 'speechiness', 'tempo', 'time_signature',\n",
       "       'track_href', 'type', 'uri_y', 'valence', 'listen_count', 'u1', 'u2',\n",
       "       'u3', 'u4', 'u5', 'u6', 'u7', 's1', 's2', 's3', 's4', 's5', 's6', 's7'],\n",
       "      dtype='object')"
      ]
     },
     "execution_count": 26,
     "metadata": {},
     "output_type": "execute_result"
    }
   ],
   "source": [
    "train2_df.columns"
   ]
  },
  {
   "cell_type": "code",
   "execution_count": 27,
   "metadata": {},
   "outputs": [
    {
     "data": {
      "text/plain": [
       "count    1.139721e+06\n",
       "mean     2.877347e+00\n",
       "std      6.173287e+00\n",
       "min      1.000000e+00\n",
       "25%      1.000000e+00\n",
       "50%      1.000000e+00\n",
       "75%      3.000000e+00\n",
       "max      2.213000e+03\n",
       "Name: listen_count, dtype: float64"
      ]
     },
     "execution_count": 27,
     "metadata": {},
     "output_type": "execute_result"
    }
   ],
   "source": [
    "df.listen_count.describe()"
   ]
  },
  {
   "cell_type": "markdown",
   "metadata": {},
   "source": [
    "Since this is a classification problem, we will transform listen_count into labels of 'one' and 'one_plus'."
   ]
  },
  {
   "cell_type": "code",
   "execution_count": 28,
   "metadata": {},
   "outputs": [],
   "source": [
    "def f(row):\n",
    "    if  row['listen_count'] == 1:\n",
    "        val = 'one'\n",
    "    else:\n",
    "        val ='one_plus'\n",
    "    return val"
   ]
  },
  {
   "cell_type": "code",
   "execution_count": 29,
   "metadata": {},
   "outputs": [],
   "source": [
    "train2_df['label'] = train2_df.apply(f, axis=1)"
   ]
  },
  {
   "cell_type": "code",
   "execution_count": 30,
   "metadata": {},
   "outputs": [],
   "source": [
    "# extract relevant columns for classification\n",
    "\n",
    "train2_X = train2_df[['acousticness', 'danceability',\n",
    "       'duration_ms', 'energy', 'instrumentalness', 'key', 'liveness',\n",
    "       'loudness', 'mode', 'speechiness', 'tempo', 'time_signature','valence','s1', 's2', 's3', 's4', 's5', 's6','s7', 'u1','u2','u3','u4','u5','u6','u7']]"
   ]
  },
  {
   "cell_type": "code",
   "execution_count": 31,
   "metadata": {},
   "outputs": [
    {
     "data": {
      "text/plain": [
       "443454"
      ]
     },
     "execution_count": 31,
     "metadata": {},
     "output_type": "execute_result"
    }
   ],
   "source": [
    "len(train2_X)"
   ]
  },
  {
   "cell_type": "code",
   "execution_count": 32,
   "metadata": {},
   "outputs": [],
   "source": [
    "# extract labels\n",
    "train2_y = train2_df['label']"
   ]
  },
  {
   "cell_type": "code",
   "execution_count": 33,
   "metadata": {},
   "outputs": [],
   "source": [
    "# merge user and song latent factors to validation set\n",
    "\n",
    "val_df = pd.merge(val, user_factors, on='user_id')\n",
    "val_df = pd.merge(val_df, song_factors, on='song')\n",
    "val_df['label'] = val_df.apply(f, axis=1)"
   ]
  },
  {
   "cell_type": "code",
   "execution_count": 34,
   "metadata": {},
   "outputs": [],
   "source": [
    "val_X = val_df[['acousticness', 'danceability',\n",
    "       'duration_ms', 'energy', 'instrumentalness', 'key', 'liveness',\n",
    "       'loudness', 'mode', 'speechiness', 'tempo', 'time_signature','valence','s1', 's2', 's3', 's4', 's5', 's6','s7', 'u1','u2','u3','u4','u5','u6','u7']]"
   ]
  },
  {
   "cell_type": "code",
   "execution_count": 35,
   "metadata": {},
   "outputs": [
    {
     "data": {
      "text/html": [
       "<div>\n",
       "<style scoped>\n",
       "    .dataframe tbody tr th:only-of-type {\n",
       "        vertical-align: middle;\n",
       "    }\n",
       "\n",
       "    .dataframe tbody tr th {\n",
       "        vertical-align: top;\n",
       "    }\n",
       "\n",
       "    .dataframe thead th {\n",
       "        text-align: right;\n",
       "    }\n",
       "</style>\n",
       "<table border=\"1\" class=\"dataframe\">\n",
       "  <thead>\n",
       "    <tr style=\"text-align: right;\">\n",
       "      <th></th>\n",
       "      <th>acousticness</th>\n",
       "      <th>danceability</th>\n",
       "      <th>duration_ms</th>\n",
       "      <th>energy</th>\n",
       "      <th>instrumentalness</th>\n",
       "      <th>key</th>\n",
       "      <th>liveness</th>\n",
       "      <th>loudness</th>\n",
       "      <th>mode</th>\n",
       "      <th>speechiness</th>\n",
       "      <th>...</th>\n",
       "      <th>s5</th>\n",
       "      <th>s6</th>\n",
       "      <th>s7</th>\n",
       "      <th>u1</th>\n",
       "      <th>u2</th>\n",
       "      <th>u3</th>\n",
       "      <th>u4</th>\n",
       "      <th>u5</th>\n",
       "      <th>u6</th>\n",
       "      <th>u7</th>\n",
       "    </tr>\n",
       "  </thead>\n",
       "  <tbody>\n",
       "    <tr>\n",
       "      <th>0</th>\n",
       "      <td>0.00237</td>\n",
       "      <td>0.52</td>\n",
       "      <td>253587</td>\n",
       "      <td>0.852</td>\n",
       "      <td>0.000058</td>\n",
       "      <td>0</td>\n",
       "      <td>0.0733</td>\n",
       "      <td>-5.866</td>\n",
       "      <td>1</td>\n",
       "      <td>0.0543</td>\n",
       "      <td>...</td>\n",
       "      <td>0.002841</td>\n",
       "      <td>0.000216</td>\n",
       "      <td>0.001034</td>\n",
       "      <td>0.000006</td>\n",
       "      <td>0.000651</td>\n",
       "      <td>0.000086</td>\n",
       "      <td>0.000552</td>\n",
       "      <td>0.000636</td>\n",
       "      <td>0.000089</td>\n",
       "      <td>0.000064</td>\n",
       "    </tr>\n",
       "    <tr>\n",
       "      <th>1</th>\n",
       "      <td>0.00237</td>\n",
       "      <td>0.52</td>\n",
       "      <td>253587</td>\n",
       "      <td>0.852</td>\n",
       "      <td>0.000058</td>\n",
       "      <td>0</td>\n",
       "      <td>0.0733</td>\n",
       "      <td>-5.866</td>\n",
       "      <td>1</td>\n",
       "      <td>0.0543</td>\n",
       "      <td>...</td>\n",
       "      <td>0.002841</td>\n",
       "      <td>0.000216</td>\n",
       "      <td>0.001034</td>\n",
       "      <td>0.000000</td>\n",
       "      <td>0.006827</td>\n",
       "      <td>0.688964</td>\n",
       "      <td>0.000000</td>\n",
       "      <td>0.603127</td>\n",
       "      <td>0.000000</td>\n",
       "      <td>0.000000</td>\n",
       "    </tr>\n",
       "    <tr>\n",
       "      <th>2</th>\n",
       "      <td>0.00237</td>\n",
       "      <td>0.52</td>\n",
       "      <td>253587</td>\n",
       "      <td>0.852</td>\n",
       "      <td>0.000058</td>\n",
       "      <td>0</td>\n",
       "      <td>0.0733</td>\n",
       "      <td>-5.866</td>\n",
       "      <td>1</td>\n",
       "      <td>0.0543</td>\n",
       "      <td>...</td>\n",
       "      <td>0.002841</td>\n",
       "      <td>0.000216</td>\n",
       "      <td>0.001034</td>\n",
       "      <td>0.000021</td>\n",
       "      <td>0.001118</td>\n",
       "      <td>0.000290</td>\n",
       "      <td>0.003474</td>\n",
       "      <td>0.002140</td>\n",
       "      <td>0.002150</td>\n",
       "      <td>0.002446</td>\n",
       "    </tr>\n",
       "    <tr>\n",
       "      <th>3</th>\n",
       "      <td>0.00237</td>\n",
       "      <td>0.52</td>\n",
       "      <td>253587</td>\n",
       "      <td>0.852</td>\n",
       "      <td>0.000058</td>\n",
       "      <td>0</td>\n",
       "      <td>0.0733</td>\n",
       "      <td>-5.866</td>\n",
       "      <td>1</td>\n",
       "      <td>0.0543</td>\n",
       "      <td>...</td>\n",
       "      <td>0.002841</td>\n",
       "      <td>0.000216</td>\n",
       "      <td>0.001034</td>\n",
       "      <td>0.000113</td>\n",
       "      <td>0.000675</td>\n",
       "      <td>0.000257</td>\n",
       "      <td>0.001323</td>\n",
       "      <td>0.003561</td>\n",
       "      <td>0.000846</td>\n",
       "      <td>0.000216</td>\n",
       "    </tr>\n",
       "    <tr>\n",
       "      <th>4</th>\n",
       "      <td>0.00237</td>\n",
       "      <td>0.52</td>\n",
       "      <td>253587</td>\n",
       "      <td>0.852</td>\n",
       "      <td>0.000058</td>\n",
       "      <td>0</td>\n",
       "      <td>0.0733</td>\n",
       "      <td>-5.866</td>\n",
       "      <td>1</td>\n",
       "      <td>0.0543</td>\n",
       "      <td>...</td>\n",
       "      <td>0.002841</td>\n",
       "      <td>0.000216</td>\n",
       "      <td>0.001034</td>\n",
       "      <td>0.000022</td>\n",
       "      <td>0.000000</td>\n",
       "      <td>0.000000</td>\n",
       "      <td>0.184881</td>\n",
       "      <td>0.000000</td>\n",
       "      <td>0.000000</td>\n",
       "      <td>0.000000</td>\n",
       "    </tr>\n",
       "  </tbody>\n",
       "</table>\n",
       "<p>5 rows × 27 columns</p>\n",
       "</div>"
      ],
      "text/plain": [
       "   acousticness  danceability  duration_ms  energy  instrumentalness  key  \\\n",
       "0       0.00237          0.52       253587   0.852          0.000058    0   \n",
       "1       0.00237          0.52       253587   0.852          0.000058    0   \n",
       "2       0.00237          0.52       253587   0.852          0.000058    0   \n",
       "3       0.00237          0.52       253587   0.852          0.000058    0   \n",
       "4       0.00237          0.52       253587   0.852          0.000058    0   \n",
       "\n",
       "   liveness  loudness  mode  speechiness    ...           s5        s6  \\\n",
       "0    0.0733    -5.866     1       0.0543    ...     0.002841  0.000216   \n",
       "1    0.0733    -5.866     1       0.0543    ...     0.002841  0.000216   \n",
       "2    0.0733    -5.866     1       0.0543    ...     0.002841  0.000216   \n",
       "3    0.0733    -5.866     1       0.0543    ...     0.002841  0.000216   \n",
       "4    0.0733    -5.866     1       0.0543    ...     0.002841  0.000216   \n",
       "\n",
       "         s7        u1        u2        u3        u4        u5        u6  \\\n",
       "0  0.001034  0.000006  0.000651  0.000086  0.000552  0.000636  0.000089   \n",
       "1  0.001034  0.000000  0.006827  0.688964  0.000000  0.603127  0.000000   \n",
       "2  0.001034  0.000021  0.001118  0.000290  0.003474  0.002140  0.002150   \n",
       "3  0.001034  0.000113  0.000675  0.000257  0.001323  0.003561  0.000846   \n",
       "4  0.001034  0.000022  0.000000  0.000000  0.184881  0.000000  0.000000   \n",
       "\n",
       "         u7  \n",
       "0  0.000064  \n",
       "1  0.000000  \n",
       "2  0.002446  \n",
       "3  0.000216  \n",
       "4  0.000000  \n",
       "\n",
       "[5 rows x 27 columns]"
      ]
     },
     "execution_count": 35,
     "metadata": {},
     "output_type": "execute_result"
    }
   ],
   "source": [
    "val_X.head()"
   ]
  },
  {
   "cell_type": "code",
   "execution_count": 36,
   "metadata": {},
   "outputs": [
    {
     "data": {
      "text/html": [
       "<div>\n",
       "<style scoped>\n",
       "    .dataframe tbody tr th:only-of-type {\n",
       "        vertical-align: middle;\n",
       "    }\n",
       "\n",
       "    .dataframe tbody tr th {\n",
       "        vertical-align: top;\n",
       "    }\n",
       "\n",
       "    .dataframe thead th {\n",
       "        text-align: right;\n",
       "    }\n",
       "</style>\n",
       "<table border=\"1\" class=\"dataframe\">\n",
       "  <thead>\n",
       "    <tr style=\"text-align: right;\">\n",
       "      <th></th>\n",
       "      <th>acousticness</th>\n",
       "      <th>danceability</th>\n",
       "      <th>duration_ms</th>\n",
       "      <th>energy</th>\n",
       "      <th>instrumentalness</th>\n",
       "      <th>key</th>\n",
       "      <th>liveness</th>\n",
       "      <th>loudness</th>\n",
       "      <th>mode</th>\n",
       "      <th>speechiness</th>\n",
       "      <th>...</th>\n",
       "      <th>s5</th>\n",
       "      <th>s6</th>\n",
       "      <th>s7</th>\n",
       "      <th>u1</th>\n",
       "      <th>u2</th>\n",
       "      <th>u3</th>\n",
       "      <th>u4</th>\n",
       "      <th>u5</th>\n",
       "      <th>u6</th>\n",
       "      <th>u7</th>\n",
       "    </tr>\n",
       "  </thead>\n",
       "  <tbody>\n",
       "    <tr>\n",
       "      <th>0</th>\n",
       "      <td>0.431</td>\n",
       "      <td>0.326</td>\n",
       "      <td>343573</td>\n",
       "      <td>0.224</td>\n",
       "      <td>0.000022</td>\n",
       "      <td>0</td>\n",
       "      <td>0.095</td>\n",
       "      <td>-11.376</td>\n",
       "      <td>1</td>\n",
       "      <td>0.0345</td>\n",
       "      <td>...</td>\n",
       "      <td>0.001321</td>\n",
       "      <td>0.000018</td>\n",
       "      <td>0.000038</td>\n",
       "      <td>3.098883e-05</td>\n",
       "      <td>0.004193</td>\n",
       "      <td>0.000257</td>\n",
       "      <td>0.008460</td>\n",
       "      <td>0.004019</td>\n",
       "      <td>0.000473</td>\n",
       "      <td>0.000329</td>\n",
       "    </tr>\n",
       "    <tr>\n",
       "      <th>1</th>\n",
       "      <td>0.431</td>\n",
       "      <td>0.326</td>\n",
       "      <td>343573</td>\n",
       "      <td>0.224</td>\n",
       "      <td>0.000022</td>\n",
       "      <td>0</td>\n",
       "      <td>0.095</td>\n",
       "      <td>-11.376</td>\n",
       "      <td>1</td>\n",
       "      <td>0.0345</td>\n",
       "      <td>...</td>\n",
       "      <td>0.001321</td>\n",
       "      <td>0.000018</td>\n",
       "      <td>0.000038</td>\n",
       "      <td>3.688858e-07</td>\n",
       "      <td>0.000065</td>\n",
       "      <td>0.000105</td>\n",
       "      <td>0.000039</td>\n",
       "      <td>0.000102</td>\n",
       "      <td>0.000159</td>\n",
       "      <td>0.000024</td>\n",
       "    </tr>\n",
       "    <tr>\n",
       "      <th>2</th>\n",
       "      <td>0.431</td>\n",
       "      <td>0.326</td>\n",
       "      <td>343573</td>\n",
       "      <td>0.224</td>\n",
       "      <td>0.000022</td>\n",
       "      <td>0</td>\n",
       "      <td>0.095</td>\n",
       "      <td>-11.376</td>\n",
       "      <td>1</td>\n",
       "      <td>0.0345</td>\n",
       "      <td>...</td>\n",
       "      <td>0.001321</td>\n",
       "      <td>0.000018</td>\n",
       "      <td>0.000038</td>\n",
       "      <td>4.300294e-05</td>\n",
       "      <td>0.002480</td>\n",
       "      <td>0.000858</td>\n",
       "      <td>0.002923</td>\n",
       "      <td>0.011262</td>\n",
       "      <td>0.000351</td>\n",
       "      <td>0.000096</td>\n",
       "    </tr>\n",
       "    <tr>\n",
       "      <th>3</th>\n",
       "      <td>0.431</td>\n",
       "      <td>0.326</td>\n",
       "      <td>343573</td>\n",
       "      <td>0.224</td>\n",
       "      <td>0.000022</td>\n",
       "      <td>0</td>\n",
       "      <td>0.095</td>\n",
       "      <td>-11.376</td>\n",
       "      <td>1</td>\n",
       "      <td>0.0345</td>\n",
       "      <td>...</td>\n",
       "      <td>0.001321</td>\n",
       "      <td>0.000018</td>\n",
       "      <td>0.000038</td>\n",
       "      <td>3.122227e-06</td>\n",
       "      <td>0.000366</td>\n",
       "      <td>0.000176</td>\n",
       "      <td>0.000325</td>\n",
       "      <td>0.001059</td>\n",
       "      <td>0.000042</td>\n",
       "      <td>0.000051</td>\n",
       "    </tr>\n",
       "    <tr>\n",
       "      <th>4</th>\n",
       "      <td>0.431</td>\n",
       "      <td>0.326</td>\n",
       "      <td>343573</td>\n",
       "      <td>0.224</td>\n",
       "      <td>0.000022</td>\n",
       "      <td>0</td>\n",
       "      <td>0.095</td>\n",
       "      <td>-11.376</td>\n",
       "      <td>1</td>\n",
       "      <td>0.0345</td>\n",
       "      <td>...</td>\n",
       "      <td>0.001321</td>\n",
       "      <td>0.000018</td>\n",
       "      <td>0.000038</td>\n",
       "      <td>1.436144e-05</td>\n",
       "      <td>0.000558</td>\n",
       "      <td>0.000552</td>\n",
       "      <td>0.000540</td>\n",
       "      <td>0.000992</td>\n",
       "      <td>0.000043</td>\n",
       "      <td>0.000070</td>\n",
       "    </tr>\n",
       "  </tbody>\n",
       "</table>\n",
       "<p>5 rows × 27 columns</p>\n",
       "</div>"
      ],
      "text/plain": [
       "   acousticness  danceability  duration_ms  energy  instrumentalness  key  \\\n",
       "0         0.431         0.326       343573   0.224          0.000022    0   \n",
       "1         0.431         0.326       343573   0.224          0.000022    0   \n",
       "2         0.431         0.326       343573   0.224          0.000022    0   \n",
       "3         0.431         0.326       343573   0.224          0.000022    0   \n",
       "4         0.431         0.326       343573   0.224          0.000022    0   \n",
       "\n",
       "   liveness  loudness  mode  speechiness    ...           s5        s6  \\\n",
       "0     0.095   -11.376     1       0.0345    ...     0.001321  0.000018   \n",
       "1     0.095   -11.376     1       0.0345    ...     0.001321  0.000018   \n",
       "2     0.095   -11.376     1       0.0345    ...     0.001321  0.000018   \n",
       "3     0.095   -11.376     1       0.0345    ...     0.001321  0.000018   \n",
       "4     0.095   -11.376     1       0.0345    ...     0.001321  0.000018   \n",
       "\n",
       "         s7            u1        u2        u3        u4        u5        u6  \\\n",
       "0  0.000038  3.098883e-05  0.004193  0.000257  0.008460  0.004019  0.000473   \n",
       "1  0.000038  3.688858e-07  0.000065  0.000105  0.000039  0.000102  0.000159   \n",
       "2  0.000038  4.300294e-05  0.002480  0.000858  0.002923  0.011262  0.000351   \n",
       "3  0.000038  3.122227e-06  0.000366  0.000176  0.000325  0.001059  0.000042   \n",
       "4  0.000038  1.436144e-05  0.000558  0.000552  0.000540  0.000992  0.000043   \n",
       "\n",
       "         u7  \n",
       "0  0.000329  \n",
       "1  0.000024  \n",
       "2  0.000096  \n",
       "3  0.000051  \n",
       "4  0.000070  \n",
       "\n",
       "[5 rows x 27 columns]"
      ]
     },
     "execution_count": 36,
     "metadata": {},
     "output_type": "execute_result"
    }
   ],
   "source": [
    "train2_X.head()"
   ]
  },
  {
   "cell_type": "code",
   "execution_count": 37,
   "metadata": {},
   "outputs": [],
   "source": [
    "val_y = val_df['label']"
   ]
  },
  {
   "cell_type": "code",
   "execution_count": 38,
   "metadata": {},
   "outputs": [
    {
     "name": "stdout",
     "output_type": "stream",
     "text": [
      "\n",
      " Confusion Matrix:\n",
      " [[232926  24813]\n",
      " [151250  34465]]\n",
      "\n",
      " Classification Report: \n",
      "               precision    recall  f1-score   support\n",
      "\n",
      "         one       0.61      0.90      0.73    257739\n",
      "    one_plus       0.58      0.19      0.28    185715\n",
      "\n",
      "   micro avg       0.60      0.60      0.60    443454\n",
      "   macro avg       0.59      0.54      0.50    443454\n",
      "weighted avg       0.60      0.60      0.54    443454\n",
      "\n",
      "Accuracy: 0.6029734763921398\n",
      "AUC Score: 0.6019995615829461\n"
     ]
    }
   ],
   "source": [
    "#XGBOOST TRAINING ACCURACY\n",
    "\n",
    "from xgboost import XGBClassifier\n",
    "from sklearn.metrics import (classification_report,confusion_matrix, accuracy_score, f1_score, roc_auc_score)\n",
    "\n",
    "xgb = XGBClassifier()\n",
    "xgb.fit(train2_X, train2_y)\n",
    "xgb_pred = xgb.predict(train2_X)\n",
    "y_pred = xgb.predict_proba(train2_X)[:,1]\n",
    "\n",
    "\n",
    "print('\\n Confusion Matrix:\\n',confusion_matrix(train2_y,xgb_pred))\n",
    "print(\"\\n Classification Report: \\n\", classification_report(train2_y, xgb_pred))\n",
    "print(\"Accuracy:\", (accuracy_score(train2_y,xgb_pred)))\n",
    "print(\"AUC Score:\", (roc_auc_score(train2_y,y_pred)))"
   ]
  },
  {
   "cell_type": "code",
   "execution_count": 39,
   "metadata": {},
   "outputs": [
    {
     "name": "stdout",
     "output_type": "stream",
     "text": [
      "\n",
      " Confusion Matrix:\n",
      " [[139072  15325]\n",
      " [ 90806  20846]]\n",
      "\n",
      " Classification Report: \n",
      "               precision    recall  f1-score   support\n",
      "\n",
      "         one       0.60      0.90      0.72    154397\n",
      "    one_plus       0.58      0.19      0.28    111652\n",
      "\n",
      "   micro avg       0.60      0.60      0.60    266049\n",
      "   macro avg       0.59      0.54      0.50    266049\n",
      "weighted avg       0.59      0.60      0.54    266049\n",
      "\n",
      "Accuracy: 0.601084762581329\n",
      "AUC Score: 0.5995381111239345\n"
     ]
    }
   ],
   "source": [
    "# XGBoost TEST accuracy\n",
    "xgb_pred2 = xgb.predict(val_X)\n",
    "y_pred2 = xgb.predict_proba(val_X)[:,1]\n",
    "\n",
    "print('\\n Confusion Matrix:\\n',confusion_matrix(val_y,xgb_pred2))\n",
    "print(\"\\n Classification Report: \\n\", classification_report(val_y, xgb_pred2))\n",
    "print(\"Accuracy:\", (accuracy_score(val_y,xgb_pred2)))\n",
    "print(\"AUC Score:\", (roc_auc_score(val_y,y_pred2)))\n"
   ]
  },
  {
   "cell_type": "markdown",
   "metadata": {},
   "source": [
    "## Hyperparameter Tuning\n",
    "\n",
    "Now we will find optimal hyperparameters by using a random search method. This method searches through a random set of a grid of parameters for each model, returning the parameters that give the highest k-fold cross validation score."
   ]
  },
  {
   "cell_type": "code",
   "execution_count": 40,
   "metadata": {},
   "outputs": [
    {
     "data": {
      "text/plain": [
       "13066"
      ]
     },
     "execution_count": 40,
     "metadata": {},
     "output_type": "execute_result"
    }
   ],
   "source": [
    "len(train2_y[0:30000][train2_y[0:30000] == 'one_plus'])\n"
   ]
  },
  {
   "cell_type": "code",
   "execution_count": 41,
   "metadata": {},
   "outputs": [
    {
     "data": {
      "text/plain": [
       "16934"
      ]
     },
     "execution_count": 41,
     "metadata": {},
     "output_type": "execute_result"
    }
   ],
   "source": [
    "len(train2_y[0:30000][train2_y[0:30000] == 'one'])\n"
   ]
  },
  {
   "cell_type": "code",
   "execution_count": 42,
   "metadata": {},
   "outputs": [
    {
     "data": {
      "text/plain": [
       "{'base_score': 0.5,\n",
       " 'booster': 'gbtree',\n",
       " 'colsample_bylevel': 1,\n",
       " 'colsample_bytree': 1,\n",
       " 'gamma': 0,\n",
       " 'learning_rate': 0.1,\n",
       " 'max_delta_step': 0,\n",
       " 'max_depth': 3,\n",
       " 'min_child_weight': 1,\n",
       " 'missing': None,\n",
       " 'n_estimators': 100,\n",
       " 'n_jobs': 1,\n",
       " 'nthread': None,\n",
       " 'objective': 'binary:logistic',\n",
       " 'random_state': 0,\n",
       " 'reg_alpha': 0,\n",
       " 'reg_lambda': 1,\n",
       " 'scale_pos_weight': 1,\n",
       " 'seed': None,\n",
       " 'silent': True,\n",
       " 'subsample': 1}"
      ]
     },
     "execution_count": 42,
     "metadata": {},
     "output_type": "execute_result"
    }
   ],
   "source": [
    "xgb.get_params()"
   ]
  },
  {
   "cell_type": "code",
   "execution_count": 43,
   "metadata": {},
   "outputs": [
    {
     "name": "stdout",
     "output_type": "stream",
     "text": [
      "Average Cross-Validation Score: 0.5808444994051802\n"
     ]
    }
   ],
   "source": [
    "# evaluate base model\n",
    "# use AUC for scoring\n",
    "\n",
    "from sklearn.model_selection import cross_val_score\n",
    "\n",
    "cross_val_scores= cross_val_score(xgb, train2_X, train2_y, \\\n",
    "                                  cv=5, scoring='roc_auc')\n",
    "\n",
    "print(\"Average Cross-Validation Score:\", np.mean(cross_val_scores))"
   ]
  },
  {
   "cell_type": "code",
   "execution_count": 44,
   "metadata": {},
   "outputs": [
    {
     "name": "stdout",
     "output_type": "stream",
     "text": [
      "Average Cross-Validation Score: 0.4834315664763015\n"
     ]
    }
   ],
   "source": [
    "# evaluate base model of subset of test data\n",
    "# use AUC for scoring\n",
    "\n",
    "\n",
    "cross_val_scores= cross_val_score(xgb, train2_X[0:30000], train2_y[0:30000], \\\n",
    "                                  cv=5, scoring='roc_auc')\n",
    "\n",
    "print(\"Average Cross-Validation Score:\", np.mean(cross_val_scores))"
   ]
  },
  {
   "cell_type": "code",
   "execution_count": 45,
   "metadata": {},
   "outputs": [],
   "source": [
    "param_grid1 = { 'max_depth': [1,2,3,4,5],\n",
    "                'min_child_weight': [2,3,4,5,6,7]}"
   ]
  },
  {
   "cell_type": "code",
   "execution_count": 46,
   "metadata": {},
   "outputs": [
    {
     "name": "stderr",
     "output_type": "stream",
     "text": [
      "c:\\users\\amand\\appdata\\local\\programs\\python\\python37\\lib\\site-packages\\sklearn\\model_selection\\_search.py:271: UserWarning: The total space of parameters 30 is smaller than n_iter=50. Running 30 iterations. For exhaustive searches, use GridSearchCV.\n",
      "  % (grid_size, self.n_iter, grid_size), UserWarning)\n"
     ]
    },
    {
     "name": "stdout",
     "output_type": "stream",
     "text": [
      "{'min_child_weight': 2, 'max_depth': 1} 0.536230465672278\n"
     ]
    }
   ],
   "source": [
    "from sklearn.model_selection import RandomizedSearchCV\n",
    "\n",
    "gs_random = RandomizedSearchCV(XGBClassifier(), param_grid1, cv=3 , n_iter=50, scoring='roc_auc')\n",
    "\n",
    "# subset only 30000 rows for time\n",
    "gs_random.fit(train2_X[0:30000], train2_y[0:30000])\n",
    "print(gs_random.best_params_, gs_random.best_score_)"
   ]
  },
  {
   "cell_type": "markdown",
   "metadata": {},
   "source": [
    "The optimal parameters are 1 for max_depth and 2 for min_child_weight. Lets go one step deeper for min_child_weight since the min value in the grid search was 2."
   ]
  },
  {
   "cell_type": "code",
   "execution_count": 47,
   "metadata": {},
   "outputs": [
    {
     "name": "stderr",
     "output_type": "stream",
     "text": [
      "c:\\users\\amand\\appdata\\local\\programs\\python\\python37\\lib\\site-packages\\sklearn\\model_selection\\_search.py:271: UserWarning: The total space of parameters 3 is smaller than n_iter=50. Running 3 iterations. For exhaustive searches, use GridSearchCV.\n",
      "  % (grid_size, self.n_iter, grid_size), UserWarning)\n"
     ]
    },
    {
     "name": "stdout",
     "output_type": "stream",
     "text": [
      "{'min_child_weight': 1} 0.536230465672278\n"
     ]
    }
   ],
   "source": [
    "param_grid1b = {'min_child_weight': [1,2,3]}\n",
    "\n",
    "gs_random_b = RandomizedSearchCV(XGBClassifier(max_depth = 1), param_grid1b, cv=3 , n_iter=50, scoring='roc_auc')\n",
    "\n",
    "# subset only 50000 rows for time\n",
    "gs_random_b.fit(train2_X[0:30000], train2_y[0:30000])\n",
    "print(gs_random_b.best_params_, gs_random_b.best_score_)"
   ]
  },
  {
   "cell_type": "code",
   "execution_count": 48,
   "metadata": {},
   "outputs": [
    {
     "name": "stderr",
     "output_type": "stream",
     "text": [
      "c:\\users\\amand\\appdata\\local\\programs\\python\\python37\\lib\\site-packages\\sklearn\\model_selection\\_search.py:271: UserWarning: The total space of parameters 4 is smaller than n_iter=50. Running 4 iterations. For exhaustive searches, use GridSearchCV.\n",
      "  % (grid_size, self.n_iter, grid_size), UserWarning)\n"
     ]
    },
    {
     "name": "stdout",
     "output_type": "stream",
     "text": [
      "{'gamma': 0} 0.536230465672278\n"
     ]
    }
   ],
   "source": [
    "param_grid2 = {\"gamma\": [0, 0.01, 0.05, 1]}\n",
    "\n",
    "gs_random2 = RandomizedSearchCV(XGBClassifier(min_child_weight= 1, max_depth= 1), param_grid2, cv=3 , n_iter=50, scoring='roc_auc')\n",
    "\n",
    "gs_random2.fit(train2_X[0:30000], train2_y[0:30000])\n",
    "print(gs_random2.best_params_, gs_random2.best_score_)"
   ]
  },
  {
   "cell_type": "code",
   "execution_count": 49,
   "metadata": {},
   "outputs": [
    {
     "name": "stderr",
     "output_type": "stream",
     "text": [
      "c:\\users\\amand\\appdata\\local\\programs\\python\\python37\\lib\\site-packages\\sklearn\\model_selection\\_search.py:271: UserWarning: The total space of parameters 16 is smaller than n_iter=50. Running 16 iterations. For exhaustive searches, use GridSearchCV.\n",
      "  % (grid_size, self.n_iter, grid_size), UserWarning)\n"
     ]
    },
    {
     "name": "stdout",
     "output_type": "stream",
     "text": [
      "{'subsample': 0.6, 'colsample_bytree': 0.6} 0.5370976367675185\n"
     ]
    }
   ],
   "source": [
    "param_grid3 = {\"colsample_bytree\" : [ 0.6 , 0.7, 0.8, 1.0],\n",
    "               \"subsample\" : [ 0.6 , 0.7, 0.8, 1.0]}\n",
    "\n",
    "gs_random3 = RandomizedSearchCV(XGBClassifier(min_child_weight= 1, max_depth = 1, gamma=0), param_grid3, cv=3 , n_iter=50, scoring='roc_auc')\n",
    "\n",
    "gs_random3.fit(train2_X[0:30000], train2_y[0:30000])\n",
    "print(gs_random3.best_params_, gs_random3.best_score_)"
   ]
  },
  {
   "cell_type": "markdown",
   "metadata": {},
   "source": [
    "Lets go one step deeper for subsample and colsample_bytree since the min value in the grid search was 0.6."
   ]
  },
  {
   "cell_type": "code",
   "execution_count": 50,
   "metadata": {},
   "outputs": [
    {
     "name": "stderr",
     "output_type": "stream",
     "text": [
      "c:\\users\\amand\\appdata\\local\\programs\\python\\python37\\lib\\site-packages\\sklearn\\model_selection\\_search.py:271: UserWarning: The total space of parameters 16 is smaller than n_iter=50. Running 16 iterations. For exhaustive searches, use GridSearchCV.\n",
      "  % (grid_size, self.n_iter, grid_size), UserWarning)\n"
     ]
    },
    {
     "name": "stdout",
     "output_type": "stream",
     "text": [
      "{'subsample': 0.6, 'colsample_bytree': 0.6} 0.5370976367675185\n"
     ]
    }
   ],
   "source": [
    "param_grid4 = {\"subsample\" : [0.5, 0.55, 0.6, 0.65],\n",
    "               \"colsample_bytree\" : [0.5, 0.55, 0.6, 0.65]}\n",
    "\n",
    "gs_random4 = RandomizedSearchCV(XGBClassifier(min_child_weight= 1, max_depth= 1, gamma=0), param_grid4, cv=3 , n_iter=50, scoring='roc_auc')\n",
    "\n",
    "gs_random4.fit(train2_X[0:30000], train2_y[0:30000])\n",
    "print(gs_random4.best_params_, gs_random4.best_score_)"
   ]
  },
  {
   "cell_type": "markdown",
   "metadata": {},
   "source": [
    "Looks like we still have the same optimal parameters."
   ]
  },
  {
   "cell_type": "code",
   "execution_count": 51,
   "metadata": {},
   "outputs": [
    {
     "name": "stderr",
     "output_type": "stream",
     "text": [
      "c:\\users\\amand\\appdata\\local\\programs\\python\\python37\\lib\\site-packages\\sklearn\\model_selection\\_search.py:271: UserWarning: The total space of parameters 5 is smaller than n_iter=50. Running 5 iterations. For exhaustive searches, use GridSearchCV.\n",
      "  % (grid_size, self.n_iter, grid_size), UserWarning)\n"
     ]
    },
    {
     "name": "stdout",
     "output_type": "stream",
     "text": [
      "{'reg_alpha': 100} 0.546769957459593\n"
     ]
    }
   ],
   "source": [
    "param_grid5 = {'reg_alpha':[1e-5, 1e-2, 0.1, 1, 100]}\n",
    "\n",
    "gs_random5 = RandomizedSearchCV(XGBClassifier(min_child_weight= 1, max_depth= 1, gamma=0, subsample=0.6, colsample_bytree=0.6), param_grid5, cv=3 , n_iter=50, scoring='roc_auc')\n",
    "\n",
    "gs_random5.fit(train2_X[0:30000], train2_y[0:30000])\n",
    "print(gs_random5.best_params_, gs_random5.best_score_)"
   ]
  },
  {
   "cell_type": "markdown",
   "metadata": {},
   "source": [
    "Now lets try less widespread values."
   ]
  },
  {
   "cell_type": "code",
   "execution_count": 52,
   "metadata": {},
   "outputs": [
    {
     "name": "stderr",
     "output_type": "stream",
     "text": [
      "c:\\users\\amand\\appdata\\local\\programs\\python\\python37\\lib\\site-packages\\sklearn\\model_selection\\_search.py:271: UserWarning: The total space of parameters 6 is smaller than n_iter=50. Running 6 iterations. For exhaustive searches, use GridSearchCV.\n",
      "  % (grid_size, self.n_iter, grid_size), UserWarning)\n"
     ]
    },
    {
     "name": "stdout",
     "output_type": "stream",
     "text": [
      "{'reg_alpha': 300} 0.5684249342380883\n"
     ]
    }
   ],
   "source": [
    "param_grid6 = {'reg_alpha':[50, 100, 200, 300, 400, 500]}\n",
    "\n",
    "gs_random6 = RandomizedSearchCV(XGBClassifier(min_child_weight= 1, max_depth= 1, gamma=0, subsample=0.6, colsample_bytree=0.6), param_grid6, cv=3 , n_iter=50, scoring='roc_auc')\n",
    "\n",
    "gs_random6.fit(train2_X[0:30000], train2_y[0:30000])\n",
    "print(gs_random6.best_params_, gs_random6.best_score_)"
   ]
  },
  {
   "cell_type": "markdown",
   "metadata": {},
   "source": [
    "The optimal value for reg_alpha is 300. Now lets tune reg_lambda."
   ]
  },
  {
   "cell_type": "code",
   "execution_count": 53,
   "metadata": {},
   "outputs": [
    {
     "name": "stderr",
     "output_type": "stream",
     "text": [
      "c:\\users\\amand\\appdata\\local\\programs\\python\\python37\\lib\\site-packages\\sklearn\\model_selection\\_search.py:271: UserWarning: The total space of parameters 5 is smaller than n_iter=50. Running 5 iterations. For exhaustive searches, use GridSearchCV.\n",
      "  % (grid_size, self.n_iter, grid_size), UserWarning)\n"
     ]
    },
    {
     "name": "stdout",
     "output_type": "stream",
     "text": [
      "{'reg_lambda': 100} 0.5688485456508188\n"
     ]
    }
   ],
   "source": [
    "param_grid7 = {'reg_lambda':[1e-5, 1e-2, 0.1, 1, 100]}\n",
    "\n",
    "gs_random7 = RandomizedSearchCV(XGBClassifier(min_child_weight= 1, max_depth= 1, gamma=0, subsample=0.6, colsample_bytree=0.6, reg_alpha=300), param_grid7, cv=3 , n_iter=50, scoring='roc_auc')\n",
    "\n",
    "gs_random7.fit(train2_X[0:30000], train2_y[0:30000])\n",
    "print(gs_random7.best_params_, gs_random7.best_score_)"
   ]
  },
  {
   "cell_type": "code",
   "execution_count": 54,
   "metadata": {},
   "outputs": [
    {
     "name": "stderr",
     "output_type": "stream",
     "text": [
      "c:\\users\\amand\\appdata\\local\\programs\\python\\python37\\lib\\site-packages\\sklearn\\model_selection\\_search.py:271: UserWarning: The total space of parameters 6 is smaller than n_iter=50. Running 6 iterations. For exhaustive searches, use GridSearchCV.\n",
      "  % (grid_size, self.n_iter, grid_size), UserWarning)\n"
     ]
    },
    {
     "name": "stdout",
     "output_type": "stream",
     "text": [
      "{'reg_lambda': 500} 0.5704044410917765\n"
     ]
    }
   ],
   "source": [
    "param_grid8 = {'reg_lambda':[50, 100, 200, 300, 400, 500]}\n",
    "\n",
    "gs_random8 = RandomizedSearchCV(XGBClassifier(min_child_weight= 1, max_depth= 1, gamma=0, subsample=0.6, colsample_bytree=0.6, reg_alpha=300), param_grid8, cv=3 , n_iter=50, scoring='roc_auc')\n",
    "\n",
    "gs_random8.fit(train2_X[0:30000], train2_y[0:30000])\n",
    "print(gs_random8.best_params_, gs_random8.best_score_)"
   ]
  },
  {
   "cell_type": "code",
   "execution_count": 55,
   "metadata": {},
   "outputs": [
    {
     "name": "stderr",
     "output_type": "stream",
     "text": [
      "c:\\users\\amand\\appdata\\local\\programs\\python\\python37\\lib\\site-packages\\sklearn\\model_selection\\_search.py:271: UserWarning: The total space of parameters 7 is smaller than n_iter=50. Running 7 iterations. For exhaustive searches, use GridSearchCV.\n",
      "  % (grid_size, self.n_iter, grid_size), UserWarning)\n"
     ]
    },
    {
     "name": "stdout",
     "output_type": "stream",
     "text": [
      "{'reg_lambda': 4000} 0.5731740955187452\n"
     ]
    }
   ],
   "source": [
    "param_grid8b = {'reg_lambda':[500, 1000, 2000, 3000, 4000, 5000, 6000]}\n",
    "\n",
    "gs_random8b = RandomizedSearchCV(XGBClassifier(min_child_weight= 1, max_depth= 1, gamma=0, subsample=0.6, colsample_bytree=0.6, reg_alpha=300), param_grid8b, cv=3 , n_iter=50, scoring='roc_auc')\n",
    "\n",
    "gs_random8b.fit(train2_X[0:30000], train2_y[0:30000])\n",
    "print(gs_random8b.best_params_, gs_random8b.best_score_)"
   ]
  },
  {
   "cell_type": "code",
   "execution_count": 56,
   "metadata": {},
   "outputs": [
    {
     "name": "stderr",
     "output_type": "stream",
     "text": [
      "c:\\users\\amand\\appdata\\local\\programs\\python\\python37\\lib\\site-packages\\sklearn\\model_selection\\_search.py:271: UserWarning: The total space of parameters 9 is smaller than n_iter=50. Running 9 iterations. For exhaustive searches, use GridSearchCV.\n",
      "  % (grid_size, self.n_iter, grid_size), UserWarning)\n"
     ]
    },
    {
     "name": "stdout",
     "output_type": "stream",
     "text": [
      "{'n_estimators': 1000, 'learning_rate': 0.01} 0.573434135929347\n"
     ]
    }
   ],
   "source": [
    "param_grid9 = {\"learning_rate\" : [0.1,0.05,.01],\n",
    "               \"n_estimators\" : [100,500,1000]}\n",
    "gs_random9 = RandomizedSearchCV(XGBClassifier(min_child_weight= 1, max_depth= 1, gamma=0, subsample=0.6, colsample_bytree=0.6, reg_alpha=300, reg_lambda=4000), param_grid9, cv=3 , n_iter=50, scoring='roc_auc')\n",
    "\n",
    "gs_random9.fit(train2_X[0:30000], train2_y[0:30000])\n",
    "print(gs_random9.best_params_, gs_random9.best_score_)"
   ]
  },
  {
   "cell_type": "markdown",
   "metadata": {},
   "source": [
    "The tuned hyperparameters increase CV performance by 9% on the subset of our training set. Now lets evaluate the tuned model on the whole test set."
   ]
  },
  {
   "cell_type": "code",
   "execution_count": 57,
   "metadata": {},
   "outputs": [
    {
     "name": "stdout",
     "output_type": "stream",
     "text": [
      "Average Cross-Validation Score: 0.5742562488126677\n"
     ]
    }
   ],
   "source": [
    "xgb_tuned = XGBClassifier(\n",
    "min_child_weight= 1,\n",
    "max_depth= 1, \n",
    "gamma=0, \n",
    "subsample=0.6, \n",
    "colsample_bytree=0.6, \n",
    "reg_alpha=300, \n",
    "reg_lambda=4000,\n",
    "learning_rate=0.01,\n",
    "n_estimators=1000)\n",
    "\n",
    "xgb_tuned.fit(train2_X, train2_y)\n",
    "\n",
    "cross_val_scores= cross_val_score(xgb_tuned, train2_X, train2_y, \\\n",
    "                                  cv=5, scoring='roc_auc')\n",
    "\n",
    "print(\"Average Cross-Validation Score:\", np.mean(cross_val_scores))"
   ]
  },
  {
   "cell_type": "code",
   "execution_count": 58,
   "metadata": {},
   "outputs": [
    {
     "name": "stdout",
     "output_type": "stream",
     "text": [
      "\n",
      " Confusion Matrix:\n",
      " [[139693  14704]\n",
      " [ 94692  16960]]\n",
      "\n",
      " Classification Report: \n",
      "               precision    recall  f1-score   support\n",
      "\n",
      "         one       0.60      0.90      0.72    154397\n",
      "    one_plus       0.54      0.15      0.24    111652\n",
      "\n",
      "   micro avg       0.59      0.59      0.59    266049\n",
      "   macro avg       0.57      0.53      0.48    266049\n",
      "weighted avg       0.57      0.59      0.52    266049\n",
      "\n",
      "Accuracy: 0.5888125871549977\n",
      "AUC Score: 0.5784675024999475\n",
      "<bound method XGBModel.get_params of XGBClassifier(base_score=0.5, booster='gbtree', colsample_bylevel=1,\n",
      "       colsample_bytree=0.6, gamma=0, learning_rate=0.01, max_delta_step=0,\n",
      "       max_depth=1, min_child_weight=1, missing=None, n_estimators=1000,\n",
      "       n_jobs=1, nthread=None, objective='binary:logistic', random_state=0,\n",
      "       reg_alpha=300, reg_lambda=4000, scale_pos_weight=1, seed=None,\n",
      "       silent=True, subsample=0.6)>\n"
     ]
    }
   ],
   "source": [
    "# evaluate hold out set\n",
    "\n",
    "xgb_pred3 = xgb_tuned.predict(val_X)\n",
    "class_pred3 = xgb_tuned.predict_proba(val_X)[:,1]\n",
    "\n",
    "print('\\n Confusion Matrix:\\n',confusion_matrix(val_y,xgb_pred3))\n",
    "print(\"\\n Classification Report: \\n\", classification_report(val_y, xgb_pred3))\n",
    "print(\"Accuracy:\", (accuracy_score(val_y,xgb_pred3)))\n",
    "print(\"AUC Score:\", (roc_auc_score(val_y,class_pred3)))\n",
    "print(xgb_tuned.get_params)"
   ]
  },
  {
   "cell_type": "code",
   "execution_count": 59,
   "metadata": {},
   "outputs": [
    {
     "name": "stderr",
     "output_type": "stream",
     "text": [
      "c:\\users\\amand\\appdata\\local\\programs\\python\\python37\\lib\\site-packages\\sklearn\\ensemble\\forest.py:246: FutureWarning: The default value of n_estimators will change from 10 in version 0.20 to 100 in 0.22.\n",
      "  \"10 in version 0.20 to 100 in 0.22.\", FutureWarning)\n"
     ]
    },
    {
     "name": "stdout",
     "output_type": "stream",
     "text": [
      "\n",
      " Confusion Matrix:\n",
      " [[121111  33286]\n",
      " [ 74308  37344]]\n",
      "\n",
      " Classification Report: \n",
      "               precision    recall  f1-score   support\n",
      "\n",
      "         one       0.62      0.78      0.69    154397\n",
      "    one_plus       0.53      0.33      0.41    111652\n",
      "\n",
      "   micro avg       0.60      0.60      0.60    266049\n",
      "   macro avg       0.57      0.56      0.55    266049\n",
      "weighted avg       0.58      0.60      0.57    266049\n",
      "\n",
      "Accuracy: 0.5955857755526238\n",
      "AUC Score: 0.5962219094807436\n"
     ]
    }
   ],
   "source": [
    "from sklearn.ensemble import RandomForestClassifier\n",
    "\n",
    "rfclf = RandomForestClassifier()\n",
    "rfclf.fit(train2_X, train2_y)\n",
    "\n",
    "y_pred = rfclf.predict(val_X)\n",
    "class_pred = rfclf.predict_proba(val_X)[:,1]\n",
    "\n",
    "print('\\n Confusion Matrix:\\n',confusion_matrix(val_y,y_pred))\n",
    "print(\"\\n Classification Report: \\n\", classification_report(val_y, y_pred))\n",
    "print(\"Accuracy:\", (accuracy_score(val_y,y_pred)))\n",
    "print(\"AUC Score:\", (roc_auc_score(val_y,class_pred)))"
   ]
  },
  {
   "cell_type": "code",
   "execution_count": 60,
   "metadata": {},
   "outputs": [
    {
     "data": {
      "text/plain": [
       "{'bootstrap': True,\n",
       " 'class_weight': None,\n",
       " 'criterion': 'gini',\n",
       " 'max_depth': None,\n",
       " 'max_features': 'auto',\n",
       " 'max_leaf_nodes': None,\n",
       " 'min_impurity_decrease': 0.0,\n",
       " 'min_impurity_split': None,\n",
       " 'min_samples_leaf': 1,\n",
       " 'min_samples_split': 2,\n",
       " 'min_weight_fraction_leaf': 0.0,\n",
       " 'n_estimators': 10,\n",
       " 'n_jobs': None,\n",
       " 'oob_score': False,\n",
       " 'random_state': None,\n",
       " 'verbose': 0,\n",
       " 'warm_start': False}"
      ]
     },
     "execution_count": 60,
     "metadata": {},
     "output_type": "execute_result"
    }
   ],
   "source": [
    "rfclf.get_params()"
   ]
  },
  {
   "cell_type": "code",
   "execution_count": 61,
   "metadata": {},
   "outputs": [
    {
     "name": "stdout",
     "output_type": "stream",
     "text": [
      "Average Cross-Validation Score: 0.5463440186700003\n"
     ]
    }
   ],
   "source": [
    "# evaluate base model\n",
    "# use AUC for scoring\n",
    "\n",
    "cross_val_scores= cross_val_score(rfclf, train2_X, train2_y, \\\n",
    "                                  cv=5, scoring='roc_auc')\n",
    "\n",
    "print(\"Average Cross-Validation Score:\", np.mean(cross_val_scores))"
   ]
  },
  {
   "cell_type": "code",
   "execution_count": 62,
   "metadata": {},
   "outputs": [
    {
     "name": "stdout",
     "output_type": "stream",
     "text": [
      "Average Cross-Validation Score: 0.4533766213520643\n"
     ]
    }
   ],
   "source": [
    "# evaluate base model of subset of test data\n",
    "# use AUC for scoring\n",
    "\n",
    "\n",
    "cross_val_scores= cross_val_score(rfclf, train2_X[0:30000], train2_y[0:30000], \\\n",
    "                                  cv=5, scoring='roc_auc')\n",
    "\n",
    "print(\"Average Cross-Validation Score:\", np.mean(cross_val_scores))"
   ]
  },
  {
   "cell_type": "code",
   "execution_count": 63,
   "metadata": {},
   "outputs": [
    {
     "name": "stderr",
     "output_type": "stream",
     "text": [
      "c:\\users\\amand\\appdata\\local\\programs\\python\\python37\\lib\\site-packages\\sklearn\\model_selection\\_search.py:271: UserWarning: The total space of parameters 4 is smaller than n_iter=50. Running 4 iterations. For exhaustive searches, use GridSearchCV.\n",
      "  % (grid_size, self.n_iter, grid_size), UserWarning)\n"
     ]
    },
    {
     "name": "stdout",
     "output_type": "stream",
     "text": [
      "{'n_estimators': 250} 0.5385038663615604\n"
     ]
    }
   ],
   "source": [
    "param_grid_rf ={'n_estimators': [ 100, 200, 250, 300]}\n",
    "\n",
    "\n",
    "cv_new = RandomizedSearchCV(rfclf, param_grid_rf, cv=3 , n_iter=50, scoring='roc_auc')\n",
    "cv_new.fit(train2_X[0:30000], train2_y[0:30000])\n",
    "print(cv_new.best_params_, cv_new.best_score_)"
   ]
  },
  {
   "cell_type": "code",
   "execution_count": 64,
   "metadata": {},
   "outputs": [
    {
     "name": "stderr",
     "output_type": "stream",
     "text": [
      "c:\\users\\amand\\appdata\\local\\programs\\python\\python37\\lib\\site-packages\\sklearn\\model_selection\\_search.py:271: UserWarning: The total space of parameters 6 is smaller than n_iter=50. Running 6 iterations. For exhaustive searches, use GridSearchCV.\n",
      "  % (grid_size, self.n_iter, grid_size), UserWarning)\n"
     ]
    },
    {
     "name": "stdout",
     "output_type": "stream",
     "text": [
      "{'max_depth': 2} 0.5453945251283911\n"
     ]
    }
   ],
   "source": [
    "param_grid_rf2 ={'max_depth': [2, 5, 10, 15, 20, None]}\n",
    "\n",
    "cv_new2 = RandomizedSearchCV(RandomForestClassifier(n_estimators = 300), param_grid_rf2, cv=3 , n_iter=50, scoring='roc_auc')\n",
    "cv_new2.fit(train2_X[0:30000], train2_y[0:30000])\n",
    "print(cv_new2.best_params_, cv_new2.best_score_)"
   ]
  },
  {
   "cell_type": "code",
   "execution_count": 65,
   "metadata": {},
   "outputs": [
    {
     "name": "stderr",
     "output_type": "stream",
     "text": [
      "c:\\users\\amand\\appdata\\local\\programs\\python\\python37\\lib\\site-packages\\sklearn\\model_selection\\_search.py:271: UserWarning: The total space of parameters 8 is smaller than n_iter=50. Running 8 iterations. For exhaustive searches, use GridSearchCV.\n",
      "  % (grid_size, self.n_iter, grid_size), UserWarning)\n"
     ]
    },
    {
     "name": "stdout",
     "output_type": "stream",
     "text": [
      "{'min_samples_split': 6} 0.5461311351110965\n"
     ]
    }
   ],
   "source": [
    "param_grid_rf3 = {'min_samples_split': [5, 6, 7, 8, 9, 10, 11, 12]}\n",
    "\n",
    "cv_new3 = RandomizedSearchCV(RandomForestClassifier(n_estimators = 300, max_depth = 2), param_grid_rf3, cv=3 , n_iter=50, scoring='roc_auc')\n",
    "cv_new3.fit(train2_X[0:30000], train2_y[0:30000])\n",
    "print(cv_new3.best_params_, cv_new3.best_score_)"
   ]
  },
  {
   "cell_type": "code",
   "execution_count": 66,
   "metadata": {},
   "outputs": [
    {
     "name": "stderr",
     "output_type": "stream",
     "text": [
      "c:\\users\\amand\\appdata\\local\\programs\\python\\python37\\lib\\site-packages\\sklearn\\model_selection\\_search.py:271: UserWarning: The total space of parameters 5 is smaller than n_iter=50. Running 5 iterations. For exhaustive searches, use GridSearchCV.\n",
      "  % (grid_size, self.n_iter, grid_size), UserWarning)\n"
     ]
    },
    {
     "name": "stdout",
     "output_type": "stream",
     "text": [
      "{'min_samples_leaf': 5} 0.546232851357906\n"
     ]
    }
   ],
   "source": [
    "param_grid_rf4 = {'min_samples_leaf': [.5, 1, 2, 5, 7]}\n",
    "\n",
    "cv_new4 = RandomizedSearchCV(RandomForestClassifier(n_estimators = 300, max_depth = 2, min_samples_split = 10), param_grid_rf4, cv=3 , n_iter=50, scoring='roc_auc')\n",
    "cv_new4.fit(train2_X[0:30000], train2_y[0:30000])\n",
    "print(cv_new4.best_params_, cv_new4.best_score_)"
   ]
  },
  {
   "cell_type": "code",
   "execution_count": 67,
   "metadata": {},
   "outputs": [
    {
     "name": "stderr",
     "output_type": "stream",
     "text": [
      "c:\\users\\amand\\appdata\\local\\programs\\python\\python37\\lib\\site-packages\\sklearn\\model_selection\\_search.py:271: UserWarning: The total space of parameters 4 is smaller than n_iter=50. Running 4 iterations. For exhaustive searches, use GridSearchCV.\n",
      "  % (grid_size, self.n_iter, grid_size), UserWarning)\n"
     ]
    },
    {
     "name": "stdout",
     "output_type": "stream",
     "text": [
      "{'max_features': 'auto', 'bootstrap': True} 0.5443157454326522\n"
     ]
    }
   ],
   "source": [
    "param_grid_rf5 = {'bootstrap': [True, False],\n",
    "                     'max_features': ['auto', 'sqrt']}\n",
    "\n",
    "cv_new5 = RandomizedSearchCV(RandomForestClassifier(n_estimators = 300, max_depth = 2, min_samples_split = 10, min_samples_leaf = 1), param_grid_rf5, cv=3 , n_iter=50, scoring='roc_auc')\n",
    "cv_new5.fit(train2_X[0:30000], train2_y[0:30000])\n",
    "print(cv_new5.best_params_, cv_new5.best_score_)"
   ]
  },
  {
   "cell_type": "code",
   "execution_count": 68,
   "metadata": {},
   "outputs": [
    {
     "name": "stdout",
     "output_type": "stream",
     "text": [
      "Average Cross-Validation Score: 0.5735809163585104\n"
     ]
    }
   ],
   "source": [
    "# evaluate on whole set of train data\n",
    "\n",
    "rfclf_tuned = RandomForestClassifier(n_estimators = 300, \n",
    "                                     max_depth = 2, \n",
    "                                     min_samples_split = 10, \n",
    "                                     min_samples_leaf = 1,\n",
    "                                     max_features = 'auto',\n",
    "                                     bootstrap = True)\n",
    "\n",
    "\n",
    "\n",
    "rfclf_tuned.fit(train2_X, train2_y)\n",
    "\n",
    "cross_val_scores= cross_val_score(rfclf_tuned, train2_X, train2_y, \\\n",
    "                                  cv=5, scoring='roc_auc')\n",
    "\n",
    "print(\"Average Cross-Validation Score:\", np.mean(cross_val_scores))"
   ]
  },
  {
   "cell_type": "code",
   "execution_count": 69,
   "metadata": {},
   "outputs": [
    {
     "name": "stdout",
     "output_type": "stream",
     "text": [
      "\n",
      " Confusion Matrix:\n",
      " [[150694   3703]\n",
      " [106532   5120]]\n",
      "\n",
      " Classification Report: \n",
      "               precision    recall  f1-score   support\n",
      "\n",
      "         one       0.59      0.98      0.73    154397\n",
      "    one_plus       0.58      0.05      0.08    111652\n",
      "\n",
      "   micro avg       0.59      0.59      0.59    266049\n",
      "   macro avg       0.58      0.51      0.41    266049\n",
      "weighted avg       0.58      0.59      0.46    266049\n",
      "\n",
      "Accuracy: 0.5856590327345714\n",
      "AUC Score: 0.5765047080855668\n",
      "<bound method BaseEstimator.get_params of RandomForestClassifier(bootstrap=True, class_weight=None, criterion='gini',\n",
      "            max_depth=2, max_features='auto', max_leaf_nodes=None,\n",
      "            min_impurity_decrease=0.0, min_impurity_split=None,\n",
      "            min_samples_leaf=1, min_samples_split=10,\n",
      "            min_weight_fraction_leaf=0.0, n_estimators=300, n_jobs=None,\n",
      "            oob_score=False, random_state=None, verbose=0,\n",
      "            warm_start=False)>\n"
     ]
    }
   ],
   "source": [
    "# evaluate on test set\n",
    "\n",
    "rfclf_pred = rfclf_tuned.predict(val_X)\n",
    "class_pred = rfclf_tuned.predict_proba(val_X)[:,1]\n",
    "\n",
    "print('\\n Confusion Matrix:\\n',confusion_matrix(val_y,rfclf_pred))\n",
    "print(\"\\n Classification Report: \\n\", classification_report(val_y, rfclf_pred))\n",
    "print(\"Accuracy:\", (accuracy_score(val_y,rfclf_pred)))\n",
    "print(\"AUC Score:\", (roc_auc_score(val_y,class_pred)))\n",
    "print(rfclf_tuned.get_params)"
   ]
  },
  {
   "cell_type": "code",
   "execution_count": 70,
   "metadata": {},
   "outputs": [],
   "source": [
    "## average probabilities of two models\n",
    "\n",
    "# get probabilities of random forest binary classifier\n",
    "x = xgb_tuned.predict_proba(val_X)\n",
    "\n",
    "# get probabilities of SVM binary classifier\n",
    "r = rfclf_tuned.predict_proba(val_X)"
   ]
  },
  {
   "cell_type": "code",
   "execution_count": 71,
   "metadata": {},
   "outputs": [],
   "source": [
    "#add index to probabilities so we can merge\n",
    "x = pd.DataFrame(data=x, index=val_X.index)\n",
    "r = pd.DataFrame(data=r, index=val_X.index)\n",
    "\n",
    "\n",
    "# build a dataframe of probabilities (averaged)\n",
    "P = pd.DataFrame(index=val_X.index)\n",
    "for i in P.index:\n",
    "    try:\n",
    "        P.loc[i,0] = (x.loc[i,0] + r.loc[i,0])/2\n",
    "        P.loc[i,1] = (x.loc[i,1] + r.loc[i,1])/2\n",
    "    except KeyError:\n",
    "        P.loc[i,:] = x.loc[i,:]"
   ]
  },
  {
   "cell_type": "code",
   "execution_count": 72,
   "metadata": {},
   "outputs": [
    {
     "data": {
      "text/html": [
       "<div>\n",
       "<style scoped>\n",
       "    .dataframe tbody tr th:only-of-type {\n",
       "        vertical-align: middle;\n",
       "    }\n",
       "\n",
       "    .dataframe tbody tr th {\n",
       "        vertical-align: top;\n",
       "    }\n",
       "\n",
       "    .dataframe thead th {\n",
       "        text-align: right;\n",
       "    }\n",
       "</style>\n",
       "<table border=\"1\" class=\"dataframe\">\n",
       "  <thead>\n",
       "    <tr style=\"text-align: right;\">\n",
       "      <th></th>\n",
       "      <th>0</th>\n",
       "      <th>1</th>\n",
       "    </tr>\n",
       "  </thead>\n",
       "  <tbody>\n",
       "    <tr>\n",
       "      <th>0</th>\n",
       "      <td>0.614199</td>\n",
       "      <td>0.385801</td>\n",
       "    </tr>\n",
       "    <tr>\n",
       "      <th>1</th>\n",
       "      <td>0.547511</td>\n",
       "      <td>0.452489</td>\n",
       "    </tr>\n",
       "    <tr>\n",
       "      <th>2</th>\n",
       "      <td>0.567159</td>\n",
       "      <td>0.432841</td>\n",
       "    </tr>\n",
       "    <tr>\n",
       "      <th>3</th>\n",
       "      <td>0.569397</td>\n",
       "      <td>0.430603</td>\n",
       "    </tr>\n",
       "    <tr>\n",
       "      <th>4</th>\n",
       "      <td>0.597276</td>\n",
       "      <td>0.402724</td>\n",
       "    </tr>\n",
       "    <tr>\n",
       "      <th>5</th>\n",
       "      <td>0.471974</td>\n",
       "      <td>0.528026</td>\n",
       "    </tr>\n",
       "    <tr>\n",
       "      <th>6</th>\n",
       "      <td>0.568247</td>\n",
       "      <td>0.431753</td>\n",
       "    </tr>\n",
       "    <tr>\n",
       "      <th>7</th>\n",
       "      <td>0.506640</td>\n",
       "      <td>0.493360</td>\n",
       "    </tr>\n",
       "    <tr>\n",
       "      <th>8</th>\n",
       "      <td>0.516836</td>\n",
       "      <td>0.483164</td>\n",
       "    </tr>\n",
       "    <tr>\n",
       "      <th>9</th>\n",
       "      <td>0.532096</td>\n",
       "      <td>0.467904</td>\n",
       "    </tr>\n",
       "    <tr>\n",
       "      <th>10</th>\n",
       "      <td>0.530591</td>\n",
       "      <td>0.469409</td>\n",
       "    </tr>\n",
       "    <tr>\n",
       "      <th>11</th>\n",
       "      <td>0.518311</td>\n",
       "      <td>0.481689</td>\n",
       "    </tr>\n",
       "    <tr>\n",
       "      <th>12</th>\n",
       "      <td>0.499249</td>\n",
       "      <td>0.500751</td>\n",
       "    </tr>\n",
       "    <tr>\n",
       "      <th>13</th>\n",
       "      <td>0.577944</td>\n",
       "      <td>0.422056</td>\n",
       "    </tr>\n",
       "    <tr>\n",
       "      <th>14</th>\n",
       "      <td>0.608793</td>\n",
       "      <td>0.391207</td>\n",
       "    </tr>\n",
       "    <tr>\n",
       "      <th>15</th>\n",
       "      <td>0.544427</td>\n",
       "      <td>0.455573</td>\n",
       "    </tr>\n",
       "    <tr>\n",
       "      <th>16</th>\n",
       "      <td>0.547281</td>\n",
       "      <td>0.452719</td>\n",
       "    </tr>\n",
       "    <tr>\n",
       "      <th>17</th>\n",
       "      <td>0.593641</td>\n",
       "      <td>0.406359</td>\n",
       "    </tr>\n",
       "    <tr>\n",
       "      <th>18</th>\n",
       "      <td>0.517342</td>\n",
       "      <td>0.482658</td>\n",
       "    </tr>\n",
       "    <tr>\n",
       "      <th>19</th>\n",
       "      <td>0.629768</td>\n",
       "      <td>0.370232</td>\n",
       "    </tr>\n",
       "    <tr>\n",
       "      <th>20</th>\n",
       "      <td>0.626807</td>\n",
       "      <td>0.373193</td>\n",
       "    </tr>\n",
       "    <tr>\n",
       "      <th>21</th>\n",
       "      <td>0.627530</td>\n",
       "      <td>0.372470</td>\n",
       "    </tr>\n",
       "    <tr>\n",
       "      <th>22</th>\n",
       "      <td>0.609263</td>\n",
       "      <td>0.390737</td>\n",
       "    </tr>\n",
       "    <tr>\n",
       "      <th>23</th>\n",
       "      <td>0.505372</td>\n",
       "      <td>0.494628</td>\n",
       "    </tr>\n",
       "    <tr>\n",
       "      <th>24</th>\n",
       "      <td>0.504954</td>\n",
       "      <td>0.495046</td>\n",
       "    </tr>\n",
       "    <tr>\n",
       "      <th>25</th>\n",
       "      <td>0.576903</td>\n",
       "      <td>0.423097</td>\n",
       "    </tr>\n",
       "    <tr>\n",
       "      <th>26</th>\n",
       "      <td>0.595816</td>\n",
       "      <td>0.404184</td>\n",
       "    </tr>\n",
       "    <tr>\n",
       "      <th>27</th>\n",
       "      <td>0.541121</td>\n",
       "      <td>0.458879</td>\n",
       "    </tr>\n",
       "    <tr>\n",
       "      <th>28</th>\n",
       "      <td>0.626709</td>\n",
       "      <td>0.373291</td>\n",
       "    </tr>\n",
       "    <tr>\n",
       "      <th>29</th>\n",
       "      <td>0.620330</td>\n",
       "      <td>0.379670</td>\n",
       "    </tr>\n",
       "    <tr>\n",
       "      <th>...</th>\n",
       "      <td>...</td>\n",
       "      <td>...</td>\n",
       "    </tr>\n",
       "    <tr>\n",
       "      <th>266019</th>\n",
       "      <td>0.518669</td>\n",
       "      <td>0.481331</td>\n",
       "    </tr>\n",
       "    <tr>\n",
       "      <th>266020</th>\n",
       "      <td>0.627536</td>\n",
       "      <td>0.372464</td>\n",
       "    </tr>\n",
       "    <tr>\n",
       "      <th>266021</th>\n",
       "      <td>0.576580</td>\n",
       "      <td>0.423420</td>\n",
       "    </tr>\n",
       "    <tr>\n",
       "      <th>266022</th>\n",
       "      <td>0.515935</td>\n",
       "      <td>0.484065</td>\n",
       "    </tr>\n",
       "    <tr>\n",
       "      <th>266023</th>\n",
       "      <td>0.589505</td>\n",
       "      <td>0.410495</td>\n",
       "    </tr>\n",
       "    <tr>\n",
       "      <th>266024</th>\n",
       "      <td>0.628785</td>\n",
       "      <td>0.371215</td>\n",
       "    </tr>\n",
       "    <tr>\n",
       "      <th>266025</th>\n",
       "      <td>0.626413</td>\n",
       "      <td>0.373587</td>\n",
       "    </tr>\n",
       "    <tr>\n",
       "      <th>266026</th>\n",
       "      <td>0.625719</td>\n",
       "      <td>0.374281</td>\n",
       "    </tr>\n",
       "    <tr>\n",
       "      <th>266027</th>\n",
       "      <td>0.606556</td>\n",
       "      <td>0.393444</td>\n",
       "    </tr>\n",
       "    <tr>\n",
       "      <th>266028</th>\n",
       "      <td>0.545833</td>\n",
       "      <td>0.454167</td>\n",
       "    </tr>\n",
       "    <tr>\n",
       "      <th>266029</th>\n",
       "      <td>0.607551</td>\n",
       "      <td>0.392449</td>\n",
       "    </tr>\n",
       "    <tr>\n",
       "      <th>266030</th>\n",
       "      <td>0.627973</td>\n",
       "      <td>0.372027</td>\n",
       "    </tr>\n",
       "    <tr>\n",
       "      <th>266031</th>\n",
       "      <td>0.627973</td>\n",
       "      <td>0.372027</td>\n",
       "    </tr>\n",
       "    <tr>\n",
       "      <th>266032</th>\n",
       "      <td>0.592036</td>\n",
       "      <td>0.407964</td>\n",
       "    </tr>\n",
       "    <tr>\n",
       "      <th>266033</th>\n",
       "      <td>0.628176</td>\n",
       "      <td>0.371824</td>\n",
       "    </tr>\n",
       "    <tr>\n",
       "      <th>266034</th>\n",
       "      <td>0.610876</td>\n",
       "      <td>0.389124</td>\n",
       "    </tr>\n",
       "    <tr>\n",
       "      <th>266035</th>\n",
       "      <td>0.469527</td>\n",
       "      <td>0.530473</td>\n",
       "    </tr>\n",
       "    <tr>\n",
       "      <th>266036</th>\n",
       "      <td>0.592956</td>\n",
       "      <td>0.407044</td>\n",
       "    </tr>\n",
       "    <tr>\n",
       "      <th>266037</th>\n",
       "      <td>0.499585</td>\n",
       "      <td>0.500415</td>\n",
       "    </tr>\n",
       "    <tr>\n",
       "      <th>266038</th>\n",
       "      <td>0.559425</td>\n",
       "      <td>0.440575</td>\n",
       "    </tr>\n",
       "    <tr>\n",
       "      <th>266039</th>\n",
       "      <td>0.493846</td>\n",
       "      <td>0.506154</td>\n",
       "    </tr>\n",
       "    <tr>\n",
       "      <th>266040</th>\n",
       "      <td>0.629726</td>\n",
       "      <td>0.370274</td>\n",
       "    </tr>\n",
       "    <tr>\n",
       "      <th>266041</th>\n",
       "      <td>0.628480</td>\n",
       "      <td>0.371520</td>\n",
       "    </tr>\n",
       "    <tr>\n",
       "      <th>266042</th>\n",
       "      <td>0.566175</td>\n",
       "      <td>0.433825</td>\n",
       "    </tr>\n",
       "    <tr>\n",
       "      <th>266043</th>\n",
       "      <td>0.611981</td>\n",
       "      <td>0.388019</td>\n",
       "    </tr>\n",
       "    <tr>\n",
       "      <th>266044</th>\n",
       "      <td>0.610678</td>\n",
       "      <td>0.389322</td>\n",
       "    </tr>\n",
       "    <tr>\n",
       "      <th>266045</th>\n",
       "      <td>0.601396</td>\n",
       "      <td>0.398604</td>\n",
       "    </tr>\n",
       "    <tr>\n",
       "      <th>266046</th>\n",
       "      <td>0.600073</td>\n",
       "      <td>0.399927</td>\n",
       "    </tr>\n",
       "    <tr>\n",
       "      <th>266047</th>\n",
       "      <td>0.626393</td>\n",
       "      <td>0.373607</td>\n",
       "    </tr>\n",
       "    <tr>\n",
       "      <th>266048</th>\n",
       "      <td>0.556616</td>\n",
       "      <td>0.443384</td>\n",
       "    </tr>\n",
       "  </tbody>\n",
       "</table>\n",
       "<p>266049 rows × 2 columns</p>\n",
       "</div>"
      ],
      "text/plain": [
       "               0         1\n",
       "0       0.614199  0.385801\n",
       "1       0.547511  0.452489\n",
       "2       0.567159  0.432841\n",
       "3       0.569397  0.430603\n",
       "4       0.597276  0.402724\n",
       "5       0.471974  0.528026\n",
       "6       0.568247  0.431753\n",
       "7       0.506640  0.493360\n",
       "8       0.516836  0.483164\n",
       "9       0.532096  0.467904\n",
       "10      0.530591  0.469409\n",
       "11      0.518311  0.481689\n",
       "12      0.499249  0.500751\n",
       "13      0.577944  0.422056\n",
       "14      0.608793  0.391207\n",
       "15      0.544427  0.455573\n",
       "16      0.547281  0.452719\n",
       "17      0.593641  0.406359\n",
       "18      0.517342  0.482658\n",
       "19      0.629768  0.370232\n",
       "20      0.626807  0.373193\n",
       "21      0.627530  0.372470\n",
       "22      0.609263  0.390737\n",
       "23      0.505372  0.494628\n",
       "24      0.504954  0.495046\n",
       "25      0.576903  0.423097\n",
       "26      0.595816  0.404184\n",
       "27      0.541121  0.458879\n",
       "28      0.626709  0.373291\n",
       "29      0.620330  0.379670\n",
       "...          ...       ...\n",
       "266019  0.518669  0.481331\n",
       "266020  0.627536  0.372464\n",
       "266021  0.576580  0.423420\n",
       "266022  0.515935  0.484065\n",
       "266023  0.589505  0.410495\n",
       "266024  0.628785  0.371215\n",
       "266025  0.626413  0.373587\n",
       "266026  0.625719  0.374281\n",
       "266027  0.606556  0.393444\n",
       "266028  0.545833  0.454167\n",
       "266029  0.607551  0.392449\n",
       "266030  0.627973  0.372027\n",
       "266031  0.627973  0.372027\n",
       "266032  0.592036  0.407964\n",
       "266033  0.628176  0.371824\n",
       "266034  0.610876  0.389124\n",
       "266035  0.469527  0.530473\n",
       "266036  0.592956  0.407044\n",
       "266037  0.499585  0.500415\n",
       "266038  0.559425  0.440575\n",
       "266039  0.493846  0.506154\n",
       "266040  0.629726  0.370274\n",
       "266041  0.628480  0.371520\n",
       "266042  0.566175  0.433825\n",
       "266043  0.611981  0.388019\n",
       "266044  0.610678  0.389322\n",
       "266045  0.601396  0.398604\n",
       "266046  0.600073  0.399927\n",
       "266047  0.626393  0.373607\n",
       "266048  0.556616  0.443384\n",
       "\n",
       "[266049 rows x 2 columns]"
      ]
     },
     "execution_count": 72,
     "metadata": {},
     "output_type": "execute_result"
    }
   ],
   "source": [
    "P"
   ]
  },
  {
   "cell_type": "code",
   "execution_count": 73,
   "metadata": {},
   "outputs": [],
   "source": [
    "# label predictions\n",
    "#pred = []\n",
    "#for i in P.index:\n",
    "    #for column in P:\n",
    "        #if P.loc[i,column] == max(P.loc[i,:].values):\n",
    "           #pred.append(column)"
   ]
  },
  {
   "cell_type": "markdown",
   "metadata": {},
   "source": [
    "Now we will write a function that will print out top 10 songs for a user"
   ]
  },
  {
   "cell_type": "code",
   "execution_count": 74,
   "metadata": {},
   "outputs": [],
   "source": [
    "def get_top_songs(user_id):\n",
    "    \n",
    "    # get songs user has listened to \n",
    "    listened_songs = train2_df[train2_df.user_id == user_id].song.unique()\n",
    "    \n",
    "    # get songs user has not listened to \n",
    "    songs = train2_df.drop(columns=['user_id','listen_count']).drop_duplicates('song')\n",
    "    not_listened = songs[~songs.song.isin(listened_songs)].drop(columns=['u1', 'u2', 'u3', 'u4', 'u5', 'u6', 'u7','label'])\n",
    "    not_listened['user_id'] = user_id\n",
    "    \n",
    "    # join user features and song features on songs not listened to\n",
    "    not_listened_df = not_listened.merge(user_factors, on = 'user_id')\n",
    "    \n",
    "    # run classifier on songs not listened to\n",
    "    #pred = xgb.predict_proba(not_listened_df[['acousticness', 'danceability',\n",
    "       #'duration_ms', 'energy', 'instrumentalness', 'key', 'liveness',\n",
    "       #'loudness', 'mode', 'speechiness', 'tempo', 'time_signature','valence','s1', 's2', 's3', 's4', 's5','s6','s7', 'u1','u2','u3','u4','u5','u6','u7']])\n",
    "    \n",
    "    # add probabilities of belonging to class 'one_plus'\n",
    "    not_listened_df['pred']= P.iloc[:,1]\n",
    "    \n",
    "    # get top 10 predictions\n",
    "    top_pred = not_listened_df.sort_values(by ='pred', ascending=False).head(5)\n",
    "    return top_pred[['song_id', 'song', 'pred']]"
   ]
  },
  {
   "cell_type": "code",
   "execution_count": 75,
   "metadata": {
    "scrolled": true
   },
   "outputs": [
    {
     "data": {
      "text/html": [
       "<div>\n",
       "<style scoped>\n",
       "    .dataframe tbody tr th:only-of-type {\n",
       "        vertical-align: middle;\n",
       "    }\n",
       "\n",
       "    .dataframe tbody tr th {\n",
       "        vertical-align: top;\n",
       "    }\n",
       "\n",
       "    .dataframe thead th {\n",
       "        text-align: right;\n",
       "    }\n",
       "</style>\n",
       "<table border=\"1\" class=\"dataframe\">\n",
       "  <thead>\n",
       "    <tr style=\"text-align: right;\">\n",
       "      <th></th>\n",
       "      <th>song_id</th>\n",
       "      <th>song</th>\n",
       "      <th>pred</th>\n",
       "    </tr>\n",
       "  </thead>\n",
       "  <tbody>\n",
       "    <tr>\n",
       "      <th>5164</th>\n",
       "      <td>SOXWHJD12AB018606C</td>\n",
       "      <td>The Lighter - DJ SS</td>\n",
       "      <td>0.534587</td>\n",
       "    </tr>\n",
       "    <tr>\n",
       "      <th>5190</th>\n",
       "      <td>SOWUJUZ12AB017F3E4</td>\n",
       "      <td>Always - Atlantic Starr</td>\n",
       "      <td>0.534587</td>\n",
       "    </tr>\n",
       "    <tr>\n",
       "      <th>5309</th>\n",
       "      <td>SOMMHHP12AB017E3E1</td>\n",
       "      <td>Dead Horse - Guns N' Roses</td>\n",
       "      <td>0.534587</td>\n",
       "    </tr>\n",
       "    <tr>\n",
       "      <th>5210</th>\n",
       "      <td>SOJUKCL12A6D4F7DF7</td>\n",
       "      <td>MOSKAU - Rammstein</td>\n",
       "      <td>0.534587</td>\n",
       "    </tr>\n",
       "    <tr>\n",
       "      <th>5119</th>\n",
       "      <td>SOBZYGP12AB0182B29</td>\n",
       "      <td>The Story I Heard - Blind Pilot</td>\n",
       "      <td>0.534412</td>\n",
       "    </tr>\n",
       "  </tbody>\n",
       "</table>\n",
       "</div>"
      ],
      "text/plain": [
       "                 song_id                             song      pred\n",
       "5164  SOXWHJD12AB018606C              The Lighter - DJ SS  0.534587\n",
       "5190  SOWUJUZ12AB017F3E4          Always - Atlantic Starr  0.534587\n",
       "5309  SOMMHHP12AB017E3E1       Dead Horse - Guns N' Roses  0.534587\n",
       "5210  SOJUKCL12A6D4F7DF7               MOSKAU - Rammstein  0.534587\n",
       "5119  SOBZYGP12AB0182B29  The Story I Heard - Blind Pilot  0.534412"
      ]
     },
     "execution_count": 75,
     "metadata": {},
     "output_type": "execute_result"
    }
   ],
   "source": [
    "get_top_songs('f1ccb26d0d49490016747f6592e6f7b1e53a9e54')"
   ]
  },
  {
   "cell_type": "code",
   "execution_count": 76,
   "metadata": {},
   "outputs": [
    {
     "data": {
      "text/html": [
       "<div>\n",
       "<style scoped>\n",
       "    .dataframe tbody tr th:only-of-type {\n",
       "        vertical-align: middle;\n",
       "    }\n",
       "\n",
       "    .dataframe tbody tr th {\n",
       "        vertical-align: top;\n",
       "    }\n",
       "\n",
       "    .dataframe thead th {\n",
       "        text-align: right;\n",
       "    }\n",
       "</style>\n",
       "<table border=\"1\" class=\"dataframe\">\n",
       "  <thead>\n",
       "    <tr style=\"text-align: right;\">\n",
       "      <th></th>\n",
       "      <th>song</th>\n",
       "      <th>listen_count</th>\n",
       "      <th>label</th>\n",
       "    </tr>\n",
       "  </thead>\n",
       "  <tbody>\n",
       "    <tr>\n",
       "      <th>1323</th>\n",
       "      <td>Sweet home Alabama - Lynyrd Skynyrd</td>\n",
       "      <td>11</td>\n",
       "      <td>one_plus</td>\n",
       "    </tr>\n",
       "    <tr>\n",
       "      <th>989</th>\n",
       "      <td>Woods - Bon Iver</td>\n",
       "      <td>6</td>\n",
       "      <td>one_plus</td>\n",
       "    </tr>\n",
       "    <tr>\n",
       "      <th>1841</th>\n",
       "      <td>Who Can Compare - Foolish Things</td>\n",
       "      <td>6</td>\n",
       "      <td>one_plus</td>\n",
       "    </tr>\n",
       "    <tr>\n",
       "      <th>1196</th>\n",
       "      <td>Lonelily - Damien Rice</td>\n",
       "      <td>4</td>\n",
       "      <td>one_plus</td>\n",
       "    </tr>\n",
       "    <tr>\n",
       "      <th>2459</th>\n",
       "      <td>Over You - Roxy Music</td>\n",
       "      <td>4</td>\n",
       "      <td>one_plus</td>\n",
       "    </tr>\n",
       "    <tr>\n",
       "      <th>862</th>\n",
       "      <td>Cannonball - Damien Rice</td>\n",
       "      <td>4</td>\n",
       "      <td>one_plus</td>\n",
       "    </tr>\n",
       "    <tr>\n",
       "      <th>812</th>\n",
       "      <td>Cheers Darlin' - Damien Rice</td>\n",
       "      <td>4</td>\n",
       "      <td>one_plus</td>\n",
       "    </tr>\n",
       "    <tr>\n",
       "      <th>1027</th>\n",
       "      <td>Amie - Damien Rice</td>\n",
       "      <td>3</td>\n",
       "      <td>one_plus</td>\n",
       "    </tr>\n",
       "    <tr>\n",
       "      <th>1288</th>\n",
       "      <td>The Lighthouse's Tale - Nickel Creek</td>\n",
       "      <td>3</td>\n",
       "      <td>one_plus</td>\n",
       "    </tr>\n",
       "    <tr>\n",
       "      <th>1706</th>\n",
       "      <td>Older Chests - Damien Rice</td>\n",
       "      <td>3</td>\n",
       "      <td>one_plus</td>\n",
       "    </tr>\n",
       "    <tr>\n",
       "      <th>1106</th>\n",
       "      <td>I Remember - Damien Rice</td>\n",
       "      <td>2</td>\n",
       "      <td>one_plus</td>\n",
       "    </tr>\n",
       "    <tr>\n",
       "      <th>31</th>\n",
       "      <td>You've Got The Love - Florence + The Machine</td>\n",
       "      <td>2</td>\n",
       "      <td>one_plus</td>\n",
       "    </tr>\n",
       "    <tr>\n",
       "      <th>2400</th>\n",
       "      <td>Beach Baby - Bon Iver</td>\n",
       "      <td>2</td>\n",
       "      <td>one_plus</td>\n",
       "    </tr>\n",
       "    <tr>\n",
       "      <th>0</th>\n",
       "      <td>Grey Room - Damien Rice</td>\n",
       "      <td>2</td>\n",
       "      <td>one_plus</td>\n",
       "    </tr>\n",
       "    <tr>\n",
       "      <th>1152</th>\n",
       "      <td>The End - Pearl Jam</td>\n",
       "      <td>1</td>\n",
       "      <td>one</td>\n",
       "    </tr>\n",
       "    <tr>\n",
       "      <th>1243</th>\n",
       "      <td>Johnny Guitar - Pearl Jam</td>\n",
       "      <td>1</td>\n",
       "      <td>one</td>\n",
       "    </tr>\n",
       "    <tr>\n",
       "      <th>1674</th>\n",
       "      <td>When In Rome - Nickel Creek</td>\n",
       "      <td>1</td>\n",
       "      <td>one</td>\n",
       "    </tr>\n",
       "    <tr>\n",
       "      <th>1745</th>\n",
       "      <td>Hardest Of Hearts - Florence + The Machine</td>\n",
       "      <td>1</td>\n",
       "      <td>one</td>\n",
       "    </tr>\n",
       "    <tr>\n",
       "      <th>790</th>\n",
       "      <td>Dogs - Damien Rice</td>\n",
       "      <td>1</td>\n",
       "      <td>one</td>\n",
       "    </tr>\n",
       "  </tbody>\n",
       "</table>\n",
       "</div>"
      ],
      "text/plain": [
       "                                              song  listen_count     label\n",
       "1323           Sweet home Alabama - Lynyrd Skynyrd            11  one_plus\n",
       "989                               Woods - Bon Iver             6  one_plus\n",
       "1841              Who Can Compare - Foolish Things             6  one_plus\n",
       "1196                        Lonelily - Damien Rice             4  one_plus\n",
       "2459                         Over You - Roxy Music             4  one_plus\n",
       "862                       Cannonball - Damien Rice             4  one_plus\n",
       "812                   Cheers Darlin' - Damien Rice             4  one_plus\n",
       "1027                            Amie - Damien Rice             3  one_plus\n",
       "1288          The Lighthouse's Tale - Nickel Creek             3  one_plus\n",
       "1706                    Older Chests - Damien Rice             3  one_plus\n",
       "1106                      I Remember - Damien Rice             2  one_plus\n",
       "31    You've Got The Love - Florence + The Machine             2  one_plus\n",
       "2400                         Beach Baby - Bon Iver             2  one_plus\n",
       "0                          Grey Room - Damien Rice             2  one_plus\n",
       "1152                           The End - Pearl Jam             1       one\n",
       "1243                     Johnny Guitar - Pearl Jam             1       one\n",
       "1674                   When In Rome - Nickel Creek             1       one\n",
       "1745    Hardest Of Hearts - Florence + The Machine             1       one\n",
       "790                             Dogs - Damien Rice             1       one"
      ]
     },
     "execution_count": 76,
     "metadata": {},
     "output_type": "execute_result"
    }
   ],
   "source": [
    "train2_df[train2_df.user_id == 'f1ccb26d0d49490016747f6592e6f7b1e53a9e54'].sort_values(by='listen_count', ascending=False)[['song','listen_count','label']]"
   ]
  },
  {
   "cell_type": "code",
   "execution_count": null,
   "metadata": {},
   "outputs": [],
   "source": []
  }
 ],
 "metadata": {
  "kernelspec": {
   "display_name": "Python 3",
   "language": "python",
   "name": "python3"
  },
  "language_info": {
   "codemirror_mode": {
    "name": "ipython",
    "version": 3
   },
   "file_extension": ".py",
   "mimetype": "text/x-python",
   "name": "python",
   "nbconvert_exporter": "python",
   "pygments_lexer": "ipython3",
   "version": "3.7.1"
  }
 },
 "nbformat": 4,
 "nbformat_minor": 2
}
